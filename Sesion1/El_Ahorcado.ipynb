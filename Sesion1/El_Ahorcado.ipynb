{
  "nbformat": 4,
  "nbformat_minor": 0,
  "metadata": {
    "colab": {
      "name": "El_Ahorcado.ipynb",
      "provenance": [],
      "include_colab_link": true
    },
    "kernelspec": {
      "name": "python3",
      "display_name": "Python 3"
    }
  },
  "cells": [
    {
      "cell_type": "markdown",
      "metadata": {
        "id": "view-in-github",
        "colab_type": "text"
      },
      "source": [
        "<a href=\"https://colab.research.google.com/github/garestrear/Curso_de_Python/blob/master/El_Ahorcado.ipynb\" target=\"_parent\"><img src=\"https://colab.research.google.com/assets/colab-badge.svg\" alt=\"Open In Colab\"/></a>"
      ]
    },
    {
      "cell_type": "code",
      "metadata": {
        "id": "_VrPP-1sWsO_",
        "colab_type": "code",
        "colab": {}
      },
      "source": [
        "# Importamos el módulo time\n",
        "import time\n",
        "\n",
        "# Bienvenida para el usuario.\n",
        "nombre = input(\"Cual es tu nombre? \")\n",
        "\n",
        "print(\"Hola, \" + nombre, \"Vamos a jugar al ahorcado!\")\n",
        "\n",
        "print(\" \")\n",
        "\n",
        "# Hacemos una pausa de un segundo.\n",
        "time.sleep(1)\n",
        "\n",
        "print(\"Empecemos a adivinar...\")\n",
        "time.sleep(0.5)\n",
        "\n",
        "# Aqui escondemos la palabra.\n",
        "palabra = \"python\"\n",
        "\n",
        "# Creamos una variable con una cadena vacia\n",
        "aciertos = ''\n",
        "\n",
        "# Determinamos el numero de turnos\n",
        "turnos = 10\n",
        "\n",
        "# Creamos un loop while\n",
        "\n",
        "# Revisamos que los turnos sean mayores que cero.\n",
        "while turnos > 0:         \n",
        "\n",
        "    # Empezamos a contar el numero de fallas\n",
        "    fallas = 0             \n",
        "\n",
        "    # Para toda letra en la palabra secreta   \n",
        "    for letra in palabra:      \n",
        "\n",
        "    # Vemos si la letra esta dentro de las que el jugardor ya adivino\n",
        "        if letra in aciertos:    \n",
        "    \n",
        "        # Imprimimos la letra\n",
        "            print(letra, end= '')    \n",
        "\n",
        "        else:\n",
        "    \n",
        "        # Sino ponemos un guion bajo.\n",
        "            print(\" _ \", end= '')\n",
        "       \n",
        "        # e incrementamos el numero de fallas\n",
        "            fallas += 1    \n",
        "\n",
        "    # Si las fallas son iguales a cero\n",
        "\n",
        "    # Imprimimos que el usuario gano.\n",
        "    if fallas == 0:\n",
        "        print(\" \")      \n",
        "        print(\"Ganaste!\")\n",
        "\n",
        "    # Terminamos el programa\n",
        "        break              \n",
        "\n",
        "    print(\"\")\n",
        "\n",
        "    # Le pedimos al usuario adivinar una letra\n",
        "    letra = input(\"Adivina una letra:\") \n",
        "\n",
        "    # Agregamos la letra a los aciertos\n",
        "    aciertos += letra                    \n",
        "\n",
        "    # Si la letra no esta en la palabra secreta\n",
        "    if letra not in palabra:  \n",
        " \n",
        "     # Hacemos que pierna un turno 1 (ahora 9)\n",
        "        turnos -= 1        \n",
        " \n",
        "    # Imprimimos error\n",
        "        print(\" \")\n",
        "        print(\"Error.\")    \n",
        " \n",
        "    # Le mostramos al usuario cuantos turnos le quedan\n",
        "        print(\"Tienes\", + turnos, 'turnos mas.')\n",
        " \n",
        "    # Si los turnos se acaban\n",
        "        if turnos == 0:           \n",
        "    \n",
        "        # Imprimimos que perdió.\n",
        "            print(\" \")\n",
        "            print(\"Perdiste.\")"
      ],
      "execution_count": null,
      "outputs": []
    },
    {
      "cell_type": "code",
      "metadata": {
        "id": "RrKuE3SEWxQN",
        "colab_type": "code",
        "colab": {}
      },
      "source": [
        ""
      ],
      "execution_count": null,
      "outputs": []
    }
  ]
}
