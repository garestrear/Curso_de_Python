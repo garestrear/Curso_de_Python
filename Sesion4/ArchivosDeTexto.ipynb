{
  "nbformat": 4,
  "nbformat_minor": 0,
  "metadata": {
    "colab": {
      "name": "ArchivosDeTexto",
      "provenance": [],
      "include_colab_link": true
    },
    "kernelspec": {
      "name": "python3",
      "display_name": "Python 3"
    }
  },
  "cells": [
    {
      "cell_type": "markdown",
      "metadata": {
        "id": "view-in-github",
        "colab_type": "text"
      },
      "source": [
        "<a href=\"https://colab.research.google.com/github/garestrear/Curso_de_Python/blob/master/Sesion4/ArchivosDeTexto.ipynb\" target=\"_parent\"><img src=\"https://colab.research.google.com/assets/colab-badge.svg\" alt=\"Open In Colab\"/></a>"
      ]
    },
    {
      "cell_type": "markdown",
      "metadata": {
        "id": "5JKoDEBLU-37",
        "colab_type": "text"
      },
      "source": [
        "<h1> Creando un archivo de texto </h1>\n",
        "\n",
        "La sintaxis para crear un archivo de texto en python es la siguiente:\n",
        "\n",
        "```\n",
        "archivo = open('nombre_del_archivo.txt', 'modo')\n",
        "```\n",
        "el argumento `modo` le dice  a python de qué manera usaremos `archivo`\n",
        "\n",
        "Cuando reemplazamos `mode` por:\n",
        "\n",
        "*   `r`: significa que el archivo sólo sera leído (read)\n",
        "*   `w`: significa que se escribirá en el archivo (write). Además si existe cualquier otro archivo con el mismo nombre este será eliminado.\n",
        "* `rb`: significa que el archivo sólo será leído (read) y que es un archivo binario (es decir que el computador lo puede leer, pero no un humano).\n",
        "* `wb` significa que abrirá el archivo para escribir en formato binario. \n",
        "\n",
        "Cuando escribimos `archivo.write('Frase que deseo escribir')` en efecto estamos escribiendo en nuestro archivo. Inténtalo completando la siguiente celda de código:"
      ]
    },
    {
      "cell_type": "code",
      "metadata": {
        "id": "lKZXxnagVxFU",
        "colab_type": "code",
        "colab": {}
      },
      "source": [
        "archivo = open('-------.txt', 'w')\n",
        "archivo.write('-------')"
      ],
      "execution_count": null,
      "outputs": []
    },
    {
      "cell_type": "markdown",
      "metadata": {
        "id": "L76WBUnKbAxV",
        "colab_type": "text"
      },
      "source": [
        "Una vez hayas ejecutado la celda de código anterior habrás creado un archivo de texto y escrito en este. Sin embargo no lo has cerrado, entonces por supuesto puedes seguir escribiendo\n",
        "`archivo.write('sigamos escribiendo')`\n",
        "\n",
        "Pero no cerrar un archivo de estos en el futuro podría significar que vas a tener \"problemas\":\n",
        "\n",
        "*   Poner tu programa lento,\n",
        "*   Utilizar demasiada memoria RAM, ...\n",
        "\n",
        "Así que cerrar los archivos es considerado una buena práctica y la sintaxis para esto es:\n",
        "`archivo.close()`\n",
        "\n",
        "Ahora, existen los llamados *context managers* que se utilizan para devolver recursos (como liberar memoria RAM si es que no cerraste tu archivo).\n",
        "\n",
        "Con el context manager `with` puedes hacer lo mismo de arriba sin tener que preocuparte de cerrar el archivo (lo hace por ti), la sintaxis es la siguiente:\n",
        "\n",
        "```\n",
        "with open('nombre_del_archivo.txt', 'w') as archivo:\n",
        "    archivo.write('Frase que deseo escribir')\n",
        "```\n"
      ]
    },
    {
      "cell_type": "markdown",
      "metadata": {
        "id": "k74eAaK-i7wE",
        "colab_type": "text"
      },
      "source": [
        "Ahora, si te dan un archivo de texto ¿cómo ves lo que hay escrito allí?\n",
        "\n",
        "Bueno, la sintaxis en la siguiente:\n",
        "\n",
        "\n",
        "\n",
        "```\n",
        "with open('nombre_del_archivo.txt', 'r') as archivo:\n",
        "  print(archivo.read())\n",
        "```"
      ]
    },
    {
      "cell_type": "markdown",
      "metadata": {
        "id": "f8es4BtHkr_W",
        "colab_type": "text"
      },
      "source": [
        "Carga el archivo `TheZenOfPython.txt` a tu colab:\n",
        "\n",
        "\n",
        "![image.png](data:image/png;base64,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)\n",
        "\n",
        "Lo encuentras en [The Zen of Python](https://github.com/garestrear/Curso_de_Python/blob/master/Sesion5/TheZenOfPython.txt)\n",
        "\n",
        "Y ejecuta la siguiente celda de código.\n",
        "\n"
      ]
    },
    {
      "cell_type": "code",
      "metadata": {
        "id": "ktq49cDnjFTa",
        "colab_type": "code",
        "colab": {}
      },
      "source": [
        "with open('TheZenOfPython.txt', 'r') as archivo:\n",
        "  print(archivo.read())"
      ],
      "execution_count": null,
      "outputs": []
    }
  ]
}