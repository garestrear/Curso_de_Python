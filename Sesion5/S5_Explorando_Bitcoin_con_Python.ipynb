{
  "nbformat": 4,
  "nbformat_minor": 0,
  "metadata": {
    "colab": {
      "name": "S5_Explorando Bitcoin con Python.ipynb",
      "provenance": [],
      "collapsed_sections": [],
      "include_colab_link": true
    },
    "kernelspec": {
      "name": "python3",
      "display_name": "Python 3"
    }
  },
  "cells": [
    {
      "cell_type": "markdown",
      "metadata": {
        "id": "view-in-github",
        "colab_type": "text"
      },
      "source": [
        "<a href=\"https://colab.research.google.com/github/garestrear/Curso_de_Python/blob/master/Sesion5/S5_Explorando_Bitcoin_con_Python.ipynb\" target=\"_parent\"><img src=\"https://colab.research.google.com/assets/colab-badge.svg\" alt=\"Open In Colab\"/></a>"
      ]
    },
    {
      "cell_type": "markdown",
      "metadata": {
        "id": "PHmxGGem-63I",
        "colab_type": "text"
      },
      "source": [
        "![texto alternativo](https://raw.githubusercontent.com/garestrear/Curso_de_Python/master/Sesion5/S5_Bitcoin.png)"
      ]
    },
    {
      "cell_type": "markdown",
      "metadata": {
        "id": "mfeftQpI01-0",
        "colab_type": "text"
      },
      "source": [
        "#**Sesión 5 Bitcoin**\n",
        "\n",
        "Hola Ninja, en esta clase aprenderás, de manera general, como funciona la red de Bitcoin y como extraer información usando Python.  "
      ]
    },
    {
      "cell_type": "markdown",
      "metadata": {
        "id": "H-AKP8mP4JUS",
        "colab_type": "text"
      },
      "source": [
        "##**Sistema monetario digital**\n",
        "\n",
        "¿Qué es?\n",
        "\n",
        "Un sistema montetario es  un conjunto de reglas, procedimientos e instituciones mediante los cuales se crea dinero en una economía. El dinero sirve como medio de pago (de intercambio) por cualquier bien o servicio. El tipo más común de sistema monetario actualmente es  el basado en dinero fiduciario (Piense en el peso colombiano, dolar americano, ...).\n",
        "\n",
        "Un sitema monetario **digital** es un sistema donde el dinero es electrónico (o digital). El dinero electrónico no tiene una unidad física y su uso es mediante el intercambio de bits (no de billetes).\n",
        "\n",
        "\n",
        "Mayor reto: **doble gasto**\n",
        "\n",
        "El problema del doble gasto se refiere a la posibilidad de gastar más de una vez el dinero digital (los mismos bits). Si es posible crear esta moneda digital, se podrían crear copias con el fin de gastar el mismo dinero más de una vez. Este problema, en apariencia sencillo, en el gran reto de cualquier sistema monetario digital."
      ]
    },
    {
      "cell_type": "markdown",
      "metadata": {
        "id": "qUxOIgQk3JJ4",
        "colab_type": "text"
      },
      "source": [
        "##**Centralizado**\n",
        "\n",
        "En un sistema centralizado existe una autoridad central que administra y controla todo el sistema. \n",
        "Propiedades:\n",
        "- La autoridad central administra los datos de todos los usuarios. \n",
        "- Todas las transacciones son registradas y almacenadas.\n",
        "- Costos por transacción y administración en el sistema monetario.\n",
        "\n",
        "Problemas: \n",
        "- Riesgos de exposición de datos de los usuarios.\n",
        "- Riesgos de corrupción de la autoridad central. \n",
        "\n",
        "Dado que hay un administrador central de toda la información, éste se encarga de registrar todas las transacciones del sistema y llevar registro de ellas. De ésta manera evita el doble gasto.\n",
        "**Doble gasto**\n"
      ]
    },
    {
      "cell_type": "markdown",
      "metadata": {
        "id": "41LO4bh-J_ua",
        "colab_type": "text"
      },
      "source": [
        "**Sistema centralizado vs descentralizado**\n",
        "\n",
        "![texto alternativo](https://raw.githubusercontent.com/garestrear/Curso_de_Python/master/Sesion5/centralization_vs_decentralization-smaller.png)"
      ]
    },
    {
      "cell_type": "markdown",
      "metadata": {
        "id": "xvocCReu5jsU",
        "colab_type": "text"
      },
      "source": [
        "##**Descentralizado**\n",
        "\n",
        "En un sistema descentralizado son los mismos usuarios del sistema monetario quienes emiten el dinero y controlan las transacciones en el sistema. \n",
        "\n",
        "Propiedades:\n",
        "- Usa técnicas criptográficas para velar por la seguridad del sistema.\n",
        "- Menores costos por transacción.\n",
        "- Menores riesgos de corrupción dentro del sistema.\n",
        "\n",
        "Problemas:\n",
        "- Alta volatilidad en el precio de las criptomonedas.\n",
        "- La naturaleza de algunas criptomonedas se presta para transacciones ilegales.\n",
        "\n",
        "Reto principal: **Como evitar el doble doble gasto**\n",
        "\n",
        "En en caso del Bitcoin existe algo como un \"libro contable\" público y descentralizado. Dado que el \"libro contable\" es público cada transacción es verificada por los mismos usarios del sistema. Al libro contable se le llama cadena de bloques (**blockchain**)."
      ]
    },
    {
      "cell_type": "markdown",
      "metadata": {
        "id": "enIDgswq570v",
        "colab_type": "text"
      },
      "source": [
        "#**Bitcoin:Primera solución pública y eficiente al problema de doble gasto.**\n",
        "\n",
        "<center> <img src=\"https://raw.githubusercontent.com/garestrear/Curso_de_Python/master/Sesion5/S6_white_paper.png\" width=\"700\" height=\"500\" align=\"center\"/></center>"
      ]
    },
    {
      "cell_type": "code",
      "metadata": {
        "id": "xHjnC5pVSH8t",
        "colab_type": "code",
        "colab": {
          "base_uri": "https://localhost:8080/",
          "height": 218
        },
        "outputId": "ec9379ba-a04c-41bb-9cc3-616cdbd18433"
      },
      "source": [
        "!pip install blockchain"
      ],
      "execution_count": 1,
      "outputs": [
        {
          "output_type": "stream",
          "text": [
            "Collecting blockchain\n",
            "  Downloading https://files.pythonhosted.org/packages/0b/85/ca826affaeaad16506d3b19525f18cf18de394d52d4a9e645ef7dc9d59a2/blockchain-1.4.4.tar.gz\n",
            "Collecting enum-compat\n",
            "  Downloading https://files.pythonhosted.org/packages/55/ae/467bc4509246283bb59746e21a1a2f5a8aecbef56b1fa6eaca78cd438c8b/enum_compat-0.0.3-py3-none-any.whl\n",
            "Requirement already satisfied: future in /usr/local/lib/python3.6/dist-packages (from blockchain) (0.16.0)\n",
            "Building wheels for collected packages: blockchain\n",
            "  Building wheel for blockchain (setup.py) ... \u001b[?25l\u001b[?25hdone\n",
            "  Created wheel for blockchain: filename=blockchain-1.4.4-cp36-none-any.whl size=11511 sha256=57462def3ff60286d1df40831a161d667441187bb7d5353a868c039af5be2f22\n",
            "  Stored in directory: /root/.cache/pip/wheels/6e/d9/4f/65e76bdafa4f3a950c679c9d999664c604b33077b0a9d014e8\n",
            "Successfully built blockchain\n",
            "Installing collected packages: enum-compat, blockchain\n",
            "Successfully installed blockchain-1.4.4 enum-compat-0.0.3\n"
          ],
          "name": "stdout"
        }
      ]
    },
    {
      "cell_type": "code",
      "metadata": {
        "id": "RJicjkXiRlbz",
        "colab_type": "code",
        "colab": {
          "base_uri": "https://localhost:8080/",
          "height": 34
        },
        "outputId": "bed276b5-fd82-4303-a3e9-a61276d49f4a"
      },
      "source": [
        "import blockchain\n",
        "from blockchain import exchangerates\n",
        "# Obtener precio de un Bitcoin en varias monedas\n",
        "ticker = exchangerates.get_ticker()\n",
        "#Precio actual de un Bitcoin en dolares norteamericanos \n",
        "#print(ticker['USD'])\n",
        "ticker['USD'].p15min"
      ],
      "execution_count": 2,
      "outputs": [
        {
          "output_type": "execute_result",
          "data": {
            "text/plain": [
              "11580.54"
            ]
          },
          "metadata": {
            "tags": []
          },
          "execution_count": 2
        }
      ]
    },
    {
      "cell_type": "markdown",
      "metadata": {
        "id": "9pTj8LcFMu44",
        "colab_type": "text"
      },
      "source": [
        "Esto también arroja el precio (no sé cual es la diferencia)"
      ]
    },
    {
      "cell_type": "code",
      "metadata": {
        "id": "6UZfwaknM0KD",
        "colab_type": "code",
        "colab": {
          "base_uri": "https://localhost:8080/",
          "height": 34
        },
        "outputId": "dd150e0d-2388-4497-f80e-2fb5d25d7c45"
      },
      "source": [
        "#dir(ticker['USD'])\n",
        "ticker['USD'].sell"
      ],
      "execution_count": null,
      "outputs": [
        {
          "output_type": "execute_result",
          "data": {
            "text/plain": [
              "11629.06"
            ]
          },
          "metadata": {
            "tags": []
          },
          "execution_count": 4
        }
      ]
    },
    {
      "cell_type": "markdown",
      "metadata": {
        "id": "AOoaxKsWFlaj",
        "colab_type": "text"
      },
      "source": [
        "**Ejercicio:** Defina una función que tome una cantidad de Bitcoins y regrese su valor en pesos colombianos y en pesos mexicanos.\n",
        "- Un dolar equivale a 3760 colombianos.\n",
        "- Un dolar equivale a 22 mexicanos."
      ]
    },
    {
      "cell_type": "code",
      "metadata": {
        "id": "yCnXFXR_Gq0t",
        "colab_type": "code",
        "colab": {}
      },
      "source": [
        "##  Defina una función convertir() que toma n Bitcoins y devuelve el valor en pesos colombianos y mexicanos\n",
        "B = ticker['USD'].p15min  ## B es el precio de un Bitcoin en dólares gringos \n",
        "def convertir(__):\n",
        "  \"\"\" Convertimos b Bitcoins a pesos colombianos y mexicanos \"\"\"\n",
        "  c = _____  ## valor de n bitcoins en pesos colombianos \n",
        "  m = _____  ## valor de n bitcoins en pesos mexicanos \n",
        "  print(___, ' Bitcoins equivalen a ', c, ' colombianos y ', m, ' mexicanos.')\n",
        "convertir(2) ## Da el precio de 2 Bitcoins en pesos colombianos y mexicanos +"
      ],
      "execution_count": null,
      "outputs": []
    },
    {
      "cell_type": "markdown",
      "metadata": {
        "id": "_qQ9EuWUc1PR",
        "colab_type": "text"
      },
      "source": [
        "##**1. Función Hash (Criptográfica)**\n",
        "\n",
        "En términos generales, una **función hash** es una función $h$ que transfoma cualquier secuencia de ceros y unos en una secuencia de longitud fija. Esta funcón se dice además *criptográfica*, si es computacionalmente inviable encontrar dos sequencias $x_1$, $x_2$ tales que $h(x_1) = h(x_2)$.\n",
        "\n",
        "Una hash usada en Bitcoin es **SHA-256** (Secure Hash Algorithm)\n",
        "\n",
        "**SHA-256** arroja sequencias de longitud 256 (en bits).\n",
        "\n",
        "\n",
        "**Tu turno:** Instala las librerias `pycrypto` y `bitstring`."
      ]
    },
    {
      "cell_type": "code",
      "metadata": {
        "id": "nHdlsUR1UG3p",
        "colab_type": "code",
        "colab": {
          "base_uri": "https://localhost:8080/",
          "height": 84
        },
        "outputId": "d6b0eb12-451a-43c2-97aa-66beb05fa11e"
      },
      "source": [
        "!pip install -q pycrypto\n",
        "!pip install -q bitstring"
      ],
      "execution_count": 3,
      "outputs": [
        {
          "output_type": "stream",
          "text": [
            "\u001b[?25l\r\u001b[K     |▊                               | 10kB 21.4MB/s eta 0:00:01\r\u001b[K     |█▌                              | 20kB 1.7MB/s eta 0:00:01\r\u001b[K     |██▏                             | 30kB 2.3MB/s eta 0:00:01\r\u001b[K     |███                             | 40kB 2.6MB/s eta 0:00:01\r\u001b[K     |███▊                            | 51kB 2.0MB/s eta 0:00:01\r\u001b[K     |████▍                           | 61kB 2.2MB/s eta 0:00:01\r\u001b[K     |█████▏                          | 71kB 2.5MB/s eta 0:00:01\r\u001b[K     |█████▉                          | 81kB 2.8MB/s eta 0:00:01\r\u001b[K     |██████▋                         | 92kB 2.9MB/s eta 0:00:01\r\u001b[K     |███████▍                        | 102kB 2.8MB/s eta 0:00:01\r\u001b[K     |████████                        | 112kB 2.8MB/s eta 0:00:01\r\u001b[K     |████████▉                       | 122kB 2.8MB/s eta 0:00:01\r\u001b[K     |█████████▌                      | 133kB 2.8MB/s eta 0:00:01\r\u001b[K     |██████████▎                     | 143kB 2.8MB/s eta 0:00:01\r\u001b[K     |███████████                     | 153kB 2.8MB/s eta 0:00:01\r\u001b[K     |███████████▊                    | 163kB 2.8MB/s eta 0:00:01\r\u001b[K     |████████████▌                   | 174kB 2.8MB/s eta 0:00:01\r\u001b[K     |█████████████▏                  | 184kB 2.8MB/s eta 0:00:01\r\u001b[K     |██████████████                  | 194kB 2.8MB/s eta 0:00:01\r\u001b[K     |██████████████▊                 | 204kB 2.8MB/s eta 0:00:01\r\u001b[K     |███████████████▍                | 215kB 2.8MB/s eta 0:00:01\r\u001b[K     |████████████████▏               | 225kB 2.8MB/s eta 0:00:01\r\u001b[K     |█████████████████               | 235kB 2.8MB/s eta 0:00:01\r\u001b[K     |█████████████████▋              | 245kB 2.8MB/s eta 0:00:01\r\u001b[K     |██████████████████▍             | 256kB 2.8MB/s eta 0:00:01\r\u001b[K     |███████████████████             | 266kB 2.8MB/s eta 0:00:01\r\u001b[K     |███████████████████▉            | 276kB 2.8MB/s eta 0:00:01\r\u001b[K     |████████████████████▋           | 286kB 2.8MB/s eta 0:00:01\r\u001b[K     |█████████████████████▎          | 296kB 2.8MB/s eta 0:00:01\r\u001b[K     |██████████████████████          | 307kB 2.8MB/s eta 0:00:01\r\u001b[K     |██████████████████████▊         | 317kB 2.8MB/s eta 0:00:01\r\u001b[K     |███████████████████████▌        | 327kB 2.8MB/s eta 0:00:01\r\u001b[K     |████████████████████████▎       | 337kB 2.8MB/s eta 0:00:01\r\u001b[K     |█████████████████████████       | 348kB 2.8MB/s eta 0:00:01\r\u001b[K     |█████████████████████████▊      | 358kB 2.8MB/s eta 0:00:01\r\u001b[K     |██████████████████████████▍     | 368kB 2.8MB/s eta 0:00:01\r\u001b[K     |███████████████████████████▏    | 378kB 2.8MB/s eta 0:00:01\r\u001b[K     |████████████████████████████    | 389kB 2.8MB/s eta 0:00:01\r\u001b[K     |████████████████████████████▋   | 399kB 2.8MB/s eta 0:00:01\r\u001b[K     |█████████████████████████████▍  | 409kB 2.8MB/s eta 0:00:01\r\u001b[K     |██████████████████████████████  | 419kB 2.8MB/s eta 0:00:01\r\u001b[K     |██████████████████████████████▉ | 430kB 2.8MB/s eta 0:00:01\r\u001b[K     |███████████████████████████████▋| 440kB 2.8MB/s eta 0:00:01\r\u001b[K     |████████████████████████████████| 450kB 2.8MB/s \n",
            "\u001b[?25h  Building wheel for pycrypto (setup.py) ... \u001b[?25l\u001b[?25hdone\n",
            "\u001b[K     |████████████████████████████████| 204kB 2.8MB/s \n",
            "\u001b[?25h  Building wheel for bitstring (setup.py) ... \u001b[?25l\u001b[?25hdone\n"
          ],
          "name": "stdout"
        }
      ]
    },
    {
      "cell_type": "code",
      "metadata": {
        "id": "TVAQDiLiQmBj",
        "colab_type": "code",
        "colab": {}
      },
      "source": [
        "#Ejecuta la siguiente linea\n",
        "from Crypto.Hash import SHA256\n",
        "hash = SHA256.new()"
      ],
      "execution_count": 5,
      "outputs": []
    },
    {
      "cell_type": "code",
      "metadata": {
        "id": "a1S4V543Ukez",
        "colab_type": "code",
        "colab": {
          "base_uri": "https://localhost:8080/",
          "height": 50
        },
        "outputId": "ccf12cd0-766f-43cf-f7c0-d3f06737f1c3"
      },
      "source": [
        "mensaje = b'Soy un Ninja'\n",
        "hash.update(mensaje) # aplicamos la función SHA256 a mensaje\n",
        "valor_hash_bytes = hash.digest() # da el valor, en bytes, de la función aplicada a mensaje\n",
        "print(valor_hash_bytes)\n",
        "len(valor_hash_bytes)"
      ],
      "execution_count": 6,
      "outputs": [
        {
          "output_type": "stream",
          "text": [
            "b'\\x13\\x9er\\xcaF\\xaf\\x7f\\xdc\\x97lhl*y\\x83M\\xb9L\\xb8;\\xe9\\xd3\\x11\\xb0\\x1eyX\\x8e\\r\\xd6~\\xbb'\n"
          ],
          "name": "stdout"
        },
        {
          "output_type": "execute_result",
          "data": {
            "text/plain": [
              "32"
            ]
          },
          "metadata": {
            "tags": []
          },
          "execution_count": 6
        }
      ]
    },
    {
      "cell_type": "markdown",
      "metadata": {
        "id": "16SUwBNWGgfH",
        "colab_type": "text"
      },
      "source": [
        "Imprimir la correspondiente cadena de bits (**0's y 1's**)"
      ]
    },
    {
      "cell_type": "code",
      "metadata": {
        "id": "kfx4zrPkV34S",
        "colab_type": "code",
        "colab": {
          "base_uri": "https://localhost:8080/",
          "height": 70
        },
        "outputId": "d58fcfd2-5c13-46b9-fde8-56c18b7c6793"
      },
      "source": [
        "from bitstring import Bits\n",
        "hash_value_bits = Bits(bytes = valor_hash_bytes).bin\n",
        "print(hash_value_bits)\n",
        "print(len(hash_value_bits))"
      ],
      "execution_count": 9,
      "outputs": [
        {
          "output_type": "stream",
          "text": [
            "0001001110011110011100101100101001000110101011110111111111011100100101110110110001101000011011000010101001111001100000110100110110111001010011001011100000111011111010011101001100010001101100000001111001111001010110001000111000001101110101100111111010111011\n",
            "256\n"
          ],
          "name": "stdout"
        }
      ]
    },
    {
      "cell_type": "markdown",
      "metadata": {
        "id": "qdcr0IIXlV2A",
        "colab_type": "text"
      },
      "source": [
        "**Observación sobre las funciones Hash criptográficas**"
      ]
    },
    {
      "cell_type": "code",
      "metadata": {
        "id": "DuQFfIiClhw3",
        "colab_type": "code",
        "colab": {
          "base_uri": "https://localhost:8080/",
          "height": 50
        },
        "outputId": "f461bbd4-dc9e-48c4-f839-b762d078def0"
      },
      "source": [
        "\"\"\" Veamos dos mensajes parecidos y cómo los transforma SHA-256\"\"\"\n",
        "mensaje1 = b'Soy un Ninja'\n",
        "mensaje2 = b'soy un Ninja' #solo cambia la primera S a s\n",
        "print(Bits(bytes = mensaje1).bin)\n",
        "print(Bits(bytes = mensaje2).bin)  ##Representación binaria de mensaje2\n"
      ],
      "execution_count": 10,
      "outputs": [
        {
          "output_type": "stream",
          "text": [
            "010100110110111101111001001000000111010101101110001000000100111001101001011011100110101001100001\n",
            "011100110110111101111001001000000111010101101110001000000100111001101001011011100110101001100001\n"
          ],
          "name": "stdout"
        }
      ]
    },
    {
      "cell_type": "markdown",
      "metadata": {
        "id": "l15Lgub3mjBG",
        "colab_type": "text"
      },
      "source": [
        "Ahora aplicamos **SHA-256** a `mensaje1` y a `mensaje2`. Imprimiremos el valor de la hash en **hexadecimal**, para esto usamos el siguiente comando   `mensaje.hex()`"
      ]
    },
    {
      "cell_type": "code",
      "metadata": {
        "id": "e8zKpnqwmstg",
        "colab_type": "code",
        "colab": {
          "base_uri": "https://localhost:8080/",
          "height": 50
        },
        "outputId": "2aaa4377-bae4-4d46-d95c-24d33abdce24"
      },
      "source": [
        "hash.update(mensaje1)\n",
        "hash_bytes_m1 = hash.digest()\n",
        "hash.update(mensaje2)\n",
        "hash_bytes_m2 = hash.digest()\n",
        "#print(Bits(bytes = hash_bytes_m1).bin)\n",
        "#print(Bits(bytes = hash_bytes_m2).bin)\n",
        "print(hash_bytes_m1.hex())\n",
        "print(hash_bytes_m2.hex())\n",
        "#print(Bits(bytes = b'Wincy').bin)\n",
        "#print(len(Bits(bytes = b'Wincy').bin))\n",
        "#hash.update(b'19')\n",
        "#g=hash.digest()\n",
        "#print(g.hex())"
      ],
      "execution_count": 19,
      "outputs": [
        {
          "output_type": "stream",
          "text": [
            "0c0deacb5668446683e5bcbd6e3ed35aaaa5f630181f610caf293aa24bcfe9a1\n",
            "def09b9b2234a6e5467910998d3288a28e3663e5fcef5353823857df425b5d9a\n"
          ],
          "name": "stdout"
        }
      ]
    },
    {
      "cell_type": "markdown",
      "metadata": {
        "id": "Vgm0-XclGsco",
        "colab_type": "text"
      },
      "source": [
        "Note que aunque `mensaje1`y `mensaje2`son muy similares, eso no se refleja en el valor al aplicar el hash **SHA-256**."
      ]
    },
    {
      "cell_type": "code",
      "metadata": {
        "id": "bf0B-tjXGZlu",
        "colab_type": "code",
        "colab": {
          "base_uri": "https://localhost:8080/",
          "height": 35
        },
        "outputId": "7f825e5b-1738-4223-a0af-b75743c2a0ea"
      },
      "source": [
        "valor_hash_bytes.hex()"
      ],
      "execution_count": null,
      "outputs": [
        {
          "output_type": "execute_result",
          "data": {
            "application/vnd.google.colaboratory.intrinsic+json": {
              "type": "string"
            },
            "text/plain": [
              "'139e72ca46af7fdc976c686c2a79834db94cb83be9d311b01e79588e0dd67ebb'"
            ]
          },
          "metadata": {
            "tags": []
          },
          "execution_count": 79
        }
      ]
    },
    {
      "cell_type": "markdown",
      "metadata": {
        "id": "yIuHsoqO0BKl",
        "colab_type": "text"
      },
      "source": [
        "**Tu turno:**  Calcula el hash, usando la función hash `RIPEMD160`, de todos los valores de la siguiente lista: \n",
        "\n",
        "`Lista = [b'Hola', b'soy un Ninja', b'20304', b'dnvdkfm', b'jjfnfn']`\n",
        "\n",
        "\n",
        "**Debes imprimer sequencias hexadecimales**"
      ]
    },
    {
      "cell_type": "code",
      "metadata": {
        "id": "-Cq2Q043PPTq",
        "colab_type": "code",
        "colab": {
          "base_uri": "https://localhost:8080/",
          "height": 54
        },
        "outputId": "7e20b0eb-953b-476e-c834-215a17b99d4c"
      },
      "source": [
        "##****************************Modifica el siguiente tu código****************************##\n",
        "from Crypto.Hash import RIPEMD\n",
        "Lista = [b'Hola', b'hola', b'holA', b'ola', b'holaa']\n",
        "def ripemd(x):\n",
        "  ha = RIPEMD.new() ##llamamos la función RIPMED160\n",
        "  ha.update(x) ## Aplicamos la función hash a __\n",
        "  y=ha.digest() ## Tomamos el output de la función\n",
        "  return(y.hex()) ## Transformamos de bytes a hexadecimal\n",
        "print(list(map(ripemd,Lista))) # Aplicamos una función a cada elemento de una lista "
      ],
      "execution_count": null,
      "outputs": [
        {
          "output_type": "stream",
          "text": [
            "['26e20144a449a535384453a2bc0b81a0cd39c4d6', '5b559f7d90a5cca70f7a3d5e2ca312bc7c1681df', 'aad7cc6fe1e83721dfd27c654d2e9cc382dfc602', 'a280281034031b4bb17a5f04c1baf35773f041a6', '2c3147ba1eb54df1ca7825dc6c054743ddb79b06']\n"
          ],
          "name": "stdout"
        }
      ]
    },
    {
      "cell_type": "markdown",
      "metadata": {
        "id": "CTS45aj6NQgC",
        "colab_type": "text"
      },
      "source": [
        "**Tu turno (para después)**: Desde la imagen de una hash no se puede saber la preimagen. \n",
        "\n",
        "**Reto:** Encuentra una preimagen, bajo la función **SHA-256**, de la secuencia: `41c4a6caf1a447f1ba247f6b5c375e3db8964476b08557760ac851fef677d907`\n",
        "\n",
        "`731874c61762b4fb2055cae41d56d925dccd3e01a4c8c7e4d6e203b3176d0200`\n",
        "\n",
        "**Pista:** Una de las preimágenes tiene 5 bytes.\n",
        "\n"
      ]
    },
    {
      "cell_type": "code",
      "metadata": {
        "id": "j-IrvlSNRSC0",
        "colab_type": "code",
        "colab": {}
      },
      "source": [
        "##****************************Escribe quí tu código****************************##\n"
      ],
      "execution_count": null,
      "outputs": []
    },
    {
      "cell_type": "markdown",
      "metadata": {
        "id": "VY3_XbGpg0NE",
        "colab_type": "text"
      },
      "source": [
        "##**2. Firmas digitales**\n",
        "\n",
        "**Esquema de firmas digitales**\n",
        "Una firma digital se puede considerar como una versión electrónica de la firma que plasmamos constantemente en documentos físicos. Un esquema de firmas digítales consta de los siguientes elementos\n",
        "- Un algoritmo de generación de contraseñas. El algoritmo genera dos contraseñas: una privada  y una pública. \n",
        "- Un algoritmo para firmar. El algoritmo recibe  un mensaje $M$ (de hecho un hash del mensaje), la llave privada y arroja otra cadena de bits, $M_f$, que se considera el mensaje firmado.\n",
        "- Un algoritmo de verificación. Este algoritmo recibe  el  mensaje $M$, el mensaje firmado $M_f$ y la llave pública. El objetivo es  verificar la validez de la firma. \n",
        "\n",
        "<center> <img src=\"https://raw.githubusercontent.com/garestrear/Curso_de_Python/master/Sesion5/digital-signatures.jpg\" width=\"700\" height=\"500\" align=\"center\"/></center>\n",
        "\n",
        "Existen varios esquemas de firmas digitales, en particular, **ECDSA** es el esquema de firmas usado por Bitcoin.\n",
        "\n",
        "**secp256k1** Es la curva eliptica usada por Bitcoin (probablemente esto no es importante en este contexto)\n",
        "\n",
        "Usaremos la librería `bitcoin` para explorar las firmas digitales usadas en los protocolos criptográficos  del Bitcoin. Empecemos instalando la librería usando el comando `!pip install -q bitcon`."
      ]
    },
    {
      "cell_type": "code",
      "metadata": {
        "id": "KcmCw32qIW8T",
        "colab_type": "code",
        "colab": {}
      },
      "source": [
        "!pip install -q bitcoin\n",
        "from bitcoin import * # con esta línea importamos todas las funciones de la librería\n"
      ],
      "execution_count": 21,
      "outputs": []
    },
    {
      "cell_type": "markdown",
      "metadata": {
        "id": "7CPsa_rgCV8F",
        "colab_type": "text"
      },
      "source": [
        "Los siguientes comandos de la libería `bitcoin`se usan para generar llaves y firmar.\n",
        "- `llave_priv = random_key()` genera la llave privada. \n",
        "- `llave_pub = privtopub(llave_priv)`genera la llave pública asociada.\n",
        "- `firmado = ecdsa_sign(mensaje, llave_priv)`firma el mensaje usando el esquema ECDSA."
      ]
    },
    {
      "cell_type": "code",
      "metadata": {
        "id": "lZ0TEBkWJRZp",
        "colab_type": "code",
        "colab": {
          "base_uri": "https://localhost:8080/",
          "height": 50
        },
        "outputId": "66855d41-5b3d-498b-fc47-32cbd48f2356"
      },
      "source": [
        "mensaje = b'Anel transfiere 10 bitcoins a Natalia' #  Mensaje que se quiere firmar\n",
        "llave_priv = random_key() # Se genera la llave privada \n",
        "llave_pub = privtopub(llave_priv) # Se genera la llave pública asociada a la llave privada\n",
        "print(llave_pub)\n",
        "#print(llave_priv)\n",
        "men_fir = ecdsa_sign(mensaje,llave_priv) #Firmamos el documento con ECDSA\n",
        "print(men_fir) # Imprimimos el mensaje firmado"
      ],
      "execution_count": 22,
      "outputs": [
        {
          "output_type": "stream",
          "text": [
            "04fc34125ee515c95233e5a9013b6d0a87377e87a39e92106232ce8f72da6fd19a5b89ab4d8d5892d3d4c84d39e364a38c6523313ef82f7ad3d98aa445252b5209\n",
            "Gwooo45prNaDTrIKicmMl31HHWBJGKOS0awM+YW1A3+BIxF9GAWFIEryV4JdiFCpNqJdfHDW0LpsUJpuuaWtJA4=\n"
          ],
          "name": "stdout"
        }
      ]
    },
    {
      "cell_type": "markdown",
      "metadata": {
        "id": "acsloBIrF97m",
        "colab_type": "text"
      },
      "source": [
        "Ya tenemos firmado nuestro mensaje, ahora, **¿Cómo un tercero puede verificar la validez de la firma?** \n",
        "- `ecdsa_verify(mensaje,men_fir,llave_pub)`verifica la firma. \n",
        "- Si no tenemos la llave pública podemos recuperarla usando el comando `ecdsa_recover(mensaje,men_fir)`."
      ]
    },
    {
      "cell_type": "code",
      "metadata": {
        "id": "SNRqlibe-Q5Q",
        "colab_type": "code",
        "colab": {}
      },
      "source": [
        "ecdsa_recover(mensaje,men_fir)\n",
        "ecdsa_verify(mensaje,men_fir,llave_pub)"
      ],
      "execution_count": null,
      "outputs": []
    },
    {
      "cell_type": "markdown",
      "metadata": {
        "id": "xyNklzHYD38i",
        "colab_type": "text"
      },
      "source": [
        "#**3. Direcciones en la red de Bitcoin**\n",
        "\n",
        "**Que es una direción**\n",
        "- Una dirección es la identificación de un usuario en la red de bitcoin y que como se conectan con la lleve pública!\n",
        "\n",
        "\n",
        " - Cuan probable es que uno elija una llavé pública ya utilizada. Cuál es el número estimado de cuantas en bitcoin necesarias hasta para que alguién elija una cuenta ya usadas. Compararlo con Ejemplo reales.\n",
        "\n",
        "- Obtener balance e historial de una cuneta con blockcypher \n",
        "\n",
        "\n",
        "- **Dato curioso:** La dirección de Satoshi Nakamoto es `12c6DSiU4Rq3P4ZxziKxzrL5LmMBrzjrJX`\n",
        "\n",
        "**PASO A PASO De como crear direcciones de BitCoin:**\n",
        "https://en.bitcoin.it/wiki/Technical_background_of_version_1_Bitcoin_addresses#:~:text=A%20Bitcoin%20address%20is%20a,that%20the%20signature%20is%20valid.\n",
        "\n",
        "\n",
        "**Crear cuentas de Bitcoin** usando la libreria `bitcoin`\n",
        "\n",
        "Se installa asi: !pip install -q bitcoin\n",
        "\n",
        "`from bitcoin import *` importa todas las funciones de `bitcoin`\n",
        "\n",
        "`my_private_key = random_key()` genera una llave privada\n",
        "\n",
        "`my_public_key = privtopub(my_private_key)` genera la llave pública correspondiente a la llave privada  `my_private_key`. \n",
        "\n",
        "\n",
        "`my_bitcoin_address = pubtoaddr(my_public_key)` genera la **dirección** correspondinte a la llave pública `my_public_key`.\n",
        "\n",
        "**Verificando el balance de una dirrección**\n",
        "Podemos ver cuantos bitcoins tiene una direción `my_bitcoin_address` dada usando la función `get_address_details` de la librería `blockcipher`\n",
        "\n",
        "`import blockcipher as bc`\n",
        "`hist = bc.get_address_details(my_bitcoin_address)`\n",
        "\n",
        "\n",
        "regresa un diccionario con la historia financiera de la direeción `my_bitcoin_address`. \n",
        "\n",
        "Se puede acceder al balance final usando `hist['final_balance']`\n",
        "\n",
        "\n",
        "**POSIBLE MINIPROYECTO: Creando direcciones de Bitcoin**\n",
        "**PARA FINAL DE LA CLASE**\n",
        "\n",
        "1.   Cree una función que cree una dirección de Bitcoin aleatoriamente. La función debe devolver las llaves públicas y privadas, además de la dirección. \n",
        "\n",
        "2.  Busque alguna manera de acceder a la red de Bitcoin (posiblemente usando la librería `blockchain`).\n",
        "\n",
        "3. Use la función del paso 1. para generar miles de cuentas de Bitcoin, para cada una de ellas verifique si es una cuenta que ya ha sido creada. Si la cuenta ha sido creada guarde las claves (pública y privadas) y la dirección.\n",
        "\n",
        "4. Verifique si alguna de las cuentas guardadas en el paso 3. tiene Bitcoins.\n",
        "\n",
        "5. En caso de obtener un resultado positivo en alguna de las cuentas ¡tome posesión de esos Bitcoins! transfiriendolos a otra cuenta que usted cree. \n",
        "**importante:** no use su función del paso 1. para crear la cuenta del paso 5.\n",
        "\n",
        "\n",
        "6. Estime la probabilida de éxito usando el hecho que aproximadamente \n",
        "3.000.000 de cuentas tienen almenos 0.1 BTC\n",
        "\n",
        "https://es.beincrypto.com/nuevo-record-historico-monederos-bitcoin-con-al-menos-0-1-btc/\n",
        "\n",
        "$\\textbf{PELIGRO!!! NO CREES TUS DIRECCIONES DE BITCOIN USANDO ESTA FUNCIÓN}$\n"
      ]
    },
    {
      "cell_type": "code",
      "metadata": {
        "id": "X8JU3M2MycTK",
        "colab_type": "code",
        "colab": {
          "base_uri": "https://localhost:8080/",
          "height": 162
        },
        "outputId": "ba2f7016-d4de-4ff4-eab1-d66cf4b34f28"
      },
      "source": [
        "type(hist)"
      ],
      "execution_count": 23,
      "outputs": [
        {
          "output_type": "error",
          "ename": "NameError",
          "evalue": "ignored",
          "traceback": [
            "\u001b[0;31m---------------------------------------------------------------------------\u001b[0m",
            "\u001b[0;31mNameError\u001b[0m                                 Traceback (most recent call last)",
            "\u001b[0;32m<ipython-input-23-37c526e467a5>\u001b[0m in \u001b[0;36m<module>\u001b[0;34m()\u001b[0m\n\u001b[0;32m----> 1\u001b[0;31m \u001b[0mtype\u001b[0m\u001b[0;34m(\u001b[0m\u001b[0mhist\u001b[0m\u001b[0;34m)\u001b[0m\u001b[0;34m\u001b[0m\u001b[0;34m\u001b[0m\u001b[0m\n\u001b[0m",
            "\u001b[0;31mNameError\u001b[0m: name 'hist' is not defined"
          ]
        }
      ]
    },
    {
      "cell_type": "code",
      "metadata": {
        "id": "HLFJ7Q98ygNy",
        "colab_type": "code",
        "colab": {}
      },
      "source": [
        "hist.keys()"
      ],
      "execution_count": null,
      "outputs": []
    },
    {
      "cell_type": "markdown",
      "metadata": {
        "id": "XuI5Q6-JCtWp",
        "colab_type": "text"
      },
      "source": [
        "#**4. Transacciones**\n",
        "\n",
        "En términos generales, una **transacción** es un documento digital que certifica la transferencia de algunos bitcoins desde una(s) cuenta(s) de origen (emisor(es)) hasta una(s) cuenta(s) de destino (recpetor(es)).\n",
        "\n",
        "*Una transaferencia contiene:*\n",
        "\n",
        "1.   Una **identificación**: ésta es un doble hash de un documento conteniendo la información de los siguientes incisos.\n",
        "\n",
        "2.   **Entradas (inputs):** Indentificación de **transacciones anteriores** donde el emisor obtuvo los bitcoins que quiere transerir. \n",
        "\n",
        "3.   **Salidas (outputs):** direcion(es) de las cuentas de los recptores de los bitcoins.\n",
        "\n",
        "4.   **Certificado de auntenticidad:** Con tiene la firma digital del documento que contiene la información de los item 2 y 3 para cada entrada. Además, contiene la llave pública de la entrada correspondiente.\n",
        "\n",
        "\n"
      ]
    },
    {
      "cell_type": "markdown",
      "metadata": {
        "id": "C-c5lq2YQgzG",
        "colab_type": "text"
      },
      "source": [
        "Usaremos la librería `blockcyper` para explorar la red de Bitoin\n",
        "ref: https://www.blockcypher.com/dev/bitcoin/#introduction"
      ]
    },
    {
      "cell_type": "markdown",
      "metadata": {
        "id": "F_SBMjLBJwmb",
        "colab_type": "text"
      },
      "source": [
        "**Tu turno:** Ejecuta el siguiente bloque"
      ]
    },
    {
      "cell_type": "code",
      "metadata": {
        "id": "qfGj4ntdUoCV",
        "colab_type": "code",
        "colab": {}
      },
      "source": [
        "!pip install -q blockcypher"
      ],
      "execution_count": null,
      "outputs": []
    },
    {
      "cell_type": "code",
      "metadata": {
        "id": "UJiZ8C2zKP_u",
        "colab_type": "code",
        "colab": {}
      },
      "source": [
        "import blockcypher as bc"
      ],
      "execution_count": null,
      "outputs": []
    },
    {
      "cell_type": "markdown",
      "metadata": {
        "id": "NwoAV2SERHgj",
        "colab_type": "text"
      },
      "source": [
        "###*1. Identificación*: \n",
        "\n",
        "La idendentificación de una transacción `tx` es el doble hash de la información contenida en ella. \n",
        "\n",
        "Exploraremos la transacción con identificación:\n",
        "`5e5d0206bee05b83fa58aa013ea67f6835eef7c3216039ff9fd5b4abd4209e2d`"
      ]
    },
    {
      "cell_type": "code",
      "metadata": {
        "id": "-JssyY3yKeyn",
        "colab_type": "code",
        "colab": {}
      },
      "source": [
        "tx = bc.get_transaction_details('5e5d0206bee05b83fa58aa013ea67f6835eef7c3216039ff9fd5b4abd4209e2d')"
      ],
      "execution_count": null,
      "outputs": []
    },
    {
      "cell_type": "markdown",
      "metadata": {
        "id": "nBZGyXJIHCQm",
        "colab_type": "text"
      },
      "source": [
        "Una transacción es un diccionario para python"
      ]
    },
    {
      "cell_type": "code",
      "metadata": {
        "id": "WilfzsG1HNgW",
        "colab_type": "code",
        "colab": {}
      },
      "source": [
        "type(tx)"
      ],
      "execution_count": null,
      "outputs": []
    },
    {
      "cell_type": "code",
      "metadata": {
        "id": "OxerF0I-LeNx",
        "colab_type": "code",
        "colab": {}
      },
      "source": [
        "tx.keys()"
      ],
      "execution_count": null,
      "outputs": []
    },
    {
      "cell_type": "markdown",
      "metadata": {
        "id": "8Gueme41R_SB",
        "colab_type": "text"
      },
      "source": [
        "###*2. Entradas*\n",
        "\n",
        "Cada entrad de `tx` contiene información de la una direccion que emite bitcoins en `tx` y la identificación de la transección de donde obtuvo los bitcoins que va a transferir en `tx`. \n",
        "\n",
        "Para visualisar las información de las entradas de una transacción `tx` usamos `tx['inputs']`"
      ]
    },
    {
      "cell_type": "code",
      "metadata": {
        "id": "AxrEhT46L6ke",
        "colab_type": "code",
        "colab": {}
      },
      "source": [
        "entradas = tx['inputs']"
      ],
      "execution_count": null,
      "outputs": []
    },
    {
      "cell_type": "code",
      "metadata": {
        "id": "V0Aefb0YOK63",
        "colab_type": "code",
        "colab": {}
      },
      "source": [
        "for i in range(len(entradas)):\n",
        "  print('La entrada {} con identificación {}'.format(i, entradas[i]['addresses'][0]))\n",
        "  print('Aporta los {} BTC '.format(entradas[i]['output_value']*10**-8))\n",
        "  print('Recibidos en la transacción {}\\n'.format(entradas[i]['prev_hash']))"
      ],
      "execution_count": null,
      "outputs": []
    },
    {
      "cell_type": "markdown",
      "metadata": {
        "id": "3sUJn87dsKGq",
        "colab_type": "text"
      },
      "source": [
        "###*3. Salidas*\n",
        "\n",
        "Cada salida de la transacción `tx` es una dirrección de bitcoin, y tiene asociado un valor a recibir. "
      ]
    },
    {
      "cell_type": "code",
      "metadata": {
        "id": "zp4VwtkEzmah",
        "colab_type": "code",
        "colab": {}
      },
      "source": [
        "salidas = tx['outputs']\n",
        "for i in range(len(salidas)):\n",
        "  print('La salida {} con dirección {} recibió {} BTC'.format(i,salidas[i]['addresses'][0],10**(-8) * salidas[i]['value']))"
      ],
      "execution_count": null,
      "outputs": []
    },
    {
      "cell_type": "markdown",
      "metadata": {
        "id": "Om4cKPMw0m4W",
        "colab_type": "text"
      },
      "source": [
        "###*4. Certificado de auntenticidad*\n",
        "\n",
        "Cada entrada de la transacción `tx` adjunta su llave pública y  la firma digital de documento que certifica la transeferencia que dichha entrada aporta a la transacción. "
      ]
    },
    {
      "cell_type": "code",
      "metadata": {
        "id": "63c75pzV35Vn",
        "colab_type": "code",
        "colab": {}
      },
      "source": [
        "for i in range(len(entradas)):\n",
        "  print(entradas[i]['script'])"
      ],
      "execution_count": null,
      "outputs": []
    },
    {
      "cell_type": "markdown",
      "metadata": {
        "id": "pJqlPzpfzDSR",
        "colab_type": "text"
      },
      "source": [
        "##**Número de transacciones por segundo en la red** \n",
        "\n",
        "\n",
        "La red de Bitcoin realiza en promedio 2 y 5 transacciones por segundo, mientras que VISA realiza 1700 transacciones por segundo."
      ]
    },
    {
      "cell_type": "code",
      "metadata": {
        "id": "rdsNBfHMzRKK",
        "colab_type": "code",
        "colab": {}
      },
      "source": [
        "tran_per_sec = pd.read_csv('https://github.com/garestrear/Curso_de_Python/blob/master/Sesion5/S5_transactions-per-second')\n",
        "tran_per_sec['Timestamp'] = pd.to_datetime(tran_per_sec['Timestamp'])\n",
        "tran_per_sec.set_index('Timestamp', inplace=True)\n",
        "tran_per_sec.head()"
      ],
      "execution_count": null,
      "outputs": []
    },
    {
      "cell_type": "code",
      "metadata": {
        "id": "N0IwztyVzdd1",
        "colab_type": "code",
        "colab": {}
      },
      "source": [
        "tran_per_sec.plot(figsize =(14,7), kind = 'bar', color = 'k', alpha=0.6,xticks = [], width=0.6)\n",
        "plt.show()"
      ],
      "execution_count": null,
      "outputs": []
    },
    {
      "cell_type": "markdown",
      "metadata": {
        "id": "7nAOn5mxDUBe",
        "colab_type": "text"
      },
      "source": [
        "#**5. Bloques y la BlockChain**\n",
        "\n",
        "Un **bloque** es un arhivo que contiene un grupo de transacciones.\n",
        "\n",
        "Los bloques se guardan de manera ordenada (encadenada) en la **Blockchain**.\n",
        "\n",
        "Un bloque contiene 4 caracteristicas principales:\n",
        "\n",
        "1.   **Indentificación o hash:** Es el hash de un documento que contiene toda la información del bloque, admemás cumple con la *prueba de trabajo* \n",
        "2.   **Dificultad:**  Contiene el nivel de dificultad del de la prueba de trabajo.\n",
        "3.   **Altura:** El orden que el bloque tiene el la Blockchain\n",
        "4.   **Hash bloque anterior:** La identificación del bloque con altura igual a una unidad menor. \n",
        "\n",
        "Analicemos el bloque con altura `641085` \n",
        "\n"
      ]
    },
    {
      "cell_type": "code",
      "metadata": {
        "id": "f29hBr3kDHvW",
        "colab_type": "code",
        "colab": {}
      },
      "source": [
        "bloque = bc.get_block_overview('641085', txn_offset=1)"
      ],
      "execution_count": null,
      "outputs": []
    },
    {
      "cell_type": "markdown",
      "metadata": {
        "id": "QMJP2ARyG6CJ",
        "colab_type": "text"
      },
      "source": [
        "Un bloque es es un diccionario en la librería `blockcypher`"
      ]
    },
    {
      "cell_type": "code",
      "metadata": {
        "id": "DusPQsBdG2DC",
        "colab_type": "code",
        "colab": {}
      },
      "source": [
        "type(bloque)"
      ],
      "execution_count": null,
      "outputs": []
    },
    {
      "cell_type": "markdown",
      "metadata": {
        "id": "syEZ3T7Q4Gau",
        "colab_type": "text"
      },
      "source": [
        "Caracteristicas de un bloque"
      ]
    },
    {
      "cell_type": "code",
      "metadata": {
        "id": "OEOnGnmdFH1A",
        "colab_type": "code",
        "colab": {}
      },
      "source": [
        "bloque.keys()"
      ],
      "execution_count": null,
      "outputs": []
    },
    {
      "cell_type": "code",
      "metadata": {
        "id": "FY8krHKEFMeo",
        "colab_type": "code",
        "colab": {}
      },
      "source": [
        "print('Caracteristicas del bloque: \\n')\n",
        "print('Hash: {} '.format(bloque['hash']))\n",
        "print('Enumeración: {} '.format(bloque['height']))\n",
        "print('Hash bloque anterior: {} '.format(bloque['prev_block']))\n",
        "print('Número de transacciones: {}'.format(bloque['n_tx']))\n",
        "print('Total bitcoins tansferidos: {}'.format(bloque['total']))\n",
        "a = hex(bloque['bits'])\n",
        "print('Dificualtad del bloque: {}'.format(int(a[4:],16) * 2**(8*(int(a[:4],16) - 3))))\n",
        "print('Nonce del bloque: {}'.format(bloque['nonce']))"
      ],
      "execution_count": null,
      "outputs": []
    },
    {
      "cell_type": "markdown",
      "metadata": {
        "id": "tjH4gS-G9ckn",
        "colab_type": "text"
      },
      "source": [
        "##**Convirtiendo hexadecimal a decimal con Python**\n",
        "\n",
        "Para convertir un número cadena '23abf03' hexadecimal a decimal con Python usamos: `int('23bf03',16)` "
      ]
    },
    {
      "cell_type": "code",
      "metadata": {
        "id": "-VqszhhU96sj",
        "colab_type": "code",
        "colab": {}
      },
      "source": [
        "int('23bf03',16)"
      ],
      "execution_count": null,
      "outputs": []
    },
    {
      "cell_type": "markdown",
      "metadata": {
        "id": "latthi529_bN",
        "colab_type": "text"
      },
      "source": [
        "Esto quiere decir que el número `2342659` se codifica en hexadecimal como `23bf03`."
      ]
    },
    {
      "cell_type": "markdown",
      "metadata": {
        "id": "FYr6AHOe8Qa0",
        "colab_type": "text"
      },
      "source": [
        "\n",
        "#**Mineria**\n",
        "\n",
        "Minar un bloque implica encontrar un número `nonce` tal que el hash del bloque cumpla la prueba de trabajo.\n",
        "\n",
        "##**Prueba de trabajo**\n",
        "\n",
        "Un bloque **cumple la prueba de trabajo** si su hash (visto como un entero) es menor que la **dificultad de establesida por la red** en el momento que el bloque fue minado.\n",
        "\n",
        "Detalles dificultad de un bloque: https://en.bitcoin.it/wiki/Difficulty\n",
        "\n",
        "**Tu turno:** Verifica que el bloque `641085` satisface la prueba de trabajo suponiendo que su hash `0000000000000000000e4ef063d951cc2216789f62f613b0ca4e4b294aa162a1` es correcto. \n"
      ]
    },
    {
      "cell_type": "code",
      "metadata": {
        "id": "rgW0cjH18Lgl",
        "colab_type": "code",
        "colab": {}
      },
      "source": [
        "##******************************Escribe aquí tu código******************************##\n"
      ],
      "execution_count": null,
      "outputs": []
    },
    {
      "cell_type": "markdown",
      "metadata": {
        "id": "JtUjIkhlE6oQ",
        "colab_type": "text"
      },
      "source": [
        "##**La Blockchain**\n",
        "\n",
        "La cadena de bloques o Blockchain es simplemente un archivo conteniendo todos los bloques creados.\n",
        "\n"
      ]
    },
    {
      "cell_type": "code",
      "metadata": {
        "id": "WoyDx-k1SOyb",
        "colab_type": "code",
        "colab": {}
      },
      "source": [
        "import matplotlib.pyplot as plt\n",
        "import pandas as pd"
      ],
      "execution_count": null,
      "outputs": []
    },
    {
      "cell_type": "code",
      "metadata": {
        "id": "buW124bSRqcA",
        "colab_type": "code",
        "colab": {}
      },
      "source": [
        "\n",
        "bc_size = pd.read_csv('https://github.com/garestrear/Curso_de_Python/blob/master/Sesion5/S5_blockchain-size')\n",
        "bc_size['Timestamp'] = pd.to_datetime(bc_size['Timestamp'])\n",
        "bc_size.set_index('Timestamp', inplace=True)\n",
        "#Detalles de como graficar: más adelante.\n",
        "bc_size.plot(figsize = (12,5))\n",
        "plt.ylabel('MB')\n",
        "plt.show()"
      ],
      "execution_count": null,
      "outputs": []
    },
    {
      "cell_type": "markdown",
      "metadata": {
        "id": "j7B7fA3U_GZm",
        "colab_type": "text"
      },
      "source": [
        "#**6. Gráficos de Bitcoin con Pandas**\n",
        "\n",
        "Para leer los datos usaremos la librería `pandas`, en particular la función `read_csv` esta función se usa para leer archivos `.csv`. \n",
        "\n",
        "Los datos usados son extraidos de: \n",
        "1. https://www.blockchain.com/es/charts\n",
        "\n",
        "2. https://www.coindesk.com/price/bitcoin\n"
      ]
    },
    {
      "cell_type": "markdown",
      "metadata": {
        "id": "QZh6IW9K99a1",
        "colab_type": "text"
      },
      "source": [
        "**Tu turno:** importa la librería pandas"
      ]
    },
    {
      "cell_type": "code",
      "metadata": {
        "id": "4MTQ1IsogAbE",
        "colab_type": "code",
        "colab": {}
      },
      "source": [
        "import pandas as pd"
      ],
      "execution_count": null,
      "outputs": []
    },
    {
      "cell_type": "markdown",
      "metadata": {
        "id": "wgVC-gm_9TtI",
        "colab_type": "text"
      },
      "source": [
        "##**Precio**\n",
        "\n",
        "Importemos la base de datos con la información del precio de bitcoin."
      ]
    },
    {
      "cell_type": "code",
      "metadata": {
        "id": "GI8Wvs5-qoKu",
        "colab_type": "code",
        "colab": {}
      },
      "source": [
        "price = pd.read_csv('https://github.com/garestrear/Curso_de_Python/blob/master/Sesion5/S5_market-price_2013-09-30_2020-08-02-CoinDesk.csv')"
      ],
      "execution_count": null,
      "outputs": []
    },
    {
      "cell_type": "markdown",
      "metadata": {
        "id": "ES3Z4ET5-VOs",
        "colab_type": "text"
      },
      "source": [
        "Para ver las primeras y últimas 5 filas usamos `price.head()` y `price.tail()`. "
      ]
    },
    {
      "cell_type": "code",
      "metadata": {
        "id": "N9pR6lg3-WBa",
        "colab_type": "code",
        "colab": {}
      },
      "source": [
        "price.head()"
      ],
      "execution_count": null,
      "outputs": []
    },
    {
      "cell_type": "code",
      "metadata": {
        "id": "2ictn4F80len",
        "colab_type": "code",
        "colab": {}
      },
      "source": [
        "price.tail()"
      ],
      "execution_count": null,
      "outputs": []
    },
    {
      "cell_type": "markdown",
      "metadata": {
        "id": "__04fdpSzwmY",
        "colab_type": "text"
      },
      "source": [
        "##**Graficando DataFrames usando Matplotlib: forma indirecta**\n",
        "\n",
        "Para graficar una columna del DataFrame `price` podemos simplemente definir los las lista `x` e `y` para luego usar una función de `pyplot`, por ejemplo, `plt.plot(x,y)`. \n",
        "\n",
        "Grafiquemos la columna `24h Open (USD)` del DataFrame `price`:"
      ]
    },
    {
      "cell_type": "code",
      "metadata": {
        "id": "Y-Ut2xZl3HVv",
        "colab_type": "code",
        "colab": {}
      },
      "source": [
        "y = price['24h Open (USD)'].values\n",
        "print(y)\n",
        "x = list(price.index)\n",
        "print(x)"
      ],
      "execution_count": null,
      "outputs": []
    },
    {
      "cell_type": "code",
      "metadata": {
        "id": "l2pu-uFl4bCi",
        "colab_type": "code",
        "colab": {}
      },
      "source": [
        "plt.plot(x,y)\n",
        "plt.show()"
      ],
      "execution_count": null,
      "outputs": []
    },
    {
      "cell_type": "markdown",
      "metadata": {
        "id": "pmI221XKAC1U",
        "colab_type": "text"
      },
      "source": [
        "##**Forma directa** \n",
        "\n",
        "Podemos graficar directamente la columna llamada `col` de un DataFrame `df` usando el código `df['col'].plt()`."
      ]
    },
    {
      "cell_type": "code",
      "metadata": {
        "id": "-KXv8eKsO682",
        "colab_type": "code",
        "colab": {}
      },
      "source": [
        "#Grafica la columna '24h Open (USD)' del DataFrame price\n",
        "price['24h Open (USD)'].plot()\n",
        "plt.show()"
      ],
      "execution_count": null,
      "outputs": []
    },
    {
      "cell_type": "markdown",
      "metadata": {
        "id": "nrhlgKr1PMXH",
        "colab_type": "text"
      },
      "source": [
        "**Tu turno:** Grafica cualquier otra columnda del DataFrame `price`. Intenta cambiar el color, intensidad del color y tamaño de la figura.\n",
        "\n",
        "**Ayuda:** Para ver el nombre de las columnas ejecuta:  `price.columns`."
      ]
    },
    {
      "cell_type": "code",
      "metadata": {
        "id": "a-f761IOP3LZ",
        "colab_type": "code",
        "colab": {}
      },
      "source": [
        "#********************Escribe tu código aquí********************#\n"
      ],
      "execution_count": null,
      "outputs": []
    },
    {
      "cell_type": "markdown",
      "metadata": {
        "id": "E3uEdKOa5BNg",
        "colab_type": "text"
      },
      "source": [
        "**Reto (Comparte tu solución en el foro):** Usar la base de datos `price` para construir el gráfico (diario) de **velas japonesas** de Bitcoin. "
      ]
    },
    {
      "cell_type": "code",
      "metadata": {
        "id": "yTfUGz_bAYqx",
        "colab_type": "code",
        "colab": {}
      },
      "source": [
        "price.head()"
      ],
      "execution_count": null,
      "outputs": []
    },
    {
      "cell_type": "markdown",
      "metadata": {
        "id": "5jvsrDDjBdNl",
        "colab_type": "text"
      },
      "source": [
        "###**Índice vs Columna**"
      ]
    },
    {
      "cell_type": "code",
      "metadata": {
        "id": "pauNHq3qP4Gy",
        "colab_type": "code",
        "colab": {}
      },
      "source": [
        "fig = plt.figure(figsize=(15,10))\n",
        "price['24h Low (USD)'].plot(color = [[0.2,0.1,0.5]], label ='Precio mínimo')\n",
        "plt.ylabel('USD', fontsize=16)\n",
        "plt.legend()\n",
        "plt.show()"
      ],
      "execution_count": null,
      "outputs": []
    },
    {
      "cell_type": "markdown",
      "metadata": {
        "id": "c_xID2rQFEfb",
        "colab_type": "text"
      },
      "source": [
        "Para graficar desde la fila `a` hasta la fila `b` usamos `price['24h High (USD)'][a:b]`"
      ]
    },
    {
      "cell_type": "code",
      "metadata": {
        "id": "UN1107F6_lYY",
        "colab_type": "code",
        "colab": {}
      },
      "source": [
        "#Graficamos desde la fila 20 hata la 200\n",
        "figu = plt.figure(figsize=(10,7))\n",
        "price['24h High (USD)'][20:200].plot(color ='blue',  label ='Hey')\n",
        "plt.show()"
      ],
      "execution_count": null,
      "outputs": []
    },
    {
      "cell_type": "markdown",
      "metadata": {
        "id": "w7f8hAR_BxNY",
        "colab_type": "text"
      },
      "source": [
        "##**Datetime como indice**\n",
        "\n",
        "Ahora veremos lo ventajoso que puede ser tener un objeto de tiempo como nuetro indice.\n",
        "\n",
        "Convirtamos la columna `'Date'` a nuestro indice"
      ]
    },
    {
      "cell_type": "code",
      "metadata": {
        "id": "BvLloe3-Cjci",
        "colab_type": "code",
        "colab": {}
      },
      "source": [
        "price.index = price['Date']\n",
        "price.head()"
      ],
      "execution_count": null,
      "outputs": []
    },
    {
      "cell_type": "markdown",
      "metadata": {
        "id": "5RVXliODMqCe",
        "colab_type": "text"
      },
      "source": [
        "La siguiente linea define la columan de indices como un objeto de tiempo `datetime`"
      ]
    },
    {
      "cell_type": "code",
      "metadata": {
        "id": "oTf20RppGiTo",
        "colab_type": "code",
        "colab": {}
      },
      "source": [
        "price.index = pd.to_datetime(price.index)"
      ],
      "execution_count": null,
      "outputs": []
    },
    {
      "cell_type": "markdown",
      "metadata": {
        "id": "KrpYGXG9Dq-Q",
        "colab_type": "text"
      },
      "source": [
        "Ahora podemos obtener graficas del precio en el tiempo que querramos.\n",
        "\n",
        "Por ejemplo: \n",
        "1. `price['Closing Price (USD)']['2019-6':'2020-3'].plot()` muestra  la gráfica de  `'Closing Price (USD)'` desde `2019-6` (junio de 2019) hasta `2020-03` (marzo de 2020). \n",
        "\n",
        "2. `price['Closing Price (USD)']['2018'].plot()` muestra la gráfica del precio en 2018."
      ]
    },
    {
      "cell_type": "code",
      "metadata": {
        "id": "DVTCHBYBEjFf",
        "colab_type": "code",
        "colab": {}
      },
      "source": [
        "plt.figure(figsize=(10,6))\n",
        "price['Closing Price (USD)']['2019-6':'2020-3'].plot(color='k', alpha = 0.5)\n",
        "#price['Closing Price (USD)']['2018'].plot(color='purple', alpha = 0.8)\n",
        "plt.ylabel('USD')\n",
        "plt.show()"
      ],
      "execution_count": null,
      "outputs": []
    },
    {
      "cell_type": "markdown",
      "metadata": {
        "id": "8lMgHX0rNSG_",
        "colab_type": "text"
      },
      "source": [
        "Grafico del precio de cierre de Bitcoin en marzo de 2018."
      ]
    },
    {
      "cell_type": "code",
      "metadata": {
        "id": "Ytbl1N7wFVx_",
        "colab_type": "code",
        "colab": {}
      },
      "source": [
        "plt.figure(figsize=(10,6))\n",
        "price['Closing Price (USD)']['2018-3'].plot()\n",
        "plt.show()"
      ],
      "execution_count": null,
      "outputs": []
    },
    {
      "cell_type": "markdown",
      "metadata": {
        "id": "2ta-0P6WxoFU",
        "colab_type": "text"
      },
      "source": [
        "##**Arreglo de gráficas con datos desde un DataFrame**\n",
        "\n",
        "Hay dos maneras directas de construir un arreglo de gráficas desde  un data frame:\n",
        "\n",
        "**La primera:**"
      ]
    },
    {
      "cell_type": "code",
      "metadata": {
        "id": "wqj5WCuvQO-h",
        "colab_type": "code",
        "colab": {}
      },
      "source": [
        "fig, ax = plt.subplots(2,2, figsize=(18,12), sharey=True)\n",
        "#Precio 2017\n",
        "ax[0,0].plot(price['Closing Price (USD)']['2017'], color = 'blue')\n",
        "ax[0,0].set_title('Price 2017' )\n",
        "ax[0,0].set_xticklabels(['Ene', 'Mar', 'May',  'Jul','Sep',  'Nov', 'Ene'])\n",
        "#precio 2018\n",
        "ax[0,1].plot(price['Closing Price (USD)']['2018'], color = 'green')\n",
        "ax[0,1].set_title('Price 2018' )\n",
        "ax[0,1].set_xticklabels(['Ene', 'Mar', 'May',  'Jul','Sep',  'Nov', 'Ene'])\n",
        "#precio 2019\n",
        "ax[1,0].plot(price['Closing Price (USD)']['2019'], color = 'black')\n",
        "ax[1,0].set_title('Price 2019' )\n",
        "ax[1,0].set_xticklabels(['Ene', 'Mar', 'May',  'Jul','Sep',  'Nov', 'Ene'])\n",
        "#precio 2020\n",
        "ax[1,1].plot(price['Closing Price (USD)']['2020'], color = 'purple')\n",
        "ax[1,1].set_title('Price 2020' )\n",
        "plt.show()"
      ],
      "execution_count": null,
      "outputs": []
    },
    {
      "cell_type": "markdown",
      "metadata": {
        "id": "xlTCfwAxx6N2",
        "colab_type": "text"
      },
      "source": [
        "**La segunda:**"
      ]
    },
    {
      "cell_type": "code",
      "metadata": {
        "id": "Ae_GmP9jx9Vk",
        "colab_type": "code",
        "colab": {}
      },
      "source": [
        "fig, ax = plt.subplots(2,2, figsize=(18,12), sharey=True)\n",
        "#Precio 2014\n",
        "price['Closing Price (USD)']['2017'].plot(color ='blue', ax = ax[0,0])\n",
        "price['Closing Price (USD)']['2018'].plot(color ='green', ax = ax[0,1])\n",
        "price['Closing Price (USD)']['2019'].plot(color ='black', ax = ax[1,0])\n",
        "price['Closing Price (USD)']['2020'].plot(color ='purple', ax = ax[1,1])\n",
        "plt.show()"
      ],
      "execution_count": null,
      "outputs": []
    },
    {
      "cell_type": "markdown",
      "metadata": {
        "id": "qe0OqwBU3VjS",
        "colab_type": "text"
      },
      "source": [
        "##**Mempool**\n",
        "\n",
        "La **mempool** es el lugar donde todas las transacciones válidas esperar para ser confirmadas. Cada minero de la red de Bitcoin tiene una mempool.  \n",
        "\n",
        "Veamos gráficamente su importancia.\n"
      ]
    },
    {
      "cell_type": "code",
      "metadata": {
        "id": "OX3V9k9Q3XSA",
        "colab_type": "code",
        "colab": {}
      },
      "source": [
        "mem = pd.read_csv('https://github.com/garestrear/Curso_de_Python/blob/master/Sesion5/S5_mempool-count')\n",
        "mem.head()"
      ],
      "execution_count": null,
      "outputs": []
    },
    {
      "cell_type": "code",
      "metadata": {
        "id": "E740m4Rt7wCm",
        "colab_type": "code",
        "colab": {}
      },
      "source": [
        "mem['Timestamp'] = pd.to_datetime(mem['Timestamp'])\n",
        "mem.set_index('Timestamp', inplace=True)\n",
        "mem.head()"
      ],
      "execution_count": null,
      "outputs": []
    },
    {
      "cell_type": "markdown",
      "metadata": {
        "id": "IhNzXNrL_RYP",
        "colab_type": "text"
      },
      "source": [
        "##**Número de hashes por segundo (Hash Rate)**\n",
        "\n",
        "Data continene el número diario estimado de terahashes por segundo en la red Bitcoin."
      ]
    },
    {
      "cell_type": "code",
      "metadata": {
        "id": "FER5vnaV_qgB",
        "colab_type": "code",
        "colab": {}
      },
      "source": [
        "hash_rate = pd.read_csv('https://github.com/garestrear/Curso_de_Python/blob/master/Sesion5/S5_hash-rate')\n",
        "hash_rate['Timestamp'] =pd.to_datetime(hash_rate['Timestamp'])\n",
        "hash_rate.set_index('Timestamp', inplace=True)\n",
        "hash_rate.head()"
      ],
      "execution_count": null,
      "outputs": []
    },
    {
      "cell_type": "markdown",
      "metadata": {
        "id": "czvw6pnZg3SE",
        "colab_type": "text"
      },
      "source": [
        "##**Costo de comisión (promedio) de una transacción**\n",
        "\n",
        "Valor de comsión en dolares a pagar en promedio por una transacción"
      ]
    },
    {
      "cell_type": "code",
      "metadata": {
        "id": "3jL8c6v3AtzS",
        "colab_type": "code",
        "colab": {}
      },
      "source": [
        "fee_per_tran = pd.read_csv('https://github.com/garestrear/Curso_de_Python/blob/master/Sesion5/S5_fees-usd-per-transaction')\n",
        "fee_per_tran['Timestamp'] = pd.to_datetime(fee_per_tran['Timestamp'])\n",
        "fee_per_tran.set_index('Timestamp', inplace=True)\n",
        "fee_per_tran.head()"
      ],
      "execution_count": null,
      "outputs": []
    },
    {
      "cell_type": "markdown",
      "metadata": {
        "id": "jeideGLIf2Ii",
        "colab_type": "text"
      },
      "source": [
        "##**Tiempo promedio de confirmación de una transacción**\n",
        "\n",
        "Es el tiempo promedio que tarda una transacción en ser incluida en un bloque"
      ]
    },
    {
      "cell_type": "code",
      "metadata": {
        "id": "hw_w5-ttfzZp",
        "colab_type": "code",
        "colab": {}
      },
      "source": [
        "time_con_tran = pd.read_csv('https://github.com/garestrear/Curso_de_Python/blob/master/Sesion5/S5_median-confirmation-time')\n",
        "time_con_tran['Timestamp'] = pd.to_datetime(time_con_tran['Timestamp'])\n",
        "time_con_tran.set_index('Timestamp', inplace=True)\n",
        "time_con_tran.head()"
      ],
      "execution_count": null,
      "outputs": []
    },
    {
      "cell_type": "code",
      "metadata": {
        "id": "1CQQXerGLrs7",
        "colab_type": "code",
        "colab": {}
      },
      "source": [
        "fig, axs = plt.subplots(2,2, figsize = (18,9))\n",
        "mem['2017':'2018-6'].plot(ax = axs[0,0])\n",
        "axs[0,0].set_ylabel('Número de transacciones')\n",
        "axs[0,0].set_xlabel('')\n",
        "axs[0,0].set_title('Tamaño mempool')\n",
        "\n",
        "hash_rate['2017':'2018-6'].plot(ax = axs[0,1])\n",
        "axs[0,1].set_ylabel('Terahashes por segundo')\n",
        "axs[0,1].set_xlabel('')\n",
        "axs[0,1].set_title('Tasa de hashes')\n",
        "\n",
        "fee_per_tran['2017':'2018-6'].plot(ax = axs[1,0])\n",
        "axs[1,0].set_ylabel('USD')\n",
        "axs[1,0].set_xlabel('')\n",
        "axs[1,0].set_title('Precio promedio de transacciones')\n",
        "\n",
        "time_con_tran['2017':'2018-6'].plot(ax = axs[1,1])\n",
        "axs[1,1].set_ylabel('USD')\n",
        "axs[1,1].set_xlabel('')\n",
        "axs[1,1].set_title('Tiempo medio de confirmación')\n",
        "plt.show()"
      ],
      "execution_count": null,
      "outputs": []
    },
    {
      "cell_type": "markdown",
      "metadata": {
        "id": "gGZS10zbk0NV",
        "colab_type": "text"
      },
      "source": [
        "## **Mapa de correlaciones** "
      ]
    },
    {
      "cell_type": "code",
      "metadata": {
        "id": "cF3jTqYImbq4",
        "colab_type": "code",
        "colab": {}
      },
      "source": [
        "print((mem.index.min(),mem.index.max()))\n",
        "print((hash_rate.index.min(),hash_rate.index.max()))\n",
        "print((fee_per_tran.index.min(),fee_per_tran.index.max()))\n",
        "print((time_con_tran.index.min(),time_con_tran.index.max()))"
      ],
      "execution_count": null,
      "outputs": []
    },
    {
      "cell_type": "code",
      "metadata": {
        "id": "Sk89R6nSmChZ",
        "colab_type": "code",
        "colab": {}
      },
      "source": [
        "data_1 = mem.merge(hash_rate, how='inner', left_index=True, right_index=True)\n",
        "data_1.head()"
      ],
      "execution_count": null,
      "outputs": []
    },
    {
      "cell_type": "code",
      "metadata": {
        "id": "tPcgM5DTybZM",
        "colab_type": "code",
        "colab": {}
      },
      "source": [
        "import seaborn as sn\n",
        "import matplotlib.pyplot as plt"
      ],
      "execution_count": null,
      "outputs": []
    },
    {
      "cell_type": "code",
      "metadata": {
        "id": "Os8tesDwRMsU",
        "colab_type": "code",
        "colab": {}
      },
      "source": [
        "m_corr = data_1.corr() \n",
        "\n",
        "sn.heatmap(m_corr, annot=True)\n",
        "plt.show()"
      ],
      "execution_count": null,
      "outputs": []
    },
    {
      "cell_type": "markdown",
      "metadata": {
        "id": "4NSHGp2Vj7xE",
        "colab_type": "text"
      },
      "source": [
        "##**¿Existe correlación entre el volumen de transacciones y el precio de Bitcoin?**"
      ]
    },
    {
      "cell_type": "code",
      "metadata": {
        "id": "jhiAT4hFkNnM",
        "colab_type": "code",
        "colab": {}
      },
      "source": [
        "trade_vol = pd.read_csv('https://github.com/garestrear/Curso_de_Python/blob/master/Sesion5/S5_trade-volume')\n",
        "trade_vol ['Timestamp'] = pd.to_datetime(trade_vol ['Timestamp'])\n",
        "trade_vol.set_index('Timestamp', inplace=True)\n",
        "trade_vol.head()"
      ],
      "execution_count": null,
      "outputs": []
    },
    {
      "cell_type": "code",
      "metadata": {
        "id": "8rtKVeYISllk",
        "colab_type": "code",
        "colab": {}
      },
      "source": [
        "trade_vol['2017':'2020'].plot(figsize=(16,6))\n",
        "plt.ylabel('USD')\n",
        "plt.show()"
      ],
      "execution_count": null,
      "outputs": []
    },
    {
      "cell_type": "code",
      "metadata": {
        "id": "UXj_Z3d-Soic",
        "colab_type": "code",
        "colab": {}
      },
      "source": [
        "data_2 = price[['Closing Price (USD)']].merge(trade_vol, how='inner', left_index=True, right_index=True)\n",
        "data_2.head()"
      ],
      "execution_count": null,
      "outputs": []
    },
    {
      "cell_type": "code",
      "metadata": {
        "id": "wlIj7DOtxUbr",
        "colab_type": "code",
        "colab": {}
      },
      "source": [
        "m_corr = data_2.corr() \n",
        "sn.heatmap(m_corr, annot=True)\n",
        "plt.show()"
      ],
      "execution_count": null,
      "outputs": []
    }
  ]
}