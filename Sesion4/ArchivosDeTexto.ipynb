{
  "nbformat": 4,
  "nbformat_minor": 0,
  "metadata": {
    "colab": {
      "name": "ArchivosDeTexto",
      "provenance": [],
      "include_colab_link": true
    },
    "kernelspec": {
      "name": "python3",
      "display_name": "Python 3"
    }
  },
  "cells": [
    {
      "cell_type": "markdown",
      "metadata": {
        "id": "view-in-github",
        "colab_type": "text"
      },
      "source": [
        "<a href=\"https://colab.research.google.com/github/garestrear/Curso_de_Python/blob/master/Sesion4/ArchivosDeTexto.ipynb\" target=\"_parent\"><img src=\"https://colab.research.google.com/assets/colab-badge.svg\" alt=\"Open In Colab\"/></a>"
      ]
    },
    {
      "cell_type": "markdown",
      "metadata": {
        "id": "5JKoDEBLU-37",
        "colab_type": "text"
      },
      "source": [
        "<h1> Creando un archivo de texto </h1>\n",
        "\n",
        "La sintaxis para crear un archivo de texto en python es la siguiente:\n",
        "\n",
        "```\n",
        "archivo = open('nombre_del_archivo.txt', 'modo')\n",
        "```\n",
        "el argumento `modo` le dice  a python de qué manera usaremos `archivo`\n",
        "\n",
        "Cuando reemplazamos `modo` por:\n",
        "\n",
        "*   `r`: significa que el archivo sólo sera leído (read)\n",
        "*   `w`: significa que se escribirá en el archivo (write). Además si existe cualquier otro archivo con el mismo nombre este será eliminado.\n",
        "* `rb`: significa que el archivo sólo será leído (read) y que es un archivo binario (es decir que el computador lo puede leer, pero no un humano).\n",
        "* `wb` significa que abrirá el archivo para escribir en formato binario. \n",
        "\n",
        "Cuando escribimos `archivo.write('Frase que deseo escribir')` en efecto estamos escribiendo en nuestro archivo. Inténtalo completando la siguiente celda de código:"
      ]
    },
    {
      "cell_type": "code",
      "metadata": {
        "id": "lKZXxnagVxFU",
        "colab_type": "code",
        "colab": {}
      },
      "source": [
        "archivo = open('-------.txt', 'w')\n",
        "archivo.write('-------')"
      ],
      "execution_count": null,
      "outputs": []
    },
    {
      "cell_type": "markdown",
      "metadata": {
        "id": "L76WBUnKbAxV",
        "colab_type": "text"
      },
      "source": [
        "Una vez hayas ejecutado la celda de código anterior habrás creado un archivo de texto y escrito en este. Sin embargo no lo has cerrado, entonces por supuesto puedes seguir escribiendo\n",
        "`archivo.write('sigamos escribiendo')`\n",
        "\n",
        "Pero no cerrar un archivo de estos en el futuro podría significar que vas a tener \"problemas\":\n",
        "\n",
        "*   Poner tu programa lento,\n",
        "*   Utilizar demasiada memoria RAM, ...\n",
        "\n",
        "Así que cerrar los archivos es considerado una buena práctica y la sintaxis para esto es:\n",
        "`archivo.close()`\n",
        "\n",
        "Ahora, existen los llamados *context managers* que se utilizan para devolver recursos (como liberar memoria RAM si es que no cerraste tu archivo).\n",
        "\n",
        "Con el context manager `with` puedes hacer lo mismo de arriba sin tener que preocuparte de cerrar el archivo (lo hace por ti), la sintaxis es la siguiente:\n",
        "\n",
        "```\n",
        "with open('nombre_del_archivo.txt', 'w') as archivo:\n",
        "    archivo.write('Frase que deseo escribir')\n",
        "```\n"
      ]
    },
    {
      "cell_type": "markdown",
      "metadata": {
        "id": "k74eAaK-i7wE",
        "colab_type": "text"
      },
      "source": [
        "Ahora, si te dan un archivo de texto ¿cómo ves lo que hay escrito allí?\n",
        "\n",
        "Bueno, la sintaxis en la siguiente:\n",
        "\n",
        "\n",
        "\n",
        "```\n",
        "with open('nombre_del_archivo.txt', 'r') as archivo:\n",
        "  print(archivo.read())\n",
        "```"
      ]
    },
    {
      "cell_type": "markdown",
      "metadata": {
        "id": "f8es4BtHkr_W",
        "colab_type": "text"
      },
      "source": [
        "Ejecuta la siguiente celda de código para crear y escribir en el archivo `TheZenOfPython.txt`\n"
      ]
    },
    {
      "cell_type": "code",
      "metadata": {
        "id": "CL74lvlf29Zv",
        "colab_type": "code",
        "colab": {}
      },
      "source": [
        "with open('TheZenOfPython.txt', 'w') as archivo:\n",
        "  archivo.write('The Zen of Python, by Tim Peters\\n\\nBeautiful is better than ugly.\\nExplicit is better than implicit.\\nSimple is better than complex.\\nComplex is better than complicated.\\nFlat is better than nested.\\nSparse is better than dense.\\nReadability counts.\\nSpecial cases aren\\'t special enough to break the rules.\\nAlthough practicality beats purity.\\nErrors should never pass silently.\\nUnless explicitly silenced.\\nIn the face of ambiguity, refuse the temptation to guess.\\nThere should be one-- and preferably only one --obvious way to do it.\\nAlthough that way may not be obvious at first unless you\\'re Dutch.\\nNow is better than never.\\nAlthough never is often better than *right* now.\\nIf the implementation is hard to explain, it\\'s a bad idea.\\nIf the implementation is easy to explain, it may be a good idea.\\nNamespaces are one honking great idea -- let\\'s do more of those!')"
      ],
      "execution_count": null,
      "outputs": []
    },
    {
      "cell_type": "markdown",
      "metadata": {
        "id": "RWuxJ5YQ17ov",
        "colab_type": "text"
      },
      "source": [
        "Ahora léelo ejecutando la siguiente línea de código."
      ]
    },
    {
      "cell_type": "code",
      "metadata": {
        "id": "ktq49cDnjFTa",
        "colab_type": "code",
        "colab": {}
      },
      "source": [
        "with open('TheZenOfPython.txt', 'r') as archivo:\n",
        "  print(archivo.read())"
      ],
      "execution_count": null,
      "outputs": []
    }
  ]
}