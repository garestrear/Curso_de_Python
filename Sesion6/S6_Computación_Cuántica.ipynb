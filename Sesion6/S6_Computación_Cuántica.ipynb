{
  "nbformat": 4,
  "nbformat_minor": 0,
  "metadata": {
    "colab": {
      "name": "S6_Computación Cuántica.ipynb",
      "provenance": [],
      "collapsed_sections": [],
      "include_colab_link": true
    },
    "kernelspec": {
      "name": "python3",
      "display_name": "Python 3"
    }
  },
  "cells": [
    {
      "cell_type": "markdown",
      "metadata": {
        "id": "view-in-github",
        "colab_type": "text"
      },
      "source": [
        "<a href=\"https://colab.research.google.com/github/garestrear/Curso_de_Python/blob/master/Sesion6/S6_Computaci%C3%B3n_Cu%C3%A1ntica.ipynb\" target=\"_parent\"><img src=\"https://colab.research.google.com/assets/colab-badge.svg\" alt=\"Open In Colab\"/></a>"
      ]
    },
    {
      "cell_type": "markdown",
      "metadata": {
        "id": "dOBZwS3Omtg6",
        "colab_type": "text"
      },
      "source": [
        "<center> <img src=\"https://github.com/garestrear/Curso_de_Python/blob/master/Sesion6/sesion6_2.JPG?raw=1\" width=\"650\" height=\"250\" align=\"middle\"/> <img src=\"https://github.com/garestrear/Curso_de_Python/blob/master/Sesion6/superposition.gif?raw=1\" width=\"200\" height=\"250\" align=\"middle\"/></center>"
      ]
    },
    {
      "cell_type": "markdown",
      "metadata": {
        "id": "-hwXFrNV68rJ",
        "colab_type": "text"
      },
      "source": [
        "¡Hola Ninja pythonista!\n",
        "\n",
        " En esta clase estudiaremos los conceptos básicos para programar en una compuradora cuántica.\n",
        " Como el presupuesto de este curso no nos ha alcanzado para una (y es posible que tu tampoco tengas computadora cuántica) $IBM^{(1)}$ se ha ofrecido a prestarnos algunas de las de ellos. \n",
        "\n",
        "**Para usar una computadora cuántica** de IBM es indispensable \n",
        " Ir a la página https://quantum-computing.ibm.com/ y **crear tu cuenta de IBM.**\n",
        "\n",
        "\n",
        "$^{(1)}$ IBM:  ***La International Business Machines Corporation*** es  una de las mas importantes, prestigiosas y reconocidas multinacional de tecnología y consultoría en el mundo. "
      ]
    },
    {
      "cell_type": "markdown",
      "metadata": {
        "id": "ij3-lykfWcm-",
        "colab_type": "text"
      },
      "source": [
        "**Consideraciones sobre la computación cuántica**\n",
        "\n",
        "*   Nace a partir de ideas y teorías de la física cuántica.\n",
        "*   La computación clásica usa como unidad de información el bit (el cuál es cero  o uno (1)) y la compuación cuántica considera qubits los cuales están en estados básicos  o en estados combinados (entrelazados).\n",
        "\n",
        "\n",
        "\n"
      ]
    },
    {
      "cell_type": "markdown",
      "metadata": {
        "id": "ieVdtA4eOdPi",
        "colab_type": "text"
      },
      "source": [
        "# **1. Computación clásica VS. Computación cuántica**\n",
        "\n",
        "*  <font color='blue'> La computación clásica usa como unidad de información el bit (el cuál es cero (0) o uno (1)) </font> y <font color='green'> la compuación cuántica considera qubits los cuales están en estados básicos  o en estados combinados (entrelazados).\n",
        " Los **estados básicos** de un qubit se \n",
        "representan con $|0>$ o con $|1>$ y los estados de entrelazamiento se representan con $$\\alpha_0|0> + \\alpha_1 |1> $$ dónde $\\alpha_0$ y $\\alpha_1$ son números complejos tales que $\\vert \\alpha_0 \\vert ^{2} + \\vert \\alpha_1 \\vert ^{2} = 1$.</font>\n",
        "\n",
        "*  <font color='blue'> En computación clásica usamos *puertas lógicas* para manipular la información, por ejemplo \"*Not*\", \"*y*\", \"*o*\" </font> y <font color='green'>  en computación cuántica se usan *puertas cuánticas*. Para cualquier puerta lógica puede buscarse una equivalencia (o una combinación que de una equivalencia) en la computación cuántica."
      ]
    },
    {
      "cell_type": "markdown",
      "metadata": {
        "id": "StBOCYhRYFEK",
        "colab_type": "text"
      },
      "source": [
        "## **Tu turno:** Prepara tu Colab\n",
        "A continuación debes ejecutar algunos comandos necesarios para convertir tu colab en un simulador de computación cuántica.\n",
        "\n",
        "\n",
        "\n",
        "\n"
      ]
    },
    {
      "cell_type": "code",
      "metadata": {
        "id": "YUoV3JWdYmtI",
        "colab_type": "code",
        "colab": {
          "base_uri": "https://localhost:8080/",
          "height": 403
        },
        "outputId": "2737802f-bef6-40ea-f79c-516cfa2cb97e"
      },
      "source": [
        "##Ejecuta la siguiente linea \n",
        "# 1. Instalación de la librería qiskit para computación cuántica\n",
        "!pip install -q qiskit \n",
        "# instalamos  esto\n",
        "!pip install -q qiskit-terra[visualization]\n",
        "# 2. Importamos la librería que instalamos\n",
        "import qiskit\n",
        "# 3. Importamos la libería para graficar circuítos cuánticos\n",
        "#import matplotlib"
      ],
      "execution_count": 2,
      "outputs": [
        {
          "output_type": "stream",
          "text": [
            "\u001b[K     |████████████████████████████████| 8.3MB 2.9MB/s \n",
            "\u001b[K     |████████████████████████████████| 16.5MB 250kB/s \n",
            "\u001b[K     |████████████████████████████████| 163kB 47.1MB/s \n",
            "\u001b[K     |████████████████████████████████| 174kB 50.8MB/s \n",
            "\u001b[K     |████████████████████████████████| 1.9MB 49.1MB/s \n",
            "\u001b[K     |████████████████████████████████| 51kB 6.1MB/s \n",
            "\u001b[K     |████████████████████████████████| 5.8MB 45.2MB/s \n",
            "\u001b[K     |████████████████████████████████| 962kB 44.0MB/s \n",
            "\u001b[K     |████████████████████████████████| 296kB 41.9MB/s \n",
            "\u001b[K     |████████████████████████████████| 71kB 7.9MB/s \n",
            "\u001b[K     |████████████████████████████████| 583kB 32.2MB/s \n",
            "\u001b[K     |████████████████████████████████| 102kB 10.9MB/s \n",
            "\u001b[K     |████████████████████████████████| 2.7MB 45.7MB/s \n",
            "\u001b[?25h  Building wheel for qiskit (setup.py) ... \u001b[?25l\u001b[?25hdone\n",
            "  Building wheel for python-constraint (setup.py) ... \u001b[?25l\u001b[?25hdone\n",
            "  Building wheel for contextvars (setup.py) ... \u001b[?25l\u001b[?25hdone\n",
            "  Building wheel for dlx (setup.py) ... \u001b[?25l\u001b[?25hdone\n",
            "  Building wheel for yfinance (setup.py) ... \u001b[?25l\u001b[?25hdone\n",
            "  Building wheel for docplex (setup.py) ... \u001b[?25l\u001b[?25hdone\n",
            "\u001b[K     |████████████████████████████████| 163kB 3.6MB/s \n",
            "\u001b[K     |████████████████████████████████| 921kB 10.2MB/s \n",
            "\u001b[?25h  Building wheel for pylatexenc (setup.py) ... \u001b[?25l\u001b[?25hdone\n",
            "\u001b[31mERROR: datascience 0.10.6 has requirement folium==0.2.1, but you'll have folium 0.8.3 which is incompatible.\u001b[0m\n"
          ],
          "name": "stdout"
        }
      ]
    },
    {
      "cell_type": "code",
      "metadata": {
        "id": "rHfOYHbMEafk",
        "colab_type": "code",
        "colab": {
          "base_uri": "https://localhost:8080/",
          "height": 140
        },
        "outputId": "87ee61d4-1f27-4243-deaf-fd2a6dc996fe"
      },
      "source": [
        "from qiskit import QuantumCircuit\n",
        "circuit = QuantumCircuit(2)\n",
        "circuit.draw('mpl')"
      ],
      "execution_count": 3,
      "outputs": [
        {
          "output_type": "execute_result",
          "data": {
            "image/png": "[encoded data removed]",
            "text/plain": [
              "<Figure size 140.632x144.48 with 1 Axes>"
            ]
          },
          "metadata": {
            "tags": []
          },
          "execution_count": 3
        }
      ]
    },
    {
      "cell_type": "markdown",
      "metadata": {
        "id": "sTBmcvIkOq-D",
        "colab_type": "text"
      },
      "source": [
        "Creamos un circuirto cuántico de un qubit"
      ]
    },
    {
      "cell_type": "code",
      "metadata": {
        "id": "wgHQHSXSPZAr",
        "colab_type": "code",
        "colab": {
          "base_uri": "https://localhost:8080/",
          "height": 185
        },
        "outputId": "44c649cc-cfcc-449c-b019-a429d33712af"
      },
      "source": [
        "from qiskit import QuantumRegister, ClassicalRegister, QuantumCircuit\n",
        "qreg_q = QuantumRegister(2, 'q')\n",
        "creg_c = ClassicalRegister(2, 'c' )\n",
        "circuit = QuantumCircuit(qreg_q, creg_c)\n",
        "#circuit.draw(output='mpl')\n",
        "circuit.draw('mpl')"
      ],
      "execution_count": null,
      "outputs": [
        {
          "output_type": "execute_result",
          "data": {
            "image/png": "[encoded data removed]",
            "text/plain": [
              "<Figure size 140.632x204.68 with 1 Axes>"
            ]
          },
          "metadata": {
            "tags": []
          },
          "execution_count": 3
        }
      ]
    },
    {
      "cell_type": "markdown",
      "metadata": {
        "id": "kIDsR7oyG06q",
        "colab_type": "text"
      },
      "source": [
        "#**2. Midiendo un sistema cuántico**\n",
        "Medir un sistema cuántico de **un** qbuit en el estado \n",
        "$$\\alpha_0|0> + \\alpha_1 |1> $$\n",
        "\n",
        "se transforma en:\n",
        "1. $|0>$ con probabilidad $\\vert \\alpha_{0}\\vert ^{2}$\n",
        "\n",
        "2. $|1>$ con probabilidad $\\vert \\alpha_{1}\\vert ^{2}$\n",
        "\n",
        "\n"
      ]
    },
    {
      "cell_type": "code",
      "metadata": {
        "id": "HudVJTlMMn7j",
        "colab_type": "code",
        "colab": {
          "base_uri": "https://localhost:8080/",
          "height": 140
        },
        "outputId": "6fa58c04-410b-4f9f-a6dc-4e115ec22070"
      },
      "source": [
        "from qiskit import QuantumRegister, ClassicalRegister, QuantumCircuit\n",
        "\n",
        "qreg_q = QuantumRegister(1, 'q')\n",
        "creg_c = ClassicalRegister(1, 'c')\n",
        "circuit = QuantumCircuit(qreg_q, creg_c)\n",
        "circuit.measure(qreg_q[0], creg_c[0])\n",
        "circuit.draw(output='mpl')"
      ],
      "execution_count": null,
      "outputs": [
        {
          "output_type": "execute_result",
          "data": {
            "image/png": "[encoded data removed]",
            "text/plain": [
              "<Figure size 187.706x144.48 with 1 Axes>"
            ]
          },
          "metadata": {
            "tags": []
          },
          "execution_count": 8
        }
      ]
    },
    {
      "cell_type": "markdown",
      "metadata": {
        "id": "nSiKAbMgMnFk",
        "colab_type": "text"
      },
      "source": [
        "Medir un sistema cuántico de **dos** qbuits en el estado \n",
        "\n",
        "$$\\alpha_{00}|00> + \\; \\alpha_{01} |01> + \\; \\alpha_{10} |10> + \\; \\alpha_{11} |11> $$\n",
        "\n",
        "se transforma en:\n",
        "\n",
        "1. $|00> $ con probabilidad $\\vert \\alpha_{00}\\vert ^{2}$\n",
        "\n",
        "2. $|01> $ con probabilidad $\\vert \\alpha_{01}\\vert ^{2}$\n",
        "\n",
        "3. $|10> $ con probabilidad $\\vert \\alpha_{10}\\vert ^{2}$\n",
        "\n",
        "4. $|11> $ con probabilidad $\\vert \\alpha_{11}\\vert ^{2}$"
      ]
    },
    {
      "cell_type": "code",
      "metadata": {
        "id": "dH7PoBG9Mq7k",
        "colab_type": "code",
        "colab": {
          "base_uri": "https://localhost:8080/",
          "height": 185
        },
        "outputId": "117ae34f-b339-47ad-9d73-bcabfcf3c41a"
      },
      "source": [
        "qreg_q2 = QuantumRegister(2,'q')\n",
        "creg_c2 = ClassicalRegister(2)\n",
        "circuit2 = QuantumCircuit(qreg_q2, creg_c2)\n",
        "circuit2.measure(qreg_q2, creg_c2)\n",
        "circuit2.draw(output='mpl')"
      ],
      "execution_count": null,
      "outputs": [
        {
          "output_type": "execute_result",
          "data": {
            "image/png": "[encoded data removed]",
            "text/plain": [
              "<Figure size 261.032x204.68 with 1 Axes>"
            ]
          },
          "metadata": {
            "tags": []
          },
          "execution_count": 9
        }
      ]
    },
    {
      "cell_type": "markdown",
      "metadata": {
        "id": "ICP-Sja9O3s7",
        "colab_type": "text"
      },
      "source": [
        "#**3. Puertas cuánticas**\n",
        "\n",
        "Antes de usar la computadora de IBM usaremos nuestra propia computadora para simular algunos comportamientos cuánticos. Para empezar realizaremos los gráficos de algunas de las puertas cuánticas más utilizadas. \n",
        "\n",
        "¡Pilas! Estamos entrando al mundo de los circuítos cuánticos.\n",
        "\n",
        "Una **compuerta cuántica** es un operación que se le applica a un sistema de uno o dos qubits. \n",
        "\n",
        "\n",
        "**2.1 Compuerta de Hadammard:**\n",
        "\n",
        "<center> <img src=\"https://github.com/garestrear/Curso_de_Python/blob/master/Sesion6/S6_hadammard.png?raw=1\" width=\"650\" height=\"250\" align=\"middle\"/></center>\n",
        "\n",
        "\n",
        "\n"
      ]
    },
    {
      "cell_type": "markdown",
      "metadata": {
        "id": "kbuGx8xeobzB",
        "colab_type": "text"
      },
      "source": [
        "Agregemos una compuerta de Hadamard a un sistema cuántico con un qubit"
      ]
    },
    {
      "cell_type": "code",
      "metadata": {
        "id": "os8AUvMqVUXR",
        "colab_type": "code",
        "colab": {
          "base_uri": "https://localhost:8080/",
          "height": 140
        },
        "outputId": "c50fb32e-6a2a-4b58-d209-d88c979f9ed7"
      },
      "source": [
        "qreg_q = QuantumRegister(1)\n",
        "creg_c = ClassicalRegister(1)\n",
        "circuit = QuantumCircuit(qreg_q, creg_c)\n",
        "circuit.h(qreg_q[0])\n",
        "circuit.draw(output='mpl')"
      ],
      "execution_count": null,
      "outputs": [
        {
          "output_type": "execute_result",
          "data": {
            "image/png": "[encoded data removed]",
            "text/plain": [
              "<Figure size 200.687x144.48 with 1 Axes>"
            ]
          },
          "metadata": {
            "tags": []
          },
          "execution_count": 10
        }
      ]
    },
    {
      "cell_type": "markdown",
      "metadata": {
        "id": "hpldTvcaOtah",
        "colab_type": "text"
      },
      "source": [
        "Ahora añadimos una operación de medida "
      ]
    },
    {
      "cell_type": "code",
      "metadata": {
        "id": "pYni5_qTo-Hn",
        "colab_type": "code",
        "colab": {
          "base_uri": "https://localhost:8080/",
          "height": 140
        },
        "outputId": "7c8c98cb-bd9d-416c-eb84-5a85c48d83b7"
      },
      "source": [
        "circuit.measure(qreg_q[0], creg_c[0])\n",
        "circuit.draw(output='mpl')"
      ],
      "execution_count": null,
      "outputs": [
        {
          "output_type": "execute_result",
          "data": {
            "image/png": "[encoded data removed]",
            "text/plain": [
              "<Figure size 260.887x144.48 with 1 Axes>"
            ]
          },
          "metadata": {
            "tags": []
          },
          "execution_count": 11
        }
      ]
    },
    {
      "cell_type": "markdown",
      "metadata": {
        "id": "D2FIOhL7Fyab",
        "colab_type": "text"
      },
      "source": [
        "Ejecutamos nuestro circuito `circuit` en el simulador de IBM\n",
        "\n",
        "\n",
        "¿Profe y ese simulador que es o que? ¿Cómo funciona?"
      ]
    },
    {
      "cell_type": "code",
      "metadata": {
        "id": "-jzSMLwz_6hS",
        "colab_type": "code",
        "colab": {
          "base_uri": "https://localhost:8080/",
          "height": 326
        },
        "outputId": "5193e031-67e6-4e2e-d638-4ede76e50c9f"
      },
      "source": [
        "from qiskit import Aer, execute\n",
        "from qiskit.tools.visualization import plot_histogram\n",
        "\n",
        "simulator = Aer.get_backend('qasm_simulator')\n",
        "results = execute(circuit, backend = simulator).result()\n",
        "plot_histogram(results.get_counts(circuit))"
      ],
      "execution_count": null,
      "outputs": [
        {
          "output_type": "execute_result",
          "data": {
            "image/png": "[encoded data removed]",
            "text/plain": [
              "<Figure size 504x360 with 1 Axes>"
            ]
          },
          "metadata": {
            "tags": []
          },
          "execution_count": 12
        }
      ]
    },
    {
      "cell_type": "markdown",
      "metadata": {
        "id": "sEiLSTm8X3Eb",
        "colab_type": "text"
      },
      "source": [
        "#**Accediendo a los computadores cuánticos de IBM**\n",
        "\n",
        "En esta parte usarás tu ID en la paltaforma IBMQ\n",
        "\n",
        "Mi_ID: \n",
        "f3f1be2558e06cfa81d8eda2b1e9b5e32f77fad6fff806ea5c01128d8f41333af967ab27962235d2e7c0ea1775e43da5c33b91390ab0fb1035cdd3c35afa0f\n",
        "## **Tu turno:** Prepara tu Colab\n",
        "A continuación debes ejecutar algunos comandos acceder de manera remota al conjunto de computadores cuánticos de IBM.\n"
      ]
    },
    {
      "cell_type": "code",
      "metadata": {
        "id": "2wmMMRkDPSoA",
        "colab_type": "code",
        "colab": {}
      },
      "source": [
        "#Ejecuta el siguiente código para cargar las funciones de IBMQ\n",
        "from qiskit import IBMQ"
      ],
      "execution_count": null,
      "outputs": []
    },
    {
      "cell_type": "code",
      "metadata": {
        "id": "myx_uEyvPa2N",
        "colab_type": "code",
        "colab": {}
      },
      "source": [
        "#Copia tu IBMQ ID  en el espacio mencionado\n",
        "IBMQ.save_account('Coloca tu ID de IBM aquí ', overwrite=True)\n",
        "IBMQ.load_account()"
      ],
      "execution_count": null,
      "outputs": []
    },
    {
      "cell_type": "code",
      "metadata": {
        "id": "uUGovSRB7U7g",
        "colab_type": "code",
        "colab": {}
      },
      "source": [
        "#ÉSTE BLOQUE ES SOLO PARA PROBAR\n",
        "IBMQ.save_account('7df3f1be2558e06cfa81d8eda2b1e9b5e32f77fad6fff806ea5c01128d8f41333af967ab27962235d2e7c0ea1775e43da5c33b91390ab0fb1035cdd3c35afa0f', overwrite=True)\n",
        "IBMQ.load_account()"
      ],
      "execution_count": null,
      "outputs": []
    },
    {
      "cell_type": "markdown",
      "metadata": {
        "id": "mIF5OXJxvGkD",
        "colab_type": "text"
      },
      "source": [
        "El primer uso comercial de computadores cuánticos se espera que sea remoto.\n",
        "Podemos acceder a la lista de provedores de servicios cuánticos asociados a IBM usando `IBMQ.providers()`."
      ]
    },
    {
      "cell_type": "code",
      "metadata": {
        "id": "lQinn49osp9M",
        "colab_type": "code",
        "colab": {}
      },
      "source": [
        "IBMQ.providers()"
      ],
      "execution_count": null,
      "outputs": []
    },
    {
      "cell_type": "code",
      "metadata": {
        "id": "F5TLT8CgRHEo",
        "colab_type": "code",
        "colab": {}
      },
      "source": [
        "len(IBMQ.providers())"
      ],
      "execution_count": null,
      "outputs": []
    },
    {
      "cell_type": "markdown",
      "metadata": {
        "id": "4lE30vynuhW3",
        "colab_type": "text"
      },
      "source": [
        "Para acceder a un provedor de servicios cuánticos usamos\n",
        "\n",
        "`IBMQ.get_provider(hub='MY_HUB', group='MY_GROUP', project='MY_PROJECT')`"
      ]
    },
    {
      "cell_type": "code",
      "metadata": {
        "id": "Bf9aSwsrreMl",
        "colab_type": "code",
        "colab": {}
      },
      "source": [
        "provider = IBMQ.get_provider(hub ='ibm-q')"
      ],
      "execution_count": null,
      "outputs": []
    },
    {
      "cell_type": "markdown",
      "metadata": {
        "id": "hnpFl2HfzZAe",
        "colab_type": "text"
      },
      "source": [
        "\n",
        "\n",
        "##**Tu turno:** explora  las propiedades del objeto `provider`"
      ]
    },
    {
      "cell_type": "code",
      "metadata": {
        "id": "u1nnQx7T5O_C",
        "colab_type": "code",
        "colab": {}
      },
      "source": [
        ""
      ],
      "execution_count": null,
      "outputs": []
    },
    {
      "cell_type": "markdown",
      "metadata": {
        "id": "edlXw6248Tvd",
        "colab_type": "text"
      },
      "source": [
        "Computadores cuánticos disponibles en el provedor `provider`."
      ]
    },
    {
      "cell_type": "code",
      "metadata": {
        "id": "GvhxEN1H5QfK",
        "colab_type": "code",
        "colab": {}
      },
      "source": [
        "provider.backends()"
      ],
      "execution_count": null,
      "outputs": []
    },
    {
      "cell_type": "markdown",
      "metadata": {
        "id": "6d61QGXhL9HO",
        "colab_type": "text"
      },
      "source": [
        "Cada provedor de servicios cuánticos tiene asociados un conjunto de dispositivos cuánticos llamados `Backends`.\n",
        "\n",
        "El código `provider.backends()` devuelve una lista con los computadores físicos disponibles en el proveedor  `ibm-q`."
      ]
    },
    {
      "cell_type": "code",
      "metadata": {
        "id": "gDoVZ7OfzHKb",
        "colab_type": "code",
        "colab": {}
      },
      "source": [
        ""
      ],
      "execution_count": null,
      "outputs": []
    },
    {
      "cell_type": "markdown",
      "metadata": {
        "id": "IOQ3PkEK6cHF",
        "colab_type": "text"
      },
      "source": [
        "#**Atributos y métodos de un objeto**\n",
        "\n",
        "Los **atributos** de un objeto `obj` son caracteristicas asociadas a `obj`. \n",
        "Para imprimir  un atributo `atri` de `obj` escribirmos `obj.atri` y esperamos un segundo.\n",
        "\n",
        "Los **métodos** de un objeto `obj` son caracteristicas asociadas a `obj`. \n",
        "En Colab los puedes indentificar pues en estos aparece una figura de **caja** cuando escribirmos `obj.` y esperamos un segundo.\n",
        "Para ejecutar un método `func` de `obj` ejecutamos `obj.func()`. \n",
        "\n",
        "Para ver los métodos y atributos de un objeto `obj` en Colab, escribimos `obj.` y esperamos a que se deplieguen las opciones.\n",
        "\n",
        "`backends` es el métodod del objeto `provider` que contiene la información de todos los computadores cuánticos dispobibles en el provedor `provider`.\n",
        "\n",
        "La siguiente linea asigna a la variable back la información de del segundo computador cuánticos en el proveedor `ibm-q`. "
      ]
    },
    {
      "cell_type": "code",
      "metadata": {
        "id": "y7flghOG7JpQ",
        "colab_type": "code",
        "colab": {}
      },
      "source": [
        "back = provider.backends()[1]"
      ],
      "execution_count": null,
      "outputs": []
    },
    {
      "cell_type": "markdown",
      "metadata": {
        "id": "dStBC-e27Wq3",
        "colab_type": "text"
      },
      "source": [
        "##**Tu turno:** imprima un atributo del objeto `back`"
      ]
    },
    {
      "cell_type": "code",
      "metadata": {
        "id": "Df6JlNOt7zWG",
        "colab_type": "code",
        "colab": {}
      },
      "source": [
        ""
      ],
      "execution_count": null,
      "outputs": []
    },
    {
      "cell_type": "markdown",
      "metadata": {
        "id": "XDJc7AKp72GN",
        "colab_type": "text"
      },
      "source": [
        "##**Tu turno:** imprima un método del objeto `back`."
      ]
    },
    {
      "cell_type": "code",
      "metadata": {
        "id": "AjsD6N1h75q3",
        "colab_type": "code",
        "colab": {}
      },
      "source": [
        ""
      ],
      "execution_count": null,
      "outputs": []
    },
    {
      "cell_type": "markdown",
      "metadata": {
        "id": "oRuyVx6YLl4m",
        "colab_type": "text"
      },
      "source": [
        "Analicemos las propiedades de la computadora cuántica `back`.\n",
        "\n",
        "##**Tu turno:** En las siguientes lineas imprime el atributo o método que se pide del computador cúantico `back`.\n",
        "\n",
        "*Nombre:*"
      ]
    },
    {
      "cell_type": "code",
      "metadata": {
        "id": "7OFdylI_MWTt",
        "colab_type": "code",
        "colab": {
          "base_uri": "https://localhost:8080/",
          "height": 35
        },
        "outputId": "f1317772-1247-474d-9b55-fd0ca53db5b6"
      },
      "source": [
        "back.name()"
      ],
      "execution_count": null,
      "outputs": [
        {
          "output_type": "execute_result",
          "data": {
            "application/vnd.google.colaboratory.intrinsic+json": {
              "type": "string"
            },
            "text/plain": [
              "'ibmqx2'"
            ]
          },
          "metadata": {
            "tags": []
          },
          "execution_count": 19
        }
      ]
    },
    {
      "cell_type": "markdown",
      "metadata": {
        "id": "JW8EOzzZB3JK",
        "colab_type": "text"
      },
      "source": [
        "*Proyecto:*"
      ]
    },
    {
      "cell_type": "code",
      "metadata": {
        "id": "AnApjWTyB2Qt",
        "colab_type": "code",
        "colab": {}
      },
      "source": [
        ""
      ],
      "execution_count": null,
      "outputs": []
    },
    {
      "cell_type": "markdown",
      "metadata": {
        "id": "2YsMy1c0B6vb",
        "colab_type": "text"
      },
      "source": [
        "*Versión:*"
      ]
    },
    {
      "cell_type": "code",
      "metadata": {
        "id": "5YbKED0WB9nx",
        "colab_type": "code",
        "colab": {}
      },
      "source": [
        ""
      ],
      "execution_count": null,
      "outputs": []
    },
    {
      "cell_type": "markdown",
      "metadata": {
        "id": "YGIiWwFzCGwT",
        "colab_type": "text"
      },
      "source": [
        "##**Clases:**\n",
        "Algunos métodos devuelven clases, una clase es un método que devuelve un objeto. Éste objeto tiene asociados métodos y atributos.\n",
        "\n",
        "**Ejemplo:** El método `job_limit` asociado al backend `back` devulve un objeto de la clase `BackendJobLimit`. La siguiente linea crea un objeto de ésta clase.\n",
        "\n",
        "##**Tu turno:** Ejecute la siguiente linea para crear el objeto de la clase `BackendJobLimit` asociado a `back`."
      ]
    },
    {
      "cell_type": "code",
      "metadata": {
        "id": "Kxo_NhmnDUUN",
        "colab_type": "code",
        "colab": {}
      },
      "source": [
        "back_limit = back.job_limit()"
      ],
      "execution_count": null,
      "outputs": []
    },
    {
      "cell_type": "markdown",
      "metadata": {
        "id": "G1K1pPeeDdkW",
        "colab_type": "text"
      },
      "source": [
        "El objeto `back_limit` tiene dos atributos asociados"
      ]
    },
    {
      "cell_type": "markdown",
      "metadata": {
        "id": "kAGKKizGCgvV",
        "colab_type": "text"
      },
      "source": [
        "##**Tu turno:**  Imprime los atributos associados a `back_limit`"
      ]
    },
    {
      "cell_type": "code",
      "metadata": {
        "id": "y9UH6yh5DzfF",
        "colab_type": "code",
        "colab": {}
      },
      "source": [
        ""
      ],
      "execution_count": null,
      "outputs": []
    },
    {
      "cell_type": "markdown",
      "metadata": {
        "id": "vr70d55wENa8",
        "colab_type": "text"
      },
      "source": [
        "##**Disponilidad en tiempo real de un computador cuántico**\n",
        "\n",
        "Para explorar el estado real de un computador cuánticos usamos el método `status`. Éste método devulve un objeto de la clase `BackendStatus`.\n",
        "\n",
        "##**Tu turno:** Ejecute la siguiente linea para crear el objeto de la clase `BackendStatus` asociado a `back`."
      ]
    },
    {
      "cell_type": "code",
      "metadata": {
        "id": "iO42oTCo-k-m",
        "colab_type": "code",
        "colab": {}
      },
      "source": [
        "back_status = back.status()"
      ],
      "execution_count": null,
      "outputs": []
    },
    {
      "cell_type": "markdown",
      "metadata": {
        "id": "Aqz4S3yYFv-a",
        "colab_type": "text"
      },
      "source": [
        "##**Tu turno:** Usa un atributo asociado al objeto `back_status` para ver el número de trabajos pendientes por ejecutar en el computador denotado por `back`."
      ]
    },
    {
      "cell_type": "code",
      "metadata": {
        "id": "6FhTuPV4FwME",
        "colab_type": "code",
        "colab": {}
      },
      "source": [
        ""
      ],
      "execution_count": null,
      "outputs": []
    },
    {
      "cell_type": "markdown",
      "metadata": {
        "id": "vlvI2qdNGk0v",
        "colab_type": "text"
      },
      "source": [
        "##**Explorando las propiedades de un computador cuántico**\n",
        "\n",
        "Para explorar la configuraciónd de un computador cuántico usamos el método `configuration`.\n",
        "\n",
        "Primero creamos un objeto de la clase asociada a `configuration`.\n",
        "\n",
        "##**Tu turno:** \n",
        "(1) Ejecuta la siguiente linea.\n",
        "\n",
        "(2) Usa los atributos del objeto `back_conf`para imprimir el número de qubits en la computadora `back`."
      ]
    },
    {
      "cell_type": "code",
      "metadata": {
        "id": "RedDYI0zAsKM",
        "colab_type": "code",
        "colab": {}
      },
      "source": [
        "back_conf = back.configuration()"
      ],
      "execution_count": null,
      "outputs": []
    },
    {
      "cell_type": "code",
      "metadata": {
        "id": "JKkgNsEZQ2SZ",
        "colab_type": "code",
        "colab": {}
      },
      "source": [
        "back_conf.n_qubits"
      ],
      "execution_count": null,
      "outputs": []
    },
    {
      "cell_type": "markdown",
      "metadata": {
        "id": "fgBRTJr4R3TQ",
        "colab_type": "text"
      },
      "source": [
        "Otra propiedades importantes que puedes conocer por médio de los atributosasociados a `back`."
      ]
    },
    {
      "cell_type": "code",
      "metadata": {
        "id": "v82GQmIK_C-2",
        "colab_type": "code",
        "colab": {}
      },
      "source": [
        "back_conf.basis_gates"
      ],
      "execution_count": null,
      "outputs": []
    },
    {
      "cell_type": "code",
      "metadata": {
        "id": "KWA-80ePQxlV",
        "colab_type": "code",
        "colab": {}
      },
      "source": [
        "back_conf.max_shots"
      ],
      "execution_count": null,
      "outputs": []
    },
    {
      "cell_type": "markdown",
      "metadata": {
        "id": "1rEBXRyBS4Zq",
        "colab_type": "text"
      },
      "source": [
        "**Coupling Map**: determina las restricciones al applicar compuertas `cnot` en el computador cuántico en cuestión."
      ]
    },
    {
      "cell_type": "code",
      "metadata": {
        "id": "kcY8BUrwSGQr",
        "colab_type": "code",
        "colab": {}
      },
      "source": [
        "back_conf.coupling_map"
      ],
      "execution_count": null,
      "outputs": []
    },
    {
      "cell_type": "markdown",
      "metadata": {
        "id": "RbY0paOIRLbD",
        "colab_type": "text"
      },
      "source": [
        "Con lo aprendido podemos imprimir el nombre de todos los computadores cuánticos de libre acceso en IBM y alguna información adicional.\n",
        "\n",
        "##**Tu turno:** Ejecute las dos siguientes lineas; tomese un tiempo para analizar que está ejecutando."
      ]
    },
    {
      "cell_type": "code",
      "metadata": {
        "id": "M0XFv-gIKR1V",
        "colab_type": "code",
        "colab": {}
      },
      "source": [
        "for backend in provider.backends():\n",
        "    print(backend.name())"
      ],
      "execution_count": null,
      "outputs": []
    },
    {
      "cell_type": "code",
      "metadata": {
        "id": "PVrueaFDwS8k",
        "colab_type": "code",
        "colab": {}
      },
      "source": [
        "for backend in provider.backends():\n",
        "    num_qbits = backend.configuration().n_qubits\n",
        "    print(f'{backend.name()}: {num_qbits} qubits and {backend.status().pending_jobs} trabajos en fila' )"
      ],
      "execution_count": null,
      "outputs": []
    },
    {
      "cell_type": "markdown",
      "metadata": {
        "id": "Mo8PJR6sLUfF",
        "colab_type": "text"
      },
      "source": [
        "##**Generador de números aleatorios**\n",
        "\n",
        "En esta parte construiremos un algoritmo cuántico que genera números enteros aleatorios entre 0 y 31, y lo ejecutaremos en una de las computadoras cuánticas de IBM.\n",
        "\n",
        "##**Diseño del circuito**\n",
        "\n",
        "(1) Agregamos al diseño 5 quibits y 5 bits. \n"
      ]
    },
    {
      "cell_type": "code",
      "metadata": {
        "id": "bxsPYfJ-U-Eg",
        "colab_type": "code",
        "colab": {}
      },
      "source": [
        "from qiskit import QuantumRegister, ClassicalRegister, QuantumCircuit\n",
        "qr = QuantumRegister(5,'q')\n",
        "cr = ClassicalRegister(5)\n",
        "generador = QuantumCircuit(qr,cr)\n",
        "generador.draw(output='mpl')"
      ],
      "execution_count": null,
      "outputs": []
    },
    {
      "cell_type": "markdown",
      "metadata": {
        "id": "AWC5plE8V651",
        "colab_type": "text"
      },
      "source": [
        "(2) Agregamos al diseño la aplicación de una compuerta de Hadamard a cada qbuit"
      ]
    },
    {
      "cell_type": "code",
      "metadata": {
        "id": "x0uqDdLcWHXG",
        "colab_type": "code",
        "colab": {}
      },
      "source": [
        "generador.h(qr[0])\n",
        "generador.h(qr[1])\n",
        "generador.h(qr[2])\n",
        "generador.h(qr[3])\n",
        "generador.h(qr[4])\n",
        "generador.draw(output='mpl')"
      ],
      "execution_count": null,
      "outputs": []
    },
    {
      "cell_type": "markdown",
      "metadata": {
        "id": "7luuXE_nWYv0",
        "colab_type": "text"
      },
      "source": [
        "(3) Agregamos al diseño una operación de medida para cada qubit"
      ]
    },
    {
      "cell_type": "code",
      "metadata": {
        "id": "8qZ6WAzNWhca",
        "colab_type": "code",
        "colab": {}
      },
      "source": [
        "generador.measure(qr,cr)\n",
        "generador.draw(output='mpl')"
      ],
      "execution_count": null,
      "outputs": []
    },
    {
      "cell_type": "markdown",
      "metadata": {
        "id": "hw6Gj5KxWvEP",
        "colab_type": "text"
      },
      "source": [
        "##**Ejecución del circuito**\n",
        "\n",
        "Ahora exportaremos nuestro circuito hasta los computadores cuánticos de IBM, lo ejecutaremos e importaremos los resultados. \n",
        "\n",
        "(1) Simpre es bueno dar un vistazo a la demanda de nuestro proveedor de servicios cuánticos"
      ]
    },
    {
      "cell_type": "code",
      "metadata": {
        "id": "G2cS_oHYKyjZ",
        "colab_type": "code",
        "colab": {}
      },
      "source": [
        "for backend in provider.backends():\n",
        "    num_qbits = backend.configuration().n_qubits\n",
        "    print(f'{backend.name()}: {num_qbits} qubits and {backend.status().pending_jobs} trabajos en fila' )"
      ],
      "execution_count": null,
      "outputs": []
    },
    {
      "cell_type": "markdown",
      "metadata": {
        "id": "aojkZ5OFXNQT",
        "colab_type": "text"
      },
      "source": [
        "(2) Cargamos nuestra cuenta (si no lo hemos hecho) y cargamos el computador que vamos a usar"
      ]
    },
    {
      "cell_type": "code",
      "metadata": {
        "id": "25nq2BQfXRT9",
        "colab_type": "code",
        "colab": {}
      },
      "source": [
        "IBMQ.load_account()"
      ],
      "execution_count": null,
      "outputs": []
    },
    {
      "cell_type": "code",
      "metadata": {
        "id": "AqFpv7qYXfTw",
        "colab_type": "code",
        "colab": {}
      },
      "source": [
        "qcomp = provider.get_backend('Nómbre de la máquina que quiere usar')"
      ],
      "execution_count": null,
      "outputs": []
    },
    {
      "cell_type": "code",
      "metadata": {
        "id": "SJI9RDyuXjrx",
        "colab_type": "code",
        "colab": {}
      },
      "source": [
        "qcomp = provider.get_backend('ibmq_16_melbourne')"
      ],
      "execution_count": null,
      "outputs": []
    },
    {
      "cell_type": "markdown",
      "metadata": {
        "id": "KHi81p0WXsN5",
        "colab_type": "text"
      },
      "source": [
        "(3) Creamos una solicitud de ejecución. El parámetro `shots` indica el número de veces que se ejecutará el circuito `generador`. "
      ]
    },
    {
      "cell_type": "code",
      "metadata": {
        "id": "9facAud2XwnL",
        "colab_type": "code",
        "colab": {}
      },
      "source": [
        "from qiskit import execute\n",
        "trabajo =execute(generador, backend=qcomp, shots = 1000)"
      ],
      "execution_count": null,
      "outputs": []
    },
    {
      "cell_type": "markdown",
      "metadata": {
        "id": "Q3vBe6nWXm5G",
        "colab_type": "text"
      },
      "source": [
        "(4) Monitoreamos nuestra solicitud"
      ]
    },
    {
      "cell_type": "code",
      "metadata": {
        "id": "IKRZ6a5HYpfs",
        "colab_type": "code",
        "colab": {}
      },
      "source": [
        "from qiskit.tools.monitor import job_monitor"
      ],
      "execution_count": null,
      "outputs": []
    },
    {
      "cell_type": "code",
      "metadata": {
        "id": "VUGh_rx0Y-hf",
        "colab_type": "code",
        "colab": {
          "base_uri": "https://localhost:8080/",
          "height": 34
        },
        "outputId": "9b1163ec-961f-4e06-9144-1508b8dc76f1"
      },
      "source": [
        "job_monitor(trabajo)"
      ],
      "execution_count": null,
      "outputs": [
        {
          "output_type": "stream",
          "text": [
            "Job Status: job has successfully run\n"
          ],
          "name": "stdout"
        }
      ]
    },
    {
      "cell_type": "markdown",
      "metadata": {
        "id": "W63rS1m1ZHYa",
        "colab_type": "text"
      },
      "source": [
        "(5) Esperamos que se ejecute y visualizamos los resultados "
      ]
    },
    {
      "cell_type": "code",
      "metadata": {
        "id": "oCsTeM0DMO52",
        "colab_type": "code",
        "colab": {}
      },
      "source": [
        "from qiskit.tools.visualization import plot_histogram"
      ],
      "execution_count": null,
      "outputs": []
    },
    {
      "cell_type": "code",
      "metadata": {
        "id": "sRyqLTJAZleL",
        "colab_type": "code",
        "colab": {}
      },
      "source": [
        "resultados = trabajo.result()"
      ],
      "execution_count": null,
      "outputs": []
    },
    {
      "cell_type": "code",
      "metadata": {
        "id": "NmGcalZEbHPI",
        "colab_type": "code",
        "colab": {}
      },
      "source": [
        "resultados.get_counts()"
      ],
      "execution_count": null,
      "outputs": []
    },
    {
      "cell_type": "code",
      "metadata": {
        "id": "6zfOG-SpcqaE",
        "colab_type": "code",
        "colab": {}
      },
      "source": [
        "a  = resultados.get_counts()"
      ],
      "execution_count": null,
      "outputs": []
    },
    {
      "cell_type": "code",
      "metadata": {
        "id": "zCaNZb1Bcs50",
        "colab_type": "code",
        "colab": {
          "base_uri": "https://localhost:8080/",
          "height": 54
        },
        "outputId": "be0fa88d-d47d-4911-d655-ba377069f89a"
      },
      "source": [
        "a.keys()"
      ],
      "execution_count": null,
      "outputs": [
        {
          "output_type": "execute_result",
          "data": {
            "text/plain": [
              "dict_keys(['00000', '00001', '10000', '10001', '10010', '10011', '10100', '10101', '10110', '10111', '11000', '11001', '11010', '11011', '11100', '11101', '11110', '11111', '00010', '00011', '00100', '00101', '00110', '00111', '01000', '01001', '01010', '01011', '01100', '01101', '01110', '01111'])"
            ]
          },
          "metadata": {
            "tags": []
          },
          "execution_count": 100
        }
      ]
    },
    {
      "cell_type": "code",
      "metadata": {
        "id": "NmCJqjJXZqqY",
        "colab_type": "code",
        "colab": {
          "base_uri": "https://localhost:8080/",
          "height": 34
        },
        "outputId": "c4c54a47-38a6-4cc2-cca7-73534cb6e8f4"
      },
      "source": [
        "a.values()"
      ],
      "execution_count": null,
      "outputs": [
        {
          "output_type": "execute_result",
          "data": {
            "text/plain": [
              "dict_values([48, 35, 26, 32, 35, 38, 36, 22, 29, 24, 31, 23, 32, 18, 21, 28, 17, 31, 37, 35, 39, 25, 31, 30, 35, 30, 34, 43, 35, 34, 31, 35])"
            ]
          },
          "metadata": {
            "tags": []
          },
          "execution_count": 102
        }
      ]
    },
    {
      "cell_type": "code",
      "metadata": {
        "id": "DGQ5gSPQZjRR",
        "colab_type": "code",
        "colab": {
          "base_uri": "https://localhost:8080/",
          "height": 356
        },
        "outputId": "8b59744f-a6ac-4c4f-8a5a-2ab488d98404"
      },
      "source": [
        "plot_histogram(resultados.get_counts(generador))"
      ],
      "execution_count": null,
      "outputs": [
        {
          "output_type": "execute_result",
          "data": {
            "image/png": "[encoded data removed]",
            "text/plain": [
              "<Figure size 504x360 with 1 Axes>"
            ]
          },
          "metadata": {
            "tags": []
          },
          "execution_count": 85
        }
      ]
    },
    {
      "cell_type": "code",
      "metadata": {
        "id": "wgYj7F_7rFlM",
        "colab_type": "code",
        "colab": {}
      },
      "source": [
        "resultados.get_counts(,)"
      ],
      "execution_count": null,
      "outputs": []
    },
    {
      "cell_type": "code",
      "metadata": {
        "id": "XueH-SONX8LU",
        "colab_type": "code",
        "colab": {}
      },
      "source": [
        "Bibliografía y enlaces de interés\n",
        "\n",
        "- https://qiskit.org/\n",
        "\n",
        "- https://qiskit.org/textbook/preface.html \n",
        "\n",
        "- https://www.youtube.com/channel/UClBNq7mCMf5xm8baE_VMl3A\n",
        "\n",
        "- https://www.overleaf.com/read/rwdgknxrjgrw"
      ],
      "execution_count": null,
      "outputs": []
    },
    {
      "cell_type": "code",
      "metadata": {
        "id": "3RwZwR1yYFcK",
        "colab_type": "code",
        "colab": {}
      },
      "source": [
        ""
      ],
      "execution_count": null,
      "outputs": []
    }
  ]
}