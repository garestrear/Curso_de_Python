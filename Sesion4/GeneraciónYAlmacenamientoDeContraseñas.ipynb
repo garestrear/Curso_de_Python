{
  "nbformat": 4,
  "nbformat_minor": 0,
  "metadata": {
    "colab": {
      "name": "GeneraciónYAlmacenamientoDeContraseñas.ipynb",
      "provenance": [],
      "include_colab_link": true
    },
    "kernelspec": {
      "name": "python3",
      "display_name": "Python 3"
    }
  },
  "cells": [
    {
      "cell_type": "markdown",
      "metadata": {
        "id": "view-in-github",
        "colab_type": "text"
      },
      "source": [
        "<a href=\"https://colab.research.google.com/github/garestrear/Curso_de_Python/blob/master/Generaci%C3%B3nYAlmacenamientoDeContrase%C3%B1as.ipynb\" target=\"_parent\"><img src=\"https://colab.research.google.com/assets/colab-badge.svg\" alt=\"Open In Colab\"/></a>"
      ]
    },
    {
      "cell_type": "markdown",
      "metadata": {
        "id": "JjD4vVOOo-st",
        "colab_type": "text"
      },
      "source": [
        "![Generación y almacenamiento de contraseñas](https://raw.githubusercontent.com/garestrear/Curso_de_Python/master/S4_Contrasenhas.png)"
      ]
    },
    {
      "cell_type": "markdown",
      "metadata": {
        "id": "rhtJ_ric40tn",
        "colab_type": "text"
      },
      "source": [
        "<h1> <center> ¿Han sido filtrados tus datos? </center> </h1>\n",
        "\n",
        "Frecuentemente crear una contraseña es el único paso que tomamos para proteger la información en nuestros celulares, computadores o cuentas personales.\n",
        "\n",
        "Sin embargo usar contraseñas débiles, usar la misma contraseña en varias redes sociales o la fragilidad de estas redes ha hecho posible que en el pasado se creen y comercialicen bases de datos donde nuestros datos han sido expuestos.\n",
        "\n",
        "En [how secure is my password](https://howsecureismypassword.net) podemos verificar la fortaleza de las siguientes contraseñas:\n",
        "*   12345\n",
        "*   g^\\j5~pcZ^p\n",
        "*   7\\#E7-fD=d\n",
        "\n",
        "[Have I been Pwned?](https://haveibeenpwned.com/) es una página web que recopila todas las filtraciones de contraseñas. \n",
        "En ella escribes tu correo electrónico y la web te dice si se ha filtrado alguna contraseña en servicios en los que lo has utilizado. De esta manera, si ves que ha habido una filtración de tus datos\n",
        "¡cambia tu contraseña!\n",
        "\n",
        "  Hoy aprenderemos a crear contraseñas fuertes y a cómo cifrarlas.\n",
        "\n",
        "\n",
        "<h1> <center > ¿Qué es cifrar? </center> </h1>\n",
        "\n",
        "El cifrado es un método para ocultar información para que nadie que no conozca la llave pueda leerla. La llave se usa para bloquear y desbloquear dicha información. \n",
        "\n",
        "Para cifrar un dato, aplicamos un algoritmo (criptográfico) que convierte tal información en símbolos que parecen que no tienen ningún sentido para cualquiera que no sepa cómo revertir las operaciones. \n",
        "\n",
        "En internet, el cifrado se utiliza para datos sensibles, como un número de tarjeta de crédito o tu contraseña de correo electrónico, y luego enviarlos a través de la red. De esta manera, nadie puede interceptar y leer los datos mientras viaja por la web. El destinatario de los datos tiene que saber cómo descifrar la información o, de lo contrario, los datos también se verán incomprensibles para el destinatario.\n",
        "\n",
        "![Cifrar](https://raw.githubusercontent.com/garestrear/Curso_de_Python/master/Cifrar.jpg)"
      ]
    },
    {
      "cell_type": "markdown",
      "metadata": {
        "id": "0cu4WcdkpU5k",
        "colab_type": "text"
      },
      "source": [
        "# 1. Módulo `secrets`\n",
        "\n",
        "El módulo `secrets` de Python es usado para generar datos aleatorios seguros (criptográficamente fuertes) para administrar contraseñas, autenticación de cuentas o tokens de seguridad.\n",
        "\n",
        "En particular, `secrets` debe usarse con preferencia al generador de números pseudoaleatorio predeterminado en el módulo `random`, que está diseñado para modelar y simular, no para seguridad o criptografía.\n",
        "\n",
        "Este módulo proporciona acceso a la fuente de aleatoriedad más segura que proporciona tu sistema operativo."
      ]
    },
    {
      "cell_type": "code",
      "metadata": {
        "id": "HuYFVO2ETV64",
        "colab_type": "code",
        "colab": {}
      },
      "source": [
        "import secrets"
      ],
      "execution_count": null,
      "outputs": []
    },
    {
      "cell_type": "markdown",
      "metadata": {
        "id": "aS9uFQuPqwPc",
        "colab_type": "text"
      },
      "source": [
        "En `secrets` encontramos la clase `random.SystemRandom`, la cual genera números aleatorios utilizando las fuentes de mayor calidad proporcionadas por tu sistema operativo.\n",
        " En particular usaremos el método `choice` de la clase `random.SystemRandom`  (`secrets.choice`), este nos permitirá escoger de forma aleatoria un elemento de una secuencia (lista, string, etc.) no vacía."
      ]
    },
    {
      "cell_type": "code",
      "metadata": {
        "id": "S_8_7YrLTijL",
        "colab_type": "code",
        "colab": {}
      },
      "source": [
        "ToDo = ['sacar el perro', 'estudiar pyhton', 'bañarme', 'ejercicio']\n",
        "Do = secrets.choice(ToDo)       # Escoge aleatoriamente un elemento de la lista ToDo\n",
        "print('Lo que debo hacer es:', Do)"
      ],
      "execution_count": null,
      "outputs": []
    },
    {
      "cell_type": "code",
      "metadata": {
        "id": "6DVDO7f7UlbD",
        "colab_type": "code",
        "colab": {}
      },
      "source": [
        "Dos = secrets.SystemRandom().sample(ToDo, 3)\n",
        "print('Hoy debo:' + Dos[0] + ', ' + Dos[1] + ' y ' + Dos[2])"
      ],
      "execution_count": null,
      "outputs": []
    },
    {
      "cell_type": "markdown",
      "metadata": {
        "id": "xSAX46Q5uRv4",
        "colab_type": "text"
      },
      "source": [
        "***Tu turno:*** Intenta aplicar `secrets.SystemRandom().sample()` ingresando como primer parámetro la lista `ToDo` y como segundo parámetro un número entero entre 1 y 4. \n",
        "\n",
        "*Tal vez intentar:* `secrets.SystemRandom().sample(ToDo, 2)`."
      ]
    },
    {
      "cell_type": "code",
      "metadata": {
        "id": "7me2Ru3zu0O6",
        "colab_type": "code",
        "colab": {}
      },
      "source": [
        "# Aplicar secrets.SystemRandom().sample() a la lista ToDo.\n"
      ],
      "execution_count": null,
      "outputs": []
    },
    {
      "cell_type": "markdown",
      "metadata": {
        "id": "9L8hXMUOpnld",
        "colab_type": "text"
      },
      "source": [
        "# 2. Módulo `string`\n",
        "\n",
        "El módulo `string` contiene algunas constantes, funciones y clases para manipular caracteres.\n",
        "\n",
        "Al ser un módulo propio de Python, hay que importarlo antes de usar sus constantes o clases."
      ]
    },
    {
      "cell_type": "code",
      "metadata": {
        "id": "n7VV3psDUw3Z",
        "colab_type": "code",
        "colab": {}
      },
      "source": [
        "import string"
      ],
      "execution_count": null,
      "outputs": []
    },
    {
      "cell_type": "markdown",
      "metadata": {
        "id": "E7jcxGlRq_MV",
        "colab_type": "text"
      },
      "source": [
        "Veamos algunas constantes:"
      ]
    },
    {
      "cell_type": "code",
      "metadata": {
        "id": "PEOm7boQVeHR",
        "colab_type": "code",
        "colab": {}
      },
      "source": [
        "string.ascii_letters    # Genera un string que contiene las primeras letras del abecedario en mayúscula y minúscula, exceptuando la ñ\n",
        "print(string.ascii_letters)\n",
        "\n",
        "string.digits           # Genera un string que contiene los números enteros del 0 al 9\n",
        "print(string.digits)\n",
        "\n",
        "string.punctuation      # Genera signos de puntuación y otros caracteres\n",
        "print(string.punctuation)"
      ],
      "execution_count": null,
      "outputs": []
    },
    {
      "cell_type": "markdown",
      "metadata": {
        "id": "bG6Pr3OOYT7o",
        "colab_type": "text"
      },
      "source": [
        " ***Tu turno:***  Usando, `string.ascii_letters`, `string.digits` y `string.punctuation` genera en la siguiente celda una cadena que contenga todos estos caracteres concatenados."
      ]
    },
    {
      "cell_type": "code",
      "metadata": {
        "id": "8lcAQU7wYTqv",
        "colab_type": "code",
        "colab": {}
      },
      "source": [
        "# Recuerda que podemos \"pegar\" o unir strings haciendo uso del símbolo +\n",
        "cadena = \n",
        "print(cadena)"
      ],
      "execution_count": null,
      "outputs": []
    },
    {
      "cell_type": "markdown",
      "metadata": {
        "id": "X2UD8vjvwwSA",
        "colab_type": "text"
      },
      "source": [
        "# 3. Método `bytes()`\n",
        "\n",
        "El método `bytes(), bytes([source[, encoding[, errors]]])` devuelve un objeto de bytes que es una secuencia inmutable de enteros en el rango 0 <= x <256.\n"
      ]
    },
    {
      "cell_type": "code",
      "metadata": {
        "id": "FUsXYeH1dqWa",
        "colab_type": "code",
        "colab": {}
      },
      "source": [
        "bytes(5)"
      ],
      "execution_count": null,
      "outputs": []
    },
    {
      "cell_type": "code",
      "metadata": {
        "id": "r_0jXBNYxJwO",
        "colab_type": "code",
        "colab": {}
      },
      "source": [
        "frase = \"Python es interesante.\"\n",
        "# Cadena codificada con ascii\n",
        "en_bytes = bytes(frase, 'ascii')\n",
        "print(en_bytes)"
      ],
      "execution_count": null,
      "outputs": []
    },
    {
      "cell_type": "markdown",
      "metadata": {
        "id": "ookYBZM_aIww",
        "colab_type": "text"
      },
      "source": [
        "***Tu turno:*** Intenta aplicar `bytes()` ingresando una lista de números como parámetro (ingresa elementos a la lista vacía dada)."
      ]
    },
    {
      "cell_type": "code",
      "metadata": {
        "id": "PD8CmtVmYlbo",
        "colab_type": "code",
        "colab": {}
      },
      "source": [
        "# Ingresa elementos a la lista \n",
        "by = bytes([ ])\n",
        "print(by)"
      ],
      "execution_count": null,
      "outputs": []
    },
    {
      "cell_type": "markdown",
      "metadata": {
        "id": "J7rlK6s4xjXz",
        "colab_type": "text"
      },
      "source": [
        "# 4. Librería `criptography`"
      ]
    },
    {
      "cell_type": "markdown",
      "metadata": {
        "id": "MyPRt-bna0ag",
        "colab_type": "text"
      },
      "source": [
        "Instalamos la librería `criptography`:"
      ]
    },
    {
      "cell_type": "code",
      "metadata": {
        "id": "Y3v48-rGaSGX",
        "colab_type": "code",
        "colab": {}
      },
      "source": [
        "pip install cryptography"
      ],
      "execution_count": null,
      "outputs": []
    },
    {
      "cell_type": "markdown",
      "metadata": {
        "id": "_yBho-Odxt5h",
        "colab_type": "text"
      },
      "source": [
        "**Clase** `Fernet`\n",
        "\n",
        "> `Fernet` garantiza que un mensaje cifrado no se pueda leer o manipular sin la \"llave\" (key).\n",
        "Esta clase permite cifrar y descifrar.\n",
        "\n",
        "\n",
        "\n"
      ]
    },
    {
      "cell_type": "code",
      "metadata": {
        "id": "iQODn67lawrH",
        "colab_type": "code",
        "colab": {}
      },
      "source": [
        "from cryptography.fernet import Fernet"
      ],
      "execution_count": null,
      "outputs": []
    },
    {
      "cell_type": "markdown",
      "metadata": {
        "id": "nArVS1x_hQUo",
        "colab_type": "text"
      },
      "source": [
        "Los pasos que vamos a seguir son los siguientes:\n",
        "1. Creamos la llave.\n",
        "2. Guardamos la llave.\n",
        "3. Leemos la llave.\n",
        "4. Proporcionamos la llave a Fernet para poder cifrar y descifrar."
      ]
    },
    {
      "cell_type": "markdown",
      "metadata": {
        "id": "DtR7xYQ-zAGx",
        "colab_type": "text"
      },
      "source": [
        "Primero se debe generar la \"llave\".\n",
        "¡Es importante mantenerla en un lugar seguro! (se puede guardar en una memoria por ejemplo).\n",
        "\n",
        "*Si se pierde ya no serás capaz de descifrar los mensajes.*\n",
        "\n",
        "*Si alguien más tiene acceso a esta, entonces podrá descifrar tus mensajes*."
      ]
    },
    {
      "cell_type": "code",
      "metadata": {
        "id": "egOcEUG7bC3e",
        "colab_type": "code",
        "colab": {}
      },
      "source": [
        "mi_llave = Fernet.generate_key()   # Con este código estamos creando la llave"
      ],
      "execution_count": null,
      "outputs": []
    },
    {
      "cell_type": "markdown",
      "metadata": {
        "id": "1R8B4NCobOCf",
        "colab_type": "text"
      },
      "source": [
        "¡Cada vez que se ejecuta el paso anterior se genera una nueva llave!\n",
        "\n",
        "Guardamos la llave en un archivo .txt"
      ]
    },
    {
      "cell_type": "code",
      "metadata": {
        "id": "_dB2cABkbLbn",
        "colab_type": "code",
        "colab": {}
      },
      "source": [
        "# Con este código estamos guardando la llave\n",
        "with open('llave.txt', 'wb+') as Llave: \n",
        "  Llave.write(mi_llave)"
      ],
      "execution_count": null,
      "outputs": []
    },
    {
      "cell_type": "markdown",
      "metadata": {
        "id": "T9lpv29sbW1n",
        "colab_type": "text"
      },
      "source": [
        "Vamos a leer la llave para proporcionársela luego a Fernet:"
      ]
    },
    {
      "cell_type": "code",
      "metadata": {
        "id": "uKlPFGrFbTdX",
        "colab_type": "code",
        "colab": {}
      },
      "source": [
        "# Con este código estamos leyendo la llave\n",
        "with open('llave.txt', 'rb+') as Llave:\n",
        "  mi_llave = Llave.read()\n",
        "print(mi_llave)"
      ],
      "execution_count": null,
      "outputs": []
    },
    {
      "cell_type": "markdown",
      "metadata": {
        "id": "PdFFO1P-zg9n",
        "colab_type": "text"
      },
      "source": [
        "Antes de cifrar o descifrar hay que proporcionar la llave a Fernet así:"
      ]
    },
    {
      "cell_type": "code",
      "metadata": {
        "id": "HW-hsDcfzw6s",
        "colab_type": "code",
        "colab": {}
      },
      "source": [
        "# En este código estamos proporcionandole la llave a Fernet\n",
        "Fernet_llave = Fernet(mi_llave)"
      ],
      "execution_count": null,
      "outputs": []
    },
    {
      "cell_type": "markdown",
      "metadata": {
        "id": "a7chygkRzzB3",
        "colab_type": "text"
      },
      "source": [
        "El resultado del cifrado se conoce como \"token de Fernet\" y tiene garantías de seguridad y autenticación fuertes.\n",
        "\n",
        "Ahora sí podemos cifrar un mensaje."
      ]
    },
    {
      "cell_type": "code",
      "metadata": {
        "id": "QBW_ngJh0AOf",
        "colab_type": "code",
        "colab": {}
      },
      "source": [
        "token = Fernet_llave.encrypt(b\"Mi contrasenha secreta\")\n",
        "print(token)"
      ],
      "execution_count": null,
      "outputs": []
    },
    {
      "cell_type": "markdown",
      "metadata": {
        "id": "B8jz5u9Q0DE4",
        "colab_type": "text"
      },
      "source": [
        "El método `.encrypt()` sólo acepta datos en `bytes`, por eso ponemos una `b` antes de las comillas.\n",
        "\n",
        "Para descifrar sólo hay que introducir el \"token\""
      ]
    },
    {
      "cell_type": "code",
      "metadata": {
        "id": "gjb_eY6C0b9y",
        "colab_type": "code",
        "colab": {}
      },
      "source": [
        "Fernet_llave.decrypt(token)"
      ],
      "execution_count": null,
      "outputs": []
    },
    {
      "cell_type": "markdown",
      "metadata": {
        "id": "C8q-DIKncUqg",
        "colab_type": "text"
      },
      "source": [
        "***Tu turno:*** Intenta cifrar un mensaje que no contenga la letra **ñ**.\n",
        "\n"
      ]
    },
    {
      "cell_type": "code",
      "metadata": {
        "id": "8bROoDmIbiFP",
        "colab_type": "code",
        "colab": {}
      },
      "source": [
        "mensaje = '' # Ingresa  aquí tu mensaje.\n",
        "Fernet_llave = Fernet(mi_llave)\n",
        "token = Fernet_llave.encrypt(bytes(mensaje, 'ascii'))\n",
        "print(token)"
      ],
      "execution_count": null,
      "outputs": []
    },
    {
      "cell_type": "markdown",
      "metadata": {
        "id": "4WQ8S0i8duhg",
        "colab_type": "text"
      },
      "source": [
        "Para descifrar el mensaje corre la siguiente celda de código."
      ]
    },
    {
      "cell_type": "code",
      "metadata": {
        "id": "kQRDbT7RdCoH",
        "colab_type": "code",
        "colab": {}
      },
      "source": [
        "Fernet_llave.decrypt(token)"
      ],
      "execution_count": null,
      "outputs": []
    },
    {
      "cell_type": "markdown",
      "metadata": {
        "id": "mjmAVJ2K0HVi",
        "colab_type": "text"
      },
      "source": [
        "# 5. **Contraseñas**"
      ]
    },
    {
      "cell_type": "markdown",
      "metadata": {
        "id": "ZHyMJx8BfElW",
        "colab_type": "text"
      },
      "source": [
        "El siguiente es un programa sencillo, pero **ingenuo** para generar contraseñas"
      ]
    },
    {
      "cell_type": "code",
      "metadata": {
        "id": "fEXr_uL7fDoe",
        "colab_type": "code",
        "colab": {}
      },
      "source": [
        "cadena = string.ascii_letters + string.digits + string.punctuation\n",
        "longitud = 10\n",
        "contrasenha = ''\n",
        "for numero in range(longitud):\n",
        "  contrasenha += secrets.choice(cadena)\n",
        "print(contrasenha)"
      ],
      "execution_count": null,
      "outputs": []
    },
    {
      "cell_type": "markdown",
      "metadata": {
        "id": "kF9zkkeS1B3g",
        "colab_type": "text"
      },
      "source": [
        "<h1> <center> ¿Cuándo se considera segura una contraseña? </center> </h1>\n",
        "\n",
        "Una contraseña es considerada segura si cumple las siguientes condiciones:\n",
        "\n",
        "1.   Tiene una longitud mayor o igual a 12.\n",
        "2.   Contiene al menos una letra en minúscula.\n",
        "3.   Contiene al menos una letra en mayúscula.\n",
        "4.   Contiene al menos un número.\n",
        "5.   Contiene al menos un símbolo de puntuación.\n",
        "6.   No contiene caracteres iguales consecutivos."
      ]
    },
    {
      "cell_type": "markdown",
      "metadata": {
        "id": "Nz9iK8ud06Tq",
        "colab_type": "text"
      },
      "source": [
        "Antes de escribir un programa sencillo que cumpla con los requerimientos anteriores, recordemos la función `ispunctuation` para detectar elementos en `string.puntuation` (similar a los métodos `isupper()`, `islower()` e `isdigit()`) :"
      ]
    },
    {
      "cell_type": "code",
      "metadata": {
        "id": "8E6wjrvXd-gu",
        "colab_type": "code",
        "colab": {}
      },
      "source": [
        "def ispunctuation(caracter):\n",
        "    if caracter in string.punctuation:\n",
        "        return True\n",
        "    return False"
      ],
      "execution_count": null,
      "outputs": []
    },
    {
      "cell_type": "markdown",
      "metadata": {
        "id": "SpSg9Qhft_ZC",
        "colab_type": "text"
      },
      "source": [
        "***Tu turno:*** Corre las siguientes celdas de texto e intenta entender qué hace `join`."
      ]
    },
    {
      "cell_type": "code",
      "metadata": {
        "id": "Dr9HfHcPq37l",
        "colab_type": "code",
        "colab": {}
      },
      "source": [
        "print(ispunctuation('1'))\n",
        "print(ispunctuation(':'))\n",
        "print('A'.isupper())\n",
        "print('l'.islower())"
      ],
      "execution_count": null,
      "outputs": []
    },
    {
      "cell_type": "code",
      "metadata": {
        "id": "_uNXO_RisxAl",
        "colab_type": "code",
        "colab": {}
      },
      "source": [
        "print(''.join('a'))\n",
        "print(''.join(['a', 'b', 'c']))  # Así la usaremos abajo\n",
        "print('t'.join(['a', 'b', 'c']))"
      ],
      "execution_count": null,
      "outputs": []
    },
    {
      "cell_type": "markdown",
      "metadata": {
        "id": "vpooACgG1WEx",
        "colab_type": "text"
      },
      "source": [
        "Hagamos uso de la función anterior y de `join` para crear un mejor generador de contraseñas\n"
      ]
    },
    {
      "cell_type": "code",
      "metadata": {
        "id": "kzqztvang4tN",
        "colab_type": "code",
        "colab": {}
      },
      "source": [
        "longitud = int(input('Longitud que desea para su contraseña (solo enteros mayores que 12): '))\n",
        "while True:\n",
        "    contrasena = ''.join(secrets.choice(cadena) for i in range(longitud))\n",
        "    if (any(c.islower() for c in contrasena)\n",
        "      and any(c.isupper() for c in contrasena)\n",
        "      and any(c.isdigit() for c in contrasena) \n",
        "      and any(ispunctuation(c) for c in contrasena) \n",
        "      and all(contrasena[k] != contrasena[k-1] for k in range(1, longitud - 1))):\n",
        "        break\n",
        "print(contrasena)"
      ],
      "execution_count": null,
      "outputs": []
    },
    {
      "cell_type": "markdown",
      "metadata": {
        "id": "NJesqXCTjSUG",
        "colab_type": "text"
      },
      "source": [
        "<h1> <center> ¿Cómo mejorar el programa anterior? </center> </h1>\n",
        "\n",
        "Podemos crear una función, digamos `def contrasena(llave)`\n",
        "la cual, además de preguntar la longitud de la contraseña, también pregunte para qué cuenta y, el usuario de dicha cuenta.\n",
        "Y que además almacene, de forma cifrada, en un archivo: la cuenta, el usuario y la contraseña generada."
      ]
    },
    {
      "cell_type": "code",
      "metadata": {
        "id": "YwdoGoh_hfIG",
        "colab_type": "code",
        "colab": {}
      },
      "source": [
        "def contrasena(llave):\n",
        "    usuario = str(input('Ingrese su usuario: '))\n",
        "    cuenta = str(input('Ingrese cuenta: '))\n",
        "    longitud = int(input('Ingrese la longitud que desea para su contraseña (solo enteros mayores que 12):'))\n",
        "    while True:\n",
        "        contrasena = ''.join(secrets.choice(cadena) for i in range(longitud))\n",
        "        if (any(c.islower() for c in contrasena) \n",
        "        and any(c.isupper() for c in contrasena) \n",
        "        and any(c.isdigit() for c in contrasena) \n",
        "        and any(ispunctuation(c) for c in contrasena) \n",
        "        and all(contrasena[k] != contrasena[k-1] for k in range(1, longitud - 1))):\n",
        "            break\n",
        "    texto_a_cifrar = '   usuario: ' + usuario + '   cuenta: ' + cuenta + '   contrasenha: ' + contrasena + '   '\n",
        "    Fernet_llave = Fernet(llave)\n",
        "    texto_cifrado = Fernet_llave.encrypt(bytes(texto_a_cifrar, 'ascii'))\n",
        "    with open('contraseña.txt', 'wb+') as texto:\n",
        "      texto.write(texto_cifrado)\n",
        "    return"
      ],
      "execution_count": null,
      "outputs": []
    },
    {
      "cell_type": "code",
      "metadata": {
        "id": "8ywa2OwpkIrk",
        "colab_type": "code",
        "colab": {}
      },
      "source": [
        "contrasena(mi_llave)"
      ],
      "execution_count": null,
      "outputs": []
    },
    {
      "cell_type": "code",
      "metadata": {
        "id": "oEogyNKyxmP9",
        "colab_type": "code",
        "colab": {}
      },
      "source": [
        "with open('contraseña.txt', 'rb') as file:\n",
        "  datos = file.read()\n",
        "  Datos_descifrados = Fernet_llave.decrypt(datos)\n",
        "print(Datos_descifrados)"
      ],
      "execution_count": null,
      "outputs": []
    },
    {
      "cell_type": "markdown",
      "metadata": {
        "id": "c1uBgGv3kyJ1",
        "colab_type": "text"
      },
      "source": [
        "<h1> <center> ¿Podemos mejorar aún más el programa? </center> </h1>\n",
        "\n",
        "Que tal crear una función, digamos\n",
        "`def contrasenas()` que pregunte el número de contraseñas a crear, use la función  `def contrasena(llave)` (con una leve modificación y esta vez sin recibir la llave como entrada) para almacenar, de forma cifrada, en un archivo: las cuentas con el respectivo usuario y contraseña generada."
      ]
    },
    {
      "cell_type": "code",
      "metadata": {
        "id": "FatXDRDykOKm",
        "colab_type": "code",
        "colab": {}
      },
      "source": [
        "def contrasena():\n",
        "    usuario = str(input('Ingrese su usuario: '))\n",
        "    cuenta = str(input('Ingrese cuenta: '))\n",
        "    longitud = int(input('Ingrese la longitud que desea para su contraseña (solo enteros mayores que 12):'))\n",
        "    while True:\n",
        "        contrasena = ''.join(secrets.choice(cadena) for i in range(longitud))\n",
        "        if (any(c.islower() for c in contrasena) \n",
        "        and any(c.isupper() for c in contrasena) \n",
        "        and any(c.isdigit() for c in contrasena) \n",
        "        and any(ispunctuation(c) for c in contrasena) \n",
        "        and all(contrasena[k] != contrasena[k-1] for k in range(1, longitud - 1))):\n",
        "            break\n",
        "    return '   usuario: ' + usuario + '   cuenta: ' + cuenta + '   contrasenha: ' + contrasena + '   '\n",
        "\n",
        "def contrasenas(llave):\n",
        "    veces = int(input('Ingrese número de contraseñas a crear: '))\n",
        "    with open('contraseñas.txt', 'wb+') as texto:\n",
        "      for k in range(veces):\n",
        "        texto_a_cifrar = contrasena()\n",
        "        conjunto_de_cifrado = Fernet(llave)\n",
        "        texto_cifrado = conjunto_de_cifrado.encrypt(bytes(texto_a_cifrar, 'ascii'))\n",
        "        texto.write(texto_cifrado)\n",
        "        texto.write(b'\\n')"
      ],
      "execution_count": null,
      "outputs": []
    },
    {
      "cell_type": "code",
      "metadata": {
        "id": "XsrcmX1Olaf9",
        "colab_type": "code",
        "colab": {}
      },
      "source": [
        "contrasenas(mi_llave)"
      ],
      "execution_count": null,
      "outputs": []
    },
    {
      "cell_type": "markdown",
      "metadata": {
        "id": "-VgsN4iklvJE",
        "colab_type": "text"
      },
      "source": [
        "***Tu turno:*** Descifralas!"
      ]
    },
    {
      "cell_type": "code",
      "metadata": {
        "id": "vQ_aw-53lhVl",
        "colab_type": "code",
        "colab": {}
      },
      "source": [
        "with open(' ', 'rb') as para_desencriptar:      # Ingresa el nombre del archivo\n",
        "  informacion = para_desencriptar.readlines()\n",
        "  conjunto_de_cifrado = Fernet( )               # Ingresa la llave\n",
        "  for k in range(len(informacion)):\n",
        "    print(conjunto_de_cifrado.decrypt(informacion[k]))"
      ],
      "execution_count": null,
      "outputs": []
    }
  ]
}
