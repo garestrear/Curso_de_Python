{
  "nbformat": 4,
  "nbformat_minor": 0,
  "metadata": {
    "colab": {
      "name": "S6_Computación Cuántica.ipynb",
      "provenance": [],
      "collapsed_sections": [],
      "include_colab_link": true
    },
    "kernelspec": {
      "name": "python3",
      "display_name": "Python 3"
    }
  },
  "cells": [
    {
      "cell_type": "markdown",
      "metadata": {
        "id": "view-in-github",
        "colab_type": "text"
      },
      "source": [
        "<a href=\"https://colab.research.google.com/github/garestrear/Curso_de_Python/blob/master/Sesion6/S6_Computaci%C3%B3n_Cu%C3%A1ntica.ipynb\" target=\"_parent\"><img src=\"https://colab.research.google.com/assets/colab-badge.svg\" alt=\"Open In Colab\"/></a>"
      ]
    },
    {
      "cell_type": "markdown",
      "metadata": {
        "id": "dOBZwS3Omtg6",
        "colab_type": "text"
      },
      "source": [
        "<center> <img src=\"https://github.com/garestrear/Curso_de_Python/blob/master/Sesion6/sesion6_2.JPG?raw=1\" width=\"650\" height=\"250\" align=\"middle\"/> <img src=\"https://github.com/garestrear/Curso_de_Python/blob/master/Sesion6/superposition.gif?raw=1\" width=\"200\" height=\"250\" align=\"middle\"/></center>"
      ]
    },
    {
      "cell_type": "markdown",
      "metadata": {
        "id": "-hwXFrNV68rJ",
        "colab_type": "text"
      },
      "source": [
        "¡Hola Ninja pythonista!\n",
        "\n",
        " En esta clase estudiaremos los conceptos básicos para programar en una compuradora cuántica.\n",
        " Como el presupuesto de este curso no nos ha alcanzado para una (y es posible que tu tampoco tengas computadora cuántica) $IBM^{(1)}$ se ha ofrecido a prestarnos algunas de las de ellos. \n",
        "\n",
        "**Para usar una computadora cuántica** de IBM es indispensable \n",
        " Ir a la página https://quantum-computing.ibm.com/ y **crear tu cuenta de IBM.**\n",
        "\n",
        "\n",
        "$^{(1)}$ IBM:  ***La International Business Machines Corporation*** es  una de las mas importantes, prestigiosas y reconocidas multinacionales de tecnología y consultoría en el mundo. "
      ]
    },
    {
      "cell_type": "markdown",
      "metadata": {
        "id": "ij3-lykfWcm-",
        "colab_type": "text"
      },
      "source": [
        "**Consideraciones sobre la computación cuántica**\n",
        "\n",
        "*   Nace a partir de ideas y teorías de la física cuántica.\n",
        "*   La computación clásica usa como unidad de información el bit (el cuál es cero  o uno (1)) y la compuación cuántica considera qubits los cuales están en estados básicos  o en estados combinados (entrelazados).\n",
        "\n",
        "\n",
        "\n"
      ]
    },
    {
      "cell_type": "markdown",
      "metadata": {
        "id": "ieVdtA4eOdPi",
        "colab_type": "text"
      },
      "source": [
        "# **1. Computación clásica VS. Computación cuántica**\n",
        "\n",
        "*  <font color='blue'> La computación clásica usa como unidad de información el bit (el cuál es cero (0) o uno (1)) </font> y <font color='green'> la compuación cuántica considera qubits los cuales están en estados básicos  o en estados combinados (entrelazados).\n",
        " Los **estados básicos** de un qubit se \n",
        "representan con $|0>$ o con $|1>$ y los estados de entrelazamiento se representan con $$\\alpha_0|0> + \\alpha_1 |1> $$ dónde $\\alpha_0$ y $\\alpha_1$ son números complejos tales que $\\vert \\alpha_0 \\vert ^{2} + \\vert \\alpha_1 \\vert ^{2} = 1$.</font>\n",
        "\n",
        "*  <font color='blue'> En computación clásica usamos *puertas lógicas* para manipular la información, por ejemplo \"*Not*\", \"*y*\", \"*o*\" </font> y <font color='green'>  en computación cuántica se usan *puertas cuánticas*. Para cualquier puerta lógica puede buscarse una equivalencia (o una combinación que de una equivalencia) en la computación cuántica."
      ]
    },
    {
      "cell_type": "markdown",
      "metadata": {
        "id": "StBOCYhRYFEK",
        "colab_type": "text"
      },
      "source": [
        "## **Tu turno:** Prepara tu Colab con qiskit (desarrollada por IBM para la computación cuántica)\n",
        "A continuación debes ejecutar algunos comandos necesarios para convertir tu colab en un simuador de computación cuántica.\n",
        "\n",
        "\n",
        "\n",
        "\n"
      ]
    },
    {
      "cell_type": "code",
      "metadata": {
        "id": "YUoV3JWdYmtI",
        "colab_type": "code",
        "colab": {}
      },
      "source": [
        "##Ejecuta la siguiente linea \n",
        "# 1. Instalación de la librería qiskit para computación cuántica\n",
        "!pip install -q qiskit \n",
        "# 2. Importamos la librería que instalamos\n",
        "!pip install -q qiskit-terra[visualization]\n",
        "import qiskit\n"
      ],
      "execution_count": null,
      "outputs": []
    },
    {
      "cell_type": "markdown",
      "metadata": {
        "colab_type": "text",
        "id": "ZuQubzzr0cBH"
      },
      "source": [
        "#**2. Atributos y métodos de un objeto**\n",
        "\n",
        "Los **atributos** de un objeto `obj` son caracteristicas asociadas a `obj`. \n",
        "Para imprimir  un atributo `atri` de `obj` escribirmos `obj.atri` y esperamos un segundo.\n",
        "\n",
        "Los **métodos** de un objeto `obj` son caracteristicas asociadas a `obj`. \n",
        "En Colab los puedes indentificar pues en estos aparece una figura de **caja** cuando escribirmos `obj.` y esperamos un segundo.\n",
        "Para ejecutar un método `func` de `obj` ejecutamos `obj.func()`. \n",
        "\n",
        "Para ver los métodos y atributos de un objeto `obj` en Colab, escribimos `obj.` y esperamos a que se deplieguen las opciones.\n"
      ]
    },
    {
      "cell_type": "markdown",
      "metadata": {
        "colab_type": "text",
        "id": "3FjH0pUk4Afe"
      },
      "source": [
        "## **Tu turno:** escribe \" qiskit.  \" y observa los métodos y atributos del objeto. \n",
        "\n",
        "\n",
        "\n",
        "\n"
      ]
    },
    {
      "cell_type": "code",
      "metadata": {
        "id": "-hrWNEmx4JS_",
        "colab_type": "code",
        "colab": {}
      },
      "source": [
        "qiskit."
      ],
      "execution_count": null,
      "outputs": []
    },
    {
      "cell_type": "markdown",
      "metadata": {
        "id": "Eu9_AXeopopT",
        "colab_type": "text"
      },
      "source": [
        "# 3. Comandos adicionales para explorar librerías: dir, help"
      ]
    },
    {
      "cell_type": "code",
      "metadata": {
        "id": "L0OR6H2_a3LM",
        "colab_type": "code",
        "colab": {}
      },
      "source": [
        "dir(qiskit) # Es equivalente a \"qiskit.\"\n"
      ],
      "execution_count": null,
      "outputs": []
    },
    {
      "cell_type": "code",
      "metadata": {
        "id": "4eCO90IvqRQB",
        "colab_type": "code",
        "colab": {}
      },
      "source": [
        "help(qiskit.QuantumRegister)"
      ],
      "execution_count": null,
      "outputs": []
    },
    {
      "cell_type": "markdown",
      "metadata": {
        "colab_type": "text",
        "id": "uYM16z7w6Iyr"
      },
      "source": [
        "## **Tu turno:** Cuéntanos algo sobre el método ClassicalRegister de qiskit. Pista: Usa help \n",
        "\n",
        "\n",
        "\n",
        "\n"
      ]
    },
    {
      "cell_type": "code",
      "metadata": {
        "id": "P5o131xH6YH9",
        "colab_type": "code",
        "colab": {}
      },
      "source": [
        ""
      ],
      "execution_count": null,
      "outputs": []
    },
    {
      "cell_type": "markdown",
      "metadata": {
        "id": "khhnga6jq3z3",
        "colab_type": "text"
      },
      "source": [
        "# 4. **Creación de Qubits y \"esquemas\"**"
      ]
    },
    {
      "cell_type": "code",
      "metadata": {
        "id": "3YETWd_VrCTu",
        "colab_type": "code",
        "colab": {}
      },
      "source": [
        "circuit = qiskit.QuantumCircuit(2) # Se crean 2 qubits\n",
        "circuit.draw() # Se realiza un digrama con los qubits"
      ],
      "execution_count": null,
      "outputs": []
    },
    {
      "cell_type": "markdown",
      "metadata": {
        "colab_type": "text",
        "id": "1fOlAC_FryDO"
      },
      "source": [
        "## **Tu turno:** Crea un diagrama con 3 qubits \n",
        "\n",
        "\n",
        "\n",
        "\n"
      ]
    },
    {
      "cell_type": "code",
      "metadata": {
        "id": "8jCwWX1asB_q",
        "colab_type": "code",
        "colab": {}
      },
      "source": [
        "# Diagrama (circuito de tres qubits)\n"
      ],
      "execution_count": null,
      "outputs": []
    },
    {
      "cell_type": "markdown",
      "metadata": {
        "colab_type": "text",
        "id": "D0sHajybsCap"
      },
      "source": [
        "## **Tu turno:** En base a la exploración realizada con \"help\" sobre qiskit responde: ¿cuál método(función) permite crear o registrar un bit clásico?\n",
        "\n",
        "\n",
        "\n",
        "\n",
        "\n",
        "\n"
      ]
    },
    {
      "cell_type": "code",
      "metadata": {
        "id": "YOecXw4UtTN8",
        "colab_type": "code",
        "cellView": "form",
        "colab": {}
      },
      "source": [
        "respuesta = \"\" #@param {type:\"string\"}\n",
        "if respuesta=='qiskit.ClassicalRegister' or respuesta==\"ClassicalRegister\":\n",
        "    print('¡Felicitaciones! Realmente estamos orgullosos de ti')\n",
        "else:\n",
        "    print('La respuesta es qiskit.ClassicalRegister')"
      ],
      "execution_count": null,
      "outputs": []
    },
    {
      "cell_type": "markdown",
      "metadata": {
        "id": "tbMMPC1kvbsL",
        "colab_type": "text"
      },
      "source": [
        "# 5. Importar los métodos para ser usados como funciones y mejorar los gráficos de los circuitos"
      ]
    },
    {
      "cell_type": "code",
      "metadata": {
        "id": "rHfOYHbMEafk",
        "colab_type": "code",
        "colab": {}
      },
      "source": [
        "from qiskit import QuantumCircuit, QuantumRegister\n",
        "qreg_q = QuantumRegister(2, 'q')\n",
        "circuit = QuantumCircuit(qreg_q)\n",
        "circuit.draw('mpl')"
      ],
      "execution_count": null,
      "outputs": []
    },
    {
      "cell_type": "markdown",
      "metadata": {
        "colab_type": "text",
        "id": "T9l_SvoJ1A7V"
      },
      "source": [
        "## **Tu turno:** Crea un circuirto cuántico de tres qubits (en forma corta)\n",
        "\n",
        "\n",
        "\n",
        "\n"
      ]
    },
    {
      "cell_type": "code",
      "metadata": {
        "id": "2y9IT9Ex8bJk",
        "colab_type": "code",
        "colab": {}
      },
      "source": [
        ""
      ],
      "execution_count": null,
      "outputs": []
    },
    {
      "cell_type": "markdown",
      "metadata": {
        "id": "TqxpnXrg807_",
        "colab_type": "text"
      },
      "source": [
        "# **6. Qubits y bits en el mismo circuito**"
      ]
    },
    {
      "cell_type": "code",
      "metadata": {
        "id": "wgHQHSXSPZAr",
        "colab_type": "code",
        "colab": {}
      },
      "source": [
        "from qiskit import QuantumRegister, ClassicalRegister, QuantumCircuit\n",
        "qreg_q = QuantumRegister(2, 'q') # Registramos la cantidad de qubits(uno)\n",
        "creg_c = ClassicalRegister(2, 'c' ) # Necesitamos igual cantidad de bits (uno)\n",
        "circuit = QuantumCircuit(qreg_q, creg_c) # Creamos un circuito cuántico\n",
        "circuit.draw(output='mpl')\n"
      ],
      "execution_count": null,
      "outputs": []
    },
    {
      "cell_type": "markdown",
      "metadata": {
        "id": "kIDsR7oyG06q",
        "colab_type": "text"
      },
      "source": [
        "#**7. Midiendo un sistema cuántico**\n",
        "Medir un sistema cuántico de **un** qubit en el estado \n",
        "$$\\alpha_0|0> + \\alpha_1 |1> $$\n",
        "\n",
        "se transforma en:\n",
        "1. $|0>$ con probabilidad $\\vert \\alpha_{0}\\vert ^{2}$\n",
        "\n",
        "2. $|1>$ con probabilidad $\\vert \\alpha_{1}\\vert ^{2}$\n",
        "\n",
        "\n"
      ]
    },
    {
      "cell_type": "code",
      "metadata": {
        "id": "HudVJTlMMn7j",
        "colab_type": "code",
        "colab": {}
      },
      "source": [
        "from qiskit import QuantumRegister, ClassicalRegister, QuantumCircuit\n",
        "\n",
        "qreg_q = QuantumRegister(1, 'q')\n",
        "creg_c = ClassicalRegister(1, 'c')\n",
        "circuit = QuantumCircuit(qreg_q, creg_c)\n",
        "print(circuit.measure(qreg_q[0], creg_c[0]))\n",
        "circuit.draw(output='mpl')"
      ],
      "execution_count": null,
      "outputs": []
    },
    {
      "cell_type": "markdown",
      "metadata": {
        "id": "nSiKAbMgMnFk",
        "colab_type": "text"
      },
      "source": [
        "Medir un sistema cuántico de **dos** qbuits en el estado \n",
        "\n",
        "$$\\alpha_{00}|00> + \\; \\alpha_{01} |01> + \\; \\alpha_{10} |10> + \\; \\alpha_{11} |11> $$\n",
        "\n",
        "se transforma en:\n",
        "\n",
        "1. $|00> $ con probabilidad $\\vert \\alpha_{00}\\vert ^{2}$\n",
        "\n",
        "2. $|01> $ con probabilidad $\\vert \\alpha_{01}\\vert ^{2}$\n",
        "\n",
        "3. $|10> $ con probabilidad $\\vert \\alpha_{10}\\vert ^{2}$\n",
        "\n",
        "4. $|11> $ con probabilidad $\\vert \\alpha_{11}\\vert ^{2}$"
      ]
    },
    {
      "cell_type": "code",
      "metadata": {
        "id": "dH7PoBG9Mq7k",
        "colab_type": "code",
        "colab": {}
      },
      "source": [
        "qreg_q2 = QuantumRegister(2,'q')\n",
        "creg_c2 = ClassicalRegister(2)\n",
        "circuit2 = QuantumCircuit(qreg_q2, creg_c2)\n",
        "circuit2.measure(qreg_q2, creg_c2)\n",
        "circuit2.draw(output='mpl')"
      ],
      "execution_count": null,
      "outputs": []
    },
    {
      "cell_type": "markdown",
      "metadata": {
        "colab_type": "text",
        "id": "SijOJod8Ogfv"
      },
      "source": [
        "## **Tu turno:** Ejecuta los circuirtos cuánticos anteriores y \"juega con ellos\"\n",
        "\n",
        "\n",
        "\n",
        "\n"
      ]
    },
    {
      "cell_type": "markdown",
      "metadata": {
        "id": "ICP-Sja9O3s7",
        "colab_type": "text"
      },
      "source": [
        "#**8. Puertas cuánticas**\n",
        "\n",
        "Antes de usar la computadora de IBM usaremos nuestra propia computadora para simular algunos comportamientos cuánticos. Para empezar realizaremos los gráficos de algunas de las puertas cuánticas más utilizadas. \n",
        "\n",
        "¡Pilas! Estamos entrando al mundo de los circuítos cuánticos.\n",
        "\n",
        "Una **compuerta cuántica** es un operación que se le applica a un sistema de uno o dos qubits. \n",
        "\n",
        "\n",
        "**2.1 Compuerta de Hadammard:**\n",
        "\n",
        "<center> <img src=\"https://github.com/garestrear/Curso_de_Python/blob/master/Sesion6/S6_hadammard.png?raw=1\" width=\"650\" height=\"250\" align=\"middle\"/></center>\n",
        "\n",
        "\n",
        "\n"
      ]
    },
    {
      "cell_type": "markdown",
      "metadata": {
        "id": "kbuGx8xeobzB",
        "colab_type": "text"
      },
      "source": [
        "Agregemos una compuerta de Hadamard a un sistema cuántico con un qubit"
      ]
    },
    {
      "cell_type": "code",
      "metadata": {
        "id": "os8AUvMqVUXR",
        "colab_type": "code",
        "colab": {}
      },
      "source": [
        "qreg_q = QuantumRegister(1)\n",
        "creg_c = ClassicalRegister(1)\n",
        "circuit = QuantumCircuit(qreg_q, creg_c)\n",
        "circuit.h(qreg_q[0])\n",
        "circuit.draw(output='mpl')"
      ],
      "execution_count": null,
      "outputs": []
    },
    {
      "cell_type": "markdown",
      "metadata": {
        "id": "hpldTvcaOtah",
        "colab_type": "text"
      },
      "source": [
        "Ahora añadimos una operación de medida "
      ]
    },
    {
      "cell_type": "code",
      "metadata": {
        "id": "pYni5_qTo-Hn",
        "colab_type": "code",
        "colab": {}
      },
      "source": [
        "circuit.measure(qreg_q[0], creg_c[0])\n",
        "circuit.draw(output='mpl')"
      ],
      "execution_count": null,
      "outputs": []
    },
    {
      "cell_type": "markdown",
      "metadata": {
        "colab_type": "text",
        "id": "71U9bhCRPOFv"
      },
      "source": [
        "## **Tu turno:** Aplica de nuevo una puerta cuantica Hadammard al circuito.\n",
        "\n",
        "\n",
        "\n",
        "\n"
      ]
    },
    {
      "cell_type": "markdown",
      "metadata": {
        "id": "D2FIOhL7Fyab",
        "colab_type": "text"
      },
      "source": [
        "# **9. Ejecutamos nuestro circuito `circuit` en el simulador de IBM**\n",
        "\n",
        "\n",
        "¿Profe y ese simulador qué es o qué?, ¿Cómo funciona?"
      ]
    },
    {
      "cell_type": "code",
      "metadata": {
        "id": "-jzSMLwz_6hS",
        "colab_type": "code",
        "colab": {}
      },
      "source": [
        "from qiskit import Aer, execute\n",
        "from qiskit.tools.visualization import plot_histogram\n",
        "\n",
        "simulator = Aer.get_backend('qasm_simulator')\n",
        "results = execute(circuit, backend = simulator,shots = 1000).result()\n",
        "plot_histogram(results.get_counts(circuit))"
      ],
      "execution_count": null,
      "outputs": []
    },
    {
      "cell_type": "markdown",
      "metadata": {
        "id": "sEiLSTm8X3Eb",
        "colab_type": "text"
      },
      "source": [
        "#**10. Accediendo a los computadores cuánticos de IBM**\n",
        "\n",
        "En esta parte usarás tu ID en la paltaforma IBMQ\n",
        "\n",
        "Mi_ID: f3f1be2558e06cfa81d8eda2b1e9b5e32f77fad6fff806ea5c01128d8f41333af967ab27962235d2e7c0ea1775e43da5c33b91390ab0fb1035cdd3c35afa0f\n",
        "## **Tu turno:** Prepara tu Colab\n",
        "A continuación debes ejecutar algunos comandos acceder de manera remota al conjunto de computadores cuánticos de IBM.\n"
      ]
    },
    {
      "cell_type": "code",
      "metadata": {
        "id": "2wmMMRkDPSoA",
        "colab_type": "code",
        "colab": {}
      },
      "source": [
        "#Ejecuta el siguiente código para cargar las funciones de IBMQ\n",
        "import qiskit\n",
        "from qiskit import IBMQ\n"
      ],
      "execution_count": null,
      "outputs": []
    },
    {
      "cell_type": "code",
      "metadata": {
        "id": "myx_uEyvPa2N",
        "colab_type": "code",
        "colab": {}
      },
      "source": [
        "#Copia tu IBMQ ID  en el espacio mencionado\n",
        "IBMQ.save_account('738a3853a7f68cc4691bb3edbc0ec5d928c671d94f85b9e2e85805de7f55ef9fbdcc0e236f22d6f7f0d67fedf033258f7e7d1f2e392ddb9b0e6142c356adea3c', overwrite=True)\n",
        "IBMQ.load_account()"
      ],
      "execution_count": null,
      "outputs": []
    },
    {
      "cell_type": "markdown",
      "metadata": {
        "id": "mIF5OXJxvGkD",
        "colab_type": "text"
      },
      "source": [
        "El primer uso comercial de computadores cuánticos se espera que sea remoto.\n",
        "Podemos acceder a la lista de provedores de servicios cuánticos asociados a IBM usando `IBMQ.providers()`."
      ]
    },
    {
      "cell_type": "code",
      "metadata": {
        "id": "lQinn49osp9M",
        "colab_type": "code",
        "colab": {}
      },
      "source": [
        "IBMQ.providers()"
      ],
      "execution_count": null,
      "outputs": []
    },
    {
      "cell_type": "markdown",
      "metadata": {
        "id": "4lE30vynuhW3",
        "colab_type": "text"
      },
      "source": [
        "Para acceder a un provedor de servicios cuánticos usamos\n",
        "\n",
        "`IBMQ.get_provider(hub='MY_HUB', group='MY_GROUP', project='MY_PROJECT')`"
      ]
    },
    {
      "cell_type": "code",
      "metadata": {
        "id": "Bf9aSwsrreMl",
        "colab_type": "code",
        "colab": {}
      },
      "source": [
        "provider = IBMQ.get_provider(hub ='ibm-q')"
      ],
      "execution_count": null,
      "outputs": []
    },
    {
      "cell_type": "markdown",
      "metadata": {
        "id": "edlXw6248Tvd",
        "colab_type": "text"
      },
      "source": [
        "Cada provedor de servicios cuánticos tiene asociados un conjunto de dispositivos cuánticos llamados `Backends`.\n",
        "\n",
        "El código `provider.backends()` devuelve una lista con los computadores físicos disponibles en el proveedor  `ibm-q`."
      ]
    },
    {
      "cell_type": "code",
      "metadata": {
        "id": "GvhxEN1H5QfK",
        "colab_type": "code",
        "colab": {}
      },
      "source": [
        "provider.backends()"
      ],
      "execution_count": null,
      "outputs": []
    },
    {
      "cell_type": "markdown",
      "metadata": {
        "id": "IOQ3PkEK6cHF",
        "colab_type": "text"
      },
      "source": [
        "#**11. Atributos y métodos en computadores cuánticos**\n",
        "\n",
        "\n",
        "`backends` es el método del objeto `provider` que contiene la información de todos los computadores cuánticos dispobibles en el provedor `provider`.\n",
        "\n",
        "La siguiente linea asigna a la variable back la información de del segundo computador cuántico en el proveedor `ibm-q`. "
      ]
    },
    {
      "cell_type": "code",
      "metadata": {
        "id": "y7flghOG7JpQ",
        "colab_type": "code",
        "colab": {}
      },
      "source": [
        "back = provider.backends()[1]"
      ],
      "execution_count": null,
      "outputs": []
    },
    {
      "cell_type": "markdown",
      "metadata": {
        "id": "oRuyVx6YLl4m",
        "colab_type": "text"
      },
      "source": [
        "Analicemos las propiedades de la computadora cuántica `back`.\n",
        "\n",
        "##**Tu turno:** En las siguientes lineas imprime el atributo o método que se pide del computador cúantico `back`.\n",
        "\n",
        "*Nombre:*"
      ]
    },
    {
      "cell_type": "code",
      "metadata": {
        "id": "7OFdylI_MWTt",
        "colab_type": "code",
        "colab": {}
      },
      "source": [
        "back.name()"
      ],
      "execution_count": null,
      "outputs": []
    },
    {
      "cell_type": "markdown",
      "metadata": {
        "id": "JW8EOzzZB3JK",
        "colab_type": "text"
      },
      "source": [
        "*Proyecto:*\n",
        "\n"
      ]
    },
    {
      "cell_type": "code",
      "metadata": {
        "id": "AnApjWTyB2Qt",
        "colab_type": "code",
        "colab": {}
      },
      "source": [
        "back.project"
      ],
      "execution_count": null,
      "outputs": []
    },
    {
      "cell_type": "markdown",
      "metadata": {
        "id": "2YsMy1c0B6vb",
        "colab_type": "text"
      },
      "source": [
        "*Versión:*"
      ]
    },
    {
      "cell_type": "code",
      "metadata": {
        "id": "5YbKED0WB9nx",
        "colab_type": "code",
        "colab": {}
      },
      "source": [
        "back.version()"
      ],
      "execution_count": null,
      "outputs": []
    },
    {
      "cell_type": "markdown",
      "metadata": {
        "id": "YGIiWwFzCGwT",
        "colab_type": "text"
      },
      "source": [
        "##**12. Clases:**\n",
        "Algunos métodos devuelven clases, una clase es un método que devuelve un objeto. Éste objeto tiene asociados métodos y atributos.\n",
        "\n",
        "**Ejemplo:** El método `job_limit` asociado al backend `back` devuelve un objeto de la clase `BackendJobLimit`. \n",
        "\n",
        "##**Tu turno:** Asigne a la variable `back_limit` el objeto que produce el método `job_limit` asociado a `back`."
      ]
    },
    {
      "cell_type": "code",
      "metadata": {
        "id": "Kxo_NhmnDUUN",
        "colab_type": "code",
        "colab": {}
      },
      "source": [
        "back_limit = back.job_limit()"
      ],
      "execution_count": null,
      "outputs": []
    },
    {
      "cell_type": "markdown",
      "metadata": {
        "id": "G1K1pPeeDdkW",
        "colab_type": "text"
      },
      "source": [
        "El objeto `back_limit` tiene dos atributos asociados"
      ]
    },
    {
      "cell_type": "markdown",
      "metadata": {
        "id": "kAGKKizGCgvV",
        "colab_type": "text"
      },
      "source": [
        "##**Tu turno:**  Imprime los atributos associados a `back_limit`"
      ]
    },
    {
      "cell_type": "code",
      "metadata": {
        "id": "y9UH6yh5DzfF",
        "colab_type": "code",
        "colab": {}
      },
      "source": [
        "back_limit.active_jobs"
      ],
      "execution_count": null,
      "outputs": []
    },
    {
      "cell_type": "code",
      "metadata": {
        "id": "oyU0PN19zEs5",
        "colab_type": "code",
        "colab": {}
      },
      "source": [
        "back_limit.maximum_jobs"
      ],
      "execution_count": null,
      "outputs": []
    },
    {
      "cell_type": "markdown",
      "metadata": {
        "id": "vr70d55wENa8",
        "colab_type": "text"
      },
      "source": [
        "##**13. Disponilidad en tiempo real de un computador cuántico**\n",
        "\n",
        "Para explorar el estado real de un computador cuánticos usamos el método `status`. Éste método devulve un objeto de la clase `BackendStatus`.\n",
        "\n",
        "##**Tu turno:** Asigne a la variable `back_status` el objeto que produce el método `status` asociado a la variable `back`."
      ]
    },
    {
      "cell_type": "code",
      "metadata": {
        "id": "iO42oTCo-k-m",
        "colab_type": "code",
        "colab": {}
      },
      "source": [
        "back_status = back.status()"
      ],
      "execution_count": null,
      "outputs": []
    },
    {
      "cell_type": "markdown",
      "metadata": {
        "id": "Aqz4S3yYFv-a",
        "colab_type": "text"
      },
      "source": [
        "##**Tu turno:** Use un atributo asociado al objeto `back_status` para ver el número de trabajos pendientes por ejecutar en el computador `back`."
      ]
    },
    {
      "cell_type": "code",
      "metadata": {
        "id": "6FhTuPV4FwME",
        "colab_type": "code",
        "colab": {}
      },
      "source": [
        "back_status.pending_jobs"
      ],
      "execution_count": null,
      "outputs": []
    },
    {
      "cell_type": "markdown",
      "metadata": {
        "id": "vlvI2qdNGk0v",
        "colab_type": "text"
      },
      "source": [
        "##**14. Explorando las propiedades de un computador cuántico**\n",
        "\n",
        "Para explorar la configuraciónd de un computador cuántico usamos el método `configuration`.\n",
        "\n",
        "Primero creamos un objeto de la clase asociada a `configuration`.\n",
        "\n",
        "##**Tu turno:** \n",
        "(1) Ejecuta la siguiente linea.\n",
        "\n",
        "(2) En las siguientes lineas imprime el atributo o método que se pide del computador cúantico `back_conf`.\n"
      ]
    },
    {
      "cell_type": "code",
      "metadata": {
        "id": "RedDYI0zAsKM",
        "colab_type": "code",
        "colab": {}
      },
      "source": [
        "back_conf = back.configuration()"
      ],
      "execution_count": null,
      "outputs": []
    },
    {
      "cell_type": "markdown",
      "metadata": {
        "id": "Ak6q-7a5eyWh",
        "colab_type": "text"
      },
      "source": [
        "*Número de qubits*"
      ]
    },
    {
      "cell_type": "code",
      "metadata": {
        "id": "JKkgNsEZQ2SZ",
        "colab_type": "code",
        "colab": {}
      },
      "source": [
        "back_conf.n_qubits"
      ],
      "execution_count": null,
      "outputs": []
    },
    {
      "cell_type": "markdown",
      "metadata": {
        "id": "fgBRTJr4R3TQ",
        "colab_type": "text"
      },
      "source": [
        "*Puertas bases:* Computertas cúanticas fisicamente implementadas en este backend."
      ]
    },
    {
      "cell_type": "code",
      "metadata": {
        "id": "v82GQmIK_C-2",
        "colab_type": "code",
        "colab": {}
      },
      "source": [
        "back_conf.basis_gates"
      ],
      "execution_count": null,
      "outputs": []
    },
    {
      "cell_type": "markdown",
      "metadata": {
        "id": "VA8hd0AMeGhQ",
        "colab_type": "text"
      },
      "source": [
        "*Número máximo de disparos:* Número máximo de veces se puede ejecutar un algoritmo es este backend."
      ]
    },
    {
      "cell_type": "code",
      "metadata": {
        "id": "KWA-80ePQxlV",
        "colab_type": "code",
        "colab": {}
      },
      "source": [
        "back_conf.max_shots"
      ],
      "execution_count": null,
      "outputs": []
    },
    {
      "cell_type": "markdown",
      "metadata": {
        "id": "1rEBXRyBS4Zq",
        "colab_type": "text"
      },
      "source": [
        "*Coupling Map*: determina las restricciones al applicar compuertas `cnot` en el computador cuántico en cuestión."
      ]
    },
    {
      "cell_type": "code",
      "metadata": {
        "id": "kcY8BUrwSGQr",
        "colab_type": "code",
        "colab": {}
      },
      "source": [
        "back_conf.coupling_map"
      ],
      "execution_count": null,
      "outputs": []
    },
    {
      "cell_type": "markdown",
      "metadata": {
        "id": "RbY0paOIRLbD",
        "colab_type": "text"
      },
      "source": [
        "Con lo aprendido podemos imprimir el nombre de todos los computadores cuánticos de libre acceso en IBM y alguna información adicional.\n",
        "\n",
        "##**Tu turno:** Ejecute las dos siguientes lineas; tómate tu tiempo para analizar que se está ejecutando."
      ]
    },
    {
      "cell_type": "code",
      "metadata": {
        "id": "M0XFv-gIKR1V",
        "colab_type": "code",
        "colab": {}
      },
      "source": [
        "for backend in provider.backends():\n",
        "    print(backend.name())"
      ],
      "execution_count": null,
      "outputs": []
    },
    {
      "cell_type": "code",
      "metadata": {
        "id": "PVrueaFDwS8k",
        "colab_type": "code",
        "colab": {}
      },
      "source": [
        "for backend in provider.backends():\n",
        "    num_qbits = backend.configuration().n_qubits\n",
        "    print(f'{backend.name()}: {num_qbits} qubits and {backend.status().pending_jobs} trabajos en fila' )"
      ],
      "execution_count": null,
      "outputs": []
    },
    {
      "cell_type": "markdown",
      "metadata": {
        "id": "Mo8PJR6sLUfF",
        "colab_type": "text"
      },
      "source": [
        "##**15. Generador de números aleatorios**\n",
        "\n",
        "En esta parte construiremos un algoritmo cuántico que genera números enteros aleatorios entre 0 y 31, y lo ejecutaremos en una de las computadoras cuánticas de IBM.\n",
        "\n",
        "###**15.1.1 Diseño del circuito**\n",
        "\n",
        "(1) Agregamos al diseño 5 quibits y 5 bits. \n"
      ]
    },
    {
      "cell_type": "code",
      "metadata": {
        "id": "bxsPYfJ-U-Eg",
        "colab_type": "code",
        "colab": {}
      },
      "source": [
        "from qiskit import QuantumRegister, ClassicalRegister, QuantumCircuit\n",
        "qr = QuantumRegister(5,'q')\n",
        "cr = ClassicalRegister(5)\n",
        "generador = QuantumCircuit(qr,cr)\n",
        "generador.draw(output='mpl')"
      ],
      "execution_count": null,
      "outputs": []
    },
    {
      "cell_type": "markdown",
      "metadata": {
        "id": "AWC5plE8V651",
        "colab_type": "text"
      },
      "source": [
        "(2) Agregamos al diseño la aplicación de una compuerta de Hadamard a cada qbuit"
      ]
    },
    {
      "cell_type": "code",
      "metadata": {
        "id": "x0uqDdLcWHXG",
        "colab_type": "code",
        "colab": {}
      },
      "source": [
        "generador.h(qr[0])\n",
        "generador.h(qr[1])\n",
        "generador.h(qr[2])\n",
        "generador.h(qr[3])\n",
        "generador.h(qr[4])\n",
        "generador.draw(output='mpl')"
      ],
      "execution_count": null,
      "outputs": []
    },
    {
      "cell_type": "markdown",
      "metadata": {
        "id": "7luuXE_nWYv0",
        "colab_type": "text"
      },
      "source": [
        "(3) Agregamos al diseño una operación de medida para cada qubit"
      ]
    },
    {
      "cell_type": "code",
      "metadata": {
        "id": "8qZ6WAzNWhca",
        "colab_type": "code",
        "colab": {}
      },
      "source": [
        "generador.measure(qr,cr)\n",
        "generador.draw(output='mpl')"
      ],
      "execution_count": null,
      "outputs": []
    },
    {
      "cell_type": "markdown",
      "metadata": {
        "id": "hw6Gj5KxWvEP",
        "colab_type": "text"
      },
      "source": [
        "###**15.2. Ejecución del circuito**\n",
        "\n",
        "Ahora exportaremos nuestro circuito hasta los computadores cuánticos de IBM, lo ejecutaremos e importaremos los resultados. \n",
        "\n",
        "(1) Simpre es bueno dar un vistazo a la demanda de nuestro proveedor de servicios cuánticos"
      ]
    },
    {
      "cell_type": "code",
      "metadata": {
        "id": "G2cS_oHYKyjZ",
        "colab_type": "code",
        "colab": {}
      },
      "source": [
        "for backend in provider.backends():\n",
        "    num_qbits = backend.configuration().n_qubits\n",
        "    print(f'{backend.name()}: {num_qbits} qubits and {backend.status().pending_jobs} trabajos en fila' )"
      ],
      "execution_count": null,
      "outputs": []
    },
    {
      "cell_type": "markdown",
      "metadata": {
        "id": "aojkZ5OFXNQT",
        "colab_type": "text"
      },
      "source": [
        "(2) Cargamos nuestra cuenta (si no lo hemos hecho) y cargamos el computador que vamos a usar"
      ]
    },
    {
      "cell_type": "code",
      "metadata": {
        "id": "25nq2BQfXRT9",
        "colab_type": "code",
        "colab": {}
      },
      "source": [
        "IBMQ.load_account()"
      ],
      "execution_count": null,
      "outputs": []
    },
    {
      "cell_type": "code",
      "metadata": {
        "id": "AqFpv7qYXfTw",
        "colab_type": "code",
        "colab": {}
      },
      "source": [
        "qcomp = provider.get_backend('Nómbre de la máquina que quiere usar')"
      ],
      "execution_count": null,
      "outputs": []
    },
    {
      "cell_type": "markdown",
      "metadata": {
        "id": "KHi81p0WXsN5",
        "colab_type": "text"
      },
      "source": [
        "(3) Creamos una solicitud de ejecución. El parámetro `shots` indica el número de veces que se ejecutará el circuito `generador`. "
      ]
    },
    {
      "cell_type": "code",
      "metadata": {
        "id": "9facAud2XwnL",
        "colab_type": "code",
        "colab": {}
      },
      "source": [
        "from qiskit import execute\n",
        "trabajo =execute(generador, backend=qcomp, shots = 1000)"
      ],
      "execution_count": null,
      "outputs": []
    },
    {
      "cell_type": "markdown",
      "metadata": {
        "id": "Q3vBe6nWXm5G",
        "colab_type": "text"
      },
      "source": [
        "(4) Monitoreamos nuestra solicitud"
      ]
    },
    {
      "cell_type": "code",
      "metadata": {
        "id": "IKRZ6a5HYpfs",
        "colab_type": "code",
        "colab": {}
      },
      "source": [
        "from qiskit.tools.monitor import job_monitor"
      ],
      "execution_count": null,
      "outputs": []
    },
    {
      "cell_type": "code",
      "metadata": {
        "id": "VUGh_rx0Y-hf",
        "colab_type": "code",
        "colab": {}
      },
      "source": [
        "job_monitor(trabajo)"
      ],
      "execution_count": null,
      "outputs": []
    },
    {
      "cell_type": "markdown",
      "metadata": {
        "id": "W63rS1m1ZHYa",
        "colab_type": "text"
      },
      "source": [
        "(5) Esperamos que se ejecute y visualizamos los resultados "
      ]
    },
    {
      "cell_type": "code",
      "metadata": {
        "id": "oCsTeM0DMO52",
        "colab_type": "code",
        "colab": {}
      },
      "source": [
        "from qiskit.tools.visualization import plot_histogram"
      ],
      "execution_count": null,
      "outputs": []
    },
    {
      "cell_type": "code",
      "metadata": {
        "id": "sRyqLTJAZleL",
        "colab_type": "code",
        "colab": {}
      },
      "source": [
        "resultados = trabajo.result()"
      ],
      "execution_count": null,
      "outputs": []
    },
    {
      "cell_type": "code",
      "metadata": {
        "id": "NmGcalZEbHPI",
        "colab_type": "code",
        "colab": {}
      },
      "source": [
        "resultados.get_counts()"
      ],
      "execution_count": null,
      "outputs": []
    },
    {
      "cell_type": "code",
      "metadata": {
        "id": "DGQ5gSPQZjRR",
        "colab_type": "code",
        "colab": {}
      },
      "source": [
        "plot_histogram(resultados.get_counts(generador))"
      ],
      "execution_count": null,
      "outputs": []
    },
    {
      "cell_type": "markdown",
      "metadata": {
        "id": "syRQH7MVEXe_",
        "colab_type": "text"
      },
      "source": [
        "# **Python para todos**\n",
        "Python para todos es un curso introductorio a la programación en python, el cual consta de 6 sesiones, cada una de 2 horas.\n",
        "\n",
        "Cada sesión se desarrolla a partir de un tema relevante o de actualidad.\n",
        "\n",
        "El curso ha sido diseñado por un grupo interdisciplinar de matemáticos e ingenieros.\n",
        "¿Te interesa participar?\n",
        "Contactanos a través de epaasesorias.com"
      ]
    }
  ]
}