{
  "nbformat": 4,
  "nbformat_minor": 0,
  "metadata": {
    "colab": {
      "name": "S5_Explorando Bitcoin con Python.ipynb",
      "provenance": [],
      "collapsed_sections": [],
      "include_colab_link": true
    },
    "kernelspec": {
      "name": "python3",
      "display_name": "Python 3"
    }
  },
  "cells": [
    {
      "cell_type": "markdown",
      "metadata": {
        "id": "view-in-github",
        "colab_type": "text"
      },
      "source": [
        "<a href=\"https://colab.research.google.com/github/garestrear/Curso_de_Python/blob/master/Sesion5/S5_Explorando_Bitcoin_con_Python.ipynb\" target=\"_parent\"><img src=\"https://colab.research.google.com/assets/colab-badge.svg\" alt=\"Open In Colab\"/></a>"
      ]
    },
    {
      "cell_type": "markdown",
      "metadata": {
        "id": "PHmxGGem-63I",
        "colab_type": "text"
      },
      "source": [
        "![texto alternativo](https://raw.githubusercontent.com/garestrear/Curso_de_Python/master/Sesion5/S5_Bitcoin.png)"
      ]
    },
    {
      "cell_type": "markdown",
      "metadata": {
        "id": "mfeftQpI01-0",
        "colab_type": "text"
      },
      "source": [
        "#**Sesión 5 Bitcoin**\n",
        "\n",
        "Hola Ninja, en esta clase aprenderás, de manera general, como funciona la red de Bitcoin y como extraer información usando Python.  "
      ]
    },
    {
      "cell_type": "markdown",
      "metadata": {
        "id": "H-AKP8mP4JUS",
        "colab_type": "text"
      },
      "source": [
        "##**Sistema monetario digital**\n",
        "\n",
        "¿Qué es?\n",
        "\n",
        "Un sistema montetario es  un conjunto de reglas, procedimientos e instituciones mediante los cuales se crea dinero en una economía. El dinero sirve como medio de pago (de intercambio) por cualquier bien o servicio. El tipo más común de sistema monetario actualmente es  el basado en dinero fiduciario (Piense en el peso colombiano, dolar americano, ...).\n",
        "\n",
        "Un sitema monetario **digital** es un sistema donde el dinero es electrónico (o digital). El dinero electrónico no tiene una unidad física y su uso es mediante el intercambio de bits (no de billetes).\n",
        "\n",
        "\n",
        "Mayor reto: **doble gasto**\n",
        "\n",
        "El problema del doble gasto se refiere a la posibilidad de gastar más de una vez el dinero digital (los mismos bits). Si es posible crear esta moneda digital, se podrían crear copias con el fin de gastar el mismo dinero más de una vez. Este problema, en apariencia sencillo, es el gran reto de cualquier sistema monetario digital."
      ]
    },
    {
      "cell_type": "markdown",
      "metadata": {
        "id": "qUxOIgQk3JJ4",
        "colab_type": "text"
      },
      "source": [
        "##**Centralizado**\n",
        "\n",
        "En un sistema centralizado existe una autoridad central que administra y controla todo el sistema. \n",
        "\n",
        "Propiedades:\n",
        "- La autoridad central administra los datos de todos los usuarios. \n",
        "- Todas las transacciones son registradas y almacenadas.\n",
        "- Costos por transacción y administración en el sistema monetario.\n",
        "\n",
        "Problemas: \n",
        "- Riesgos de exposición de datos de los usuarios.\n",
        "- Riesgos de corrupción de la autoridad central. \n",
        "\n",
        "Dado que hay un administrador central de toda la información, éste se encarga de registrar todas las transacciones del sistema y llevar registro de ellas. De ésta manera evita el doble gasto.\n",
        "\n"
      ]
    },
    {
      "cell_type": "markdown",
      "metadata": {
        "id": "41LO4bh-J_ua",
        "colab_type": "text"
      },
      "source": [
        "**Sistema centralizado vs descentralizado**\n",
        "\n",
        "![texto alternativo](https://raw.githubusercontent.com/garestrear/Curso_de_Python/master/Sesion5/centralization_vs_decentralization-smaller.png)"
      ]
    },
    {
      "cell_type": "markdown",
      "metadata": {
        "id": "xvocCReu5jsU",
        "colab_type": "text"
      },
      "source": [
        "##**Descentralizado**\n",
        "\n",
        "En un sistema descentralizado son los mismos usuarios del sistema monetario quienes emiten el dinero y controlan las transacciones en el sistema. \n",
        "\n",
        "Propiedades:\n",
        "- Usa técnicas criptográficas para velar por la seguridad del sistema.\n",
        "- Menores costos por transacción.\n",
        "- Menores riesgos de corrupción dentro del sistema.\n",
        "\n",
        "Problemas:\n",
        "- Alta volatilidad en el precio de las criptomonedas.\n",
        "- La naturaleza de algunas criptomonedas se presta para transacciones ilegales.\n",
        "\n",
        "Reto principal: **Como evitar el doble doble gasto**\n",
        "\n",
        "En en caso del Bitcoin existe algo como un \"libro contable\" público y descentralizado. Dado que el \"libro contable\" es público, cada transacción es verificada por los mismos usarios del sistema. Al libro contable se le llama cadena de bloques (**blockchain**)."
      ]
    },
    {
      "cell_type": "markdown",
      "metadata": {
        "id": "enIDgswq570v",
        "colab_type": "text"
      },
      "source": [
        "#**Bitcoin:Primera solución pública y eficiente al problema de doble gasto**\n",
        "\n",
        "<center> <img src=\"https://raw.githubusercontent.com/garestrear/Curso_de_Python/master/Sesion5/S6_white_paper.png\" width=\"700\" height=\"500\" align=\"center\"/></center>"
      ]
    },
    {
      "cell_type": "markdown",
      "metadata": {
        "id": "pz7NgaBoyru9",
        "colab_type": "text"
      },
      "source": [
        "Usaremos la librería `blockchain`para consultar el precio del Bitcoin.\n",
        "\n",
        "**Debes correr la siguiente celda**"
      ]
    },
    {
      "cell_type": "code",
      "metadata": {
        "id": "xHjnC5pVSH8t",
        "colab_type": "code",
        "colab": {
          "base_uri": "https://localhost:8080/",
          "height": 218
        },
        "outputId": "f22d3bd1-4f94-4a6e-aa4a-76098cdd3a8c"
      },
      "source": [
        "!pip install blockchain"
      ],
      "execution_count": null,
      "outputs": [
        {
          "output_type": "stream",
          "text": [
            "Collecting blockchain\n",
            "  Downloading https://files.pythonhosted.org/packages/0b/85/ca826affaeaad16506d3b19525f18cf18de394d52d4a9e645ef7dc9d59a2/blockchain-1.4.4.tar.gz\n",
            "Collecting enum-compat\n",
            "  Downloading https://files.pythonhosted.org/packages/55/ae/467bc4509246283bb59746e21a1a2f5a8aecbef56b1fa6eaca78cd438c8b/enum_compat-0.0.3-py3-none-any.whl\n",
            "Requirement already satisfied: future in /usr/local/lib/python3.6/dist-packages (from blockchain) (0.16.0)\n",
            "Building wheels for collected packages: blockchain\n",
            "  Building wheel for blockchain (setup.py) ... \u001b[?25l\u001b[?25hdone\n",
            "  Created wheel for blockchain: filename=blockchain-1.4.4-cp36-none-any.whl size=11511 sha256=e799f28ec816035d521c57b8e604aa8549eaa0b7ebc519837a1cafe8577699de\n",
            "  Stored in directory: /root/.cache/pip/wheels/6e/d9/4f/65e76bdafa4f3a950c679c9d999664c604b33077b0a9d014e8\n",
            "Successfully built blockchain\n",
            "Installing collected packages: enum-compat, blockchain\n",
            "Successfully installed blockchain-1.4.4 enum-compat-0.0.3\n"
          ],
          "name": "stdout"
        }
      ]
    },
    {
      "cell_type": "markdown",
      "metadata": {
        "id": "r4LlQgKY0U7e",
        "colab_type": "text"
      },
      "source": [
        "Para consultar el valor **actual** del Bitcoin en dólares estadounidenses ejecuta la siguiente celda de código."
      ]
    },
    {
      "cell_type": "code",
      "metadata": {
        "id": "RJicjkXiRlbz",
        "colab_type": "code",
        "colab": {
          "base_uri": "https://localhost:8080/",
          "height": 34
        },
        "outputId": "5d5a12da-91f4-4c47-aa66-2248f915ea1e"
      },
      "source": [
        "import blockchain\n",
        "from blockchain import exchangerates\n",
        "# Obtener precio de un Bitcoin en varias monedas\n",
        "ticker = exchangerates.get_ticker()\n",
        "#Precio actual de un Bitcoin en dolares norteamericanos \n",
        "#print(ticker['USD'])\n",
        "ticker['USD'].p15min"
      ],
      "execution_count": null,
      "outputs": [
        {
          "output_type": "execute_result",
          "data": {
            "text/plain": [
              "12107.36"
            ]
          },
          "metadata": {
            "tags": []
          },
          "execution_count": 3
        }
      ]
    },
    {
      "cell_type": "markdown",
      "metadata": {
        "id": "AOoaxKsWFlaj",
        "colab_type": "text"
      },
      "source": [
        "***Tu turno:*** Define una función que tome una cantidad de Bitcoins y regrese su valor en pesos colombianos y en pesos mexicanos.\n",
        "- Un dólar equivale a aproximadamente 3760 pesos colombianos.\n",
        "- Un dólar equivale a aproximadamente 22 pesos mexicanos."
      ]
    },
    {
      "cell_type": "code",
      "metadata": {
        "id": "yCnXFXR_Gq0t",
        "colab_type": "code",
        "colab": {}
      },
      "source": [
        "##  Defina una función convertir() que toma n Bitcoins y devuelve el valor en pesos colombianos y mexicanos\n",
        "B = ticker['USD'].p15min  ## B es el precio de un Bitcoin en dólares americanos  \n",
        "def convertir(__):\n",
        "  \"\"\" Convertimos b Bitcoins a pesos colombianos y mexicanos \"\"\"\n",
        "  c = _____  ## valor de n bitcoins en pesos colombianos \n",
        "  m = _____  ## valor de n bitcoins en pesos mexicanos \n",
        "  print(___) ' Bitcoins equivalen a ', c, ' colombianos y ', m, ' mexicanos.')\n",
        "convertir(2) ## Da el precio de 2 Bitcoins en pesos colombianos y mexicanos +"
      ],
      "execution_count": null,
      "outputs": []
    },
    {
      "cell_type": "markdown",
      "metadata": {
        "id": "_qQ9EuWUc1PR",
        "colab_type": "text"
      },
      "source": [
        "##**1. Función Hash (Criptográfica)**\n",
        "\n",
        "En términos generales, una **función hash** es una función $h$ que transfoma cualquier secuencia de ceros y unos en una secuencia de longitud fija. Esta función se dice además *criptográfica*, si es computacionalmente inviable encontrar dos sequencias $x_1$, $x_2$ tales que $h(x_1) = h(x_2)$.\n",
        "\n",
        "Una hash usada en Bitcoin es **SHA-256** (Secure Hash Algorithm)\n",
        "\n",
        "**SHA-256** arroja sequencias de longitud 256 (en bits).\n",
        "\n",
        "\n",
        "***Tu turno:*** Instala las librerías `pycrypto` y `bitstring`."
      ]
    },
    {
      "cell_type": "code",
      "metadata": {
        "id": "nHdlsUR1UG3p",
        "colab_type": "code",
        "colab": {
          "base_uri": "https://localhost:8080/",
          "height": 84
        },
        "outputId": "4e14251a-9c87-4e3f-d084-84337e17a0c0"
      },
      "source": [
        "!pip install -q pycrypto\n",
        "!pip install -q bitstring"
      ],
      "execution_count": null,
      "outputs": [
        {
          "output_type": "stream",
          "text": [
            "\u001b[?25l\r\u001b[K     |▊                               | 10kB 19.8MB/s eta 0:00:01\r\u001b[K     |█▌                              | 20kB 1.8MB/s eta 0:00:01\r\u001b[K     |██▏                             | 30kB 2.2MB/s eta 0:00:01\r\u001b[K     |███                             | 40kB 2.5MB/s eta 0:00:01\r\u001b[K     |███▊                            | 51kB 2.0MB/s eta 0:00:01\r\u001b[K     |████▍                           | 61kB 2.3MB/s eta 0:00:01\r\u001b[K     |█████▏                          | 71kB 2.5MB/s eta 0:00:01\r\u001b[K     |█████▉                          | 81kB 2.7MB/s eta 0:00:01\r\u001b[K     |██████▋                         | 92kB 2.9MB/s eta 0:00:01\r\u001b[K     |███████▍                        | 102kB 2.8MB/s eta 0:00:01\r\u001b[K     |████████                        | 112kB 2.8MB/s eta 0:00:01\r\u001b[K     |████████▉                       | 122kB 2.8MB/s eta 0:00:01\r\u001b[K     |█████████▌                      | 133kB 2.8MB/s eta 0:00:01\r\u001b[K     |██████████▎                     | 143kB 2.8MB/s eta 0:00:01\r\u001b[K     |███████████                     | 153kB 2.8MB/s eta 0:00:01\r\u001b[K     |███████████▊                    | 163kB 2.8MB/s eta 0:00:01\r\u001b[K     |████████████▌                   | 174kB 2.8MB/s eta 0:00:01\r\u001b[K     |█████████████▏                  | 184kB 2.8MB/s eta 0:00:01\r\u001b[K     |██████████████                  | 194kB 2.8MB/s eta 0:00:01\r\u001b[K     |██████████████▊                 | 204kB 2.8MB/s eta 0:00:01\r\u001b[K     |███████████████▍                | 215kB 2.8MB/s eta 0:00:01\r\u001b[K     |████████████████▏               | 225kB 2.8MB/s eta 0:00:01\r\u001b[K     |█████████████████               | 235kB 2.8MB/s eta 0:00:01\r\u001b[K     |█████████████████▋              | 245kB 2.8MB/s eta 0:00:01\r\u001b[K     |██████████████████▍             | 256kB 2.8MB/s eta 0:00:01\r\u001b[K     |███████████████████             | 266kB 2.8MB/s eta 0:00:01\r\u001b[K     |███████████████████▉            | 276kB 2.8MB/s eta 0:00:01\r\u001b[K     |████████████████████▋           | 286kB 2.8MB/s eta 0:00:01\r\u001b[K     |█████████████████████▎          | 296kB 2.8MB/s eta 0:00:01\r\u001b[K     |██████████████████████          | 307kB 2.8MB/s eta 0:00:01\r\u001b[K     |██████████████████████▊         | 317kB 2.8MB/s eta 0:00:01\r\u001b[K     |███████████████████████▌        | 327kB 2.8MB/s eta 0:00:01\r\u001b[K     |████████████████████████▎       | 337kB 2.8MB/s eta 0:00:01\r\u001b[K     |█████████████████████████       | 348kB 2.8MB/s eta 0:00:01\r\u001b[K     |█████████████████████████▊      | 358kB 2.8MB/s eta 0:00:01\r\u001b[K     |██████████████████████████▍     | 368kB 2.8MB/s eta 0:00:01\r\u001b[K     |███████████████████████████▏    | 378kB 2.8MB/s eta 0:00:01\r\u001b[K     |████████████████████████████    | 389kB 2.8MB/s eta 0:00:01\r\u001b[K     |████████████████████████████▋   | 399kB 2.8MB/s eta 0:00:01\r\u001b[K     |█████████████████████████████▍  | 409kB 2.8MB/s eta 0:00:01\r\u001b[K     |██████████████████████████████  | 419kB 2.8MB/s eta 0:00:01\r\u001b[K     |██████████████████████████████▉ | 430kB 2.8MB/s eta 0:00:01\r\u001b[K     |███████████████████████████████▋| 440kB 2.8MB/s eta 0:00:01\r\u001b[K     |████████████████████████████████| 450kB 2.8MB/s \n",
            "\u001b[?25h  Building wheel for pycrypto (setup.py) ... \u001b[?25l\u001b[?25hdone\n",
            "\u001b[K     |████████████████████████████████| 204kB 2.8MB/s \n",
            "\u001b[?25h  Building wheel for bitstring (setup.py) ... \u001b[?25l\u001b[?25hdone\n"
          ],
          "name": "stdout"
        }
      ]
    },
    {
      "cell_type": "markdown",
      "metadata": {
        "id": "B7EP614a5YlO",
        "colab_type": "text"
      },
      "source": [
        "***Tu turno:*** Ejecuta las siguientes celdas de código."
      ]
    },
    {
      "cell_type": "code",
      "metadata": {
        "id": "TVAQDiLiQmBj",
        "colab_type": "code",
        "colab": {}
      },
      "source": [
        "from Crypto.Hash import SHA256\n",
        "hash = SHA256.new()"
      ],
      "execution_count": null,
      "outputs": []
    },
    {
      "cell_type": "code",
      "metadata": {
        "id": "a1S4V543Ukez",
        "colab_type": "code",
        "colab": {
          "base_uri": "https://localhost:8080/",
          "height": 50
        },
        "outputId": "0e81aa5e-5f22-4357-a541-7f94a2a8bf60"
      },
      "source": [
        "mensaje = b'Soy un Ninja'\n",
        "hash.update(mensaje) # aplicamos la función SHA256 a mensaje\n",
        "valor_hash_bytes = hash.digest() # da el valor, en bytes, de la función aplicada a mensaje\n",
        "print(valor_hash_bytes)\n",
        "len(valor_hash_bytes)"
      ],
      "execution_count": null,
      "outputs": [
        {
          "output_type": "stream",
          "text": [
            "b'\\x13\\x9er\\xcaF\\xaf\\x7f\\xdc\\x97lhl*y\\x83M\\xb9L\\xb8;\\xe9\\xd3\\x11\\xb0\\x1eyX\\x8e\\r\\xd6~\\xbb'\n"
          ],
          "name": "stdout"
        },
        {
          "output_type": "execute_result",
          "data": {
            "text/plain": [
              "32"
            ]
          },
          "metadata": {
            "tags": []
          },
          "execution_count": 6
        }
      ]
    },
    {
      "cell_type": "markdown",
      "metadata": {
        "id": "16SUwBNWGgfH",
        "colab_type": "text"
      },
      "source": [
        "En la siguiente celda de código vamos a imprimir la correspondiente cadena de bits (**0's y 1's**). ¡Ejecútala!"
      ]
    },
    {
      "cell_type": "code",
      "metadata": {
        "id": "kfx4zrPkV34S",
        "colab_type": "code",
        "colab": {
          "base_uri": "https://localhost:8080/",
          "height": 70
        },
        "outputId": "02466cf6-b83f-4f35-ae29-5257d0dcdcb2"
      },
      "source": [
        "from bitstring import Bits\n",
        "hash_value_bits = Bits(bytes = valor_hash_bytes).bin\n",
        "print(hash_value_bits)\n",
        "print(len(hash_value_bits))"
      ],
      "execution_count": null,
      "outputs": [
        {
          "output_type": "stream",
          "text": [
            "0001001110011110011100101100101001000110101011110111111111011100100101110110110001101000011011000010101001111001100000110100110110111001010011001011100000111011111010011101001100010001101100000001111001111001010110001000111000001101110101100111111010111011\n",
            "256\n"
          ],
          "name": "stdout"
        }
      ]
    },
    {
      "cell_type": "markdown",
      "metadata": {
        "id": "qdcr0IIXlV2A",
        "colab_type": "text"
      },
      "source": [
        "**Observación sobre las funciones Hash criptográficas**: Notarás que los mensajes de la siguiente celda solo difieren por una misma letra escrita en mayúscula en uno y en minúscula en el otro. ¿Qué pasa cuándo los escribimos en binario?"
      ]
    },
    {
      "cell_type": "code",
      "metadata": {
        "id": "DuQFfIiClhw3",
        "colab_type": "code",
        "colab": {
          "base_uri": "https://localhost:8080/",
          "height": 67
        },
        "outputId": "c63327c8-4fba-4fa7-c6e5-b5697b92adb5"
      },
      "source": [
        "### Veamos dos mensajes parecidos en binario\n",
        "mensaje1 = b'Soy un Ninja'\n",
        "mensaje2 = b'soy un Ninja' #solo cambia la primera S a s\n",
        "print(Bits(bytes = mensaje1).bin)\n",
        "print(Bits(bytes = mensaje2).bin)  ##Representación binaria de mensaje2\n",
        "print(len(Bits(bytes = mensaje1).bin))"
      ],
      "execution_count": null,
      "outputs": [
        {
          "output_type": "stream",
          "text": [
            "010100110110111101111001001000000111010101101110001000000100111001101001011011100110101001100001\n",
            "011100110110111101111001001000000111010101101110001000000100111001101001011011100110101001100001\n",
            "96\n"
          ],
          "name": "stdout"
        }
      ]
    },
    {
      "cell_type": "markdown",
      "metadata": {
        "id": "l15Lgub3mjBG",
        "colab_type": "text"
      },
      "source": [
        "Ahora aplicamos **SHA-256** a `mensaje1` y a `mensaje2`. Imprimiremos el valor de la hash en **hexadecimal**, para esto usamos el método   `hex()`. ¿Qué pasa cuando aplicamos **SHA-256**?"
      ]
    },
    {
      "cell_type": "code",
      "metadata": {
        "id": "e8zKpnqwmstg",
        "colab_type": "code",
        "colab": {
          "base_uri": "https://localhost:8080/",
          "height": 244
        },
        "outputId": "396d8175-ffc0-4de7-8703-edc4af2df275"
      },
      "source": [
        "### ¿Cómo transforma SHA-256 los mensajes? ###\n",
        "hash.update(mensaje1)\n",
        "hash_bytes_m1 = hash.digest()\n",
        "hash.update(mensaje2)\n",
        "hash_bytes_m2 = hash.digest()\n",
        "print(hash_bytes_m1.hex())\n",
        "print(hash_bytes_m2.hex())"
      ],
      "execution_count": null,
      "outputs": [
        {
          "output_type": "error",
          "ename": "AttributeError",
          "evalue": "ignored",
          "traceback": [
            "\u001b[0;31m---------------------------------------------------------------------------\u001b[0m",
            "\u001b[0;31mAttributeError\u001b[0m                            Traceback (most recent call last)",
            "\u001b[0;32m<ipython-input-1-a0efa2cd7304>\u001b[0m in \u001b[0;36m<module>\u001b[0;34m()\u001b[0m\n\u001b[1;32m      1\u001b[0m \u001b[0;31m### ¿Cómo transforma SHA-256 los mensajes? ###\u001b[0m\u001b[0;34m\u001b[0m\u001b[0;34m\u001b[0m\u001b[0;34m\u001b[0m\u001b[0m\n\u001b[0;32m----> 2\u001b[0;31m \u001b[0mhash\u001b[0m\u001b[0;34m.\u001b[0m\u001b[0mupdate\u001b[0m\u001b[0;34m(\u001b[0m\u001b[0mmensaje1\u001b[0m\u001b[0;34m)\u001b[0m\u001b[0;34m\u001b[0m\u001b[0;34m\u001b[0m\u001b[0m\n\u001b[0m\u001b[1;32m      3\u001b[0m \u001b[0mhash_bytes_m1\u001b[0m \u001b[0;34m=\u001b[0m \u001b[0mhash\u001b[0m\u001b[0;34m.\u001b[0m\u001b[0mdigest\u001b[0m\u001b[0;34m(\u001b[0m\u001b[0;34m)\u001b[0m\u001b[0;34m\u001b[0m\u001b[0;34m\u001b[0m\u001b[0m\n\u001b[1;32m      4\u001b[0m \u001b[0mhash\u001b[0m\u001b[0;34m.\u001b[0m\u001b[0mupdate\u001b[0m\u001b[0;34m(\u001b[0m\u001b[0mmensaje2\u001b[0m\u001b[0;34m)\u001b[0m\u001b[0;34m\u001b[0m\u001b[0;34m\u001b[0m\u001b[0m\n\u001b[1;32m      5\u001b[0m \u001b[0mhash_bytes_m2\u001b[0m \u001b[0;34m=\u001b[0m \u001b[0mhash\u001b[0m\u001b[0;34m.\u001b[0m\u001b[0mdigest\u001b[0m\u001b[0;34m(\u001b[0m\u001b[0;34m)\u001b[0m\u001b[0;34m\u001b[0m\u001b[0;34m\u001b[0m\u001b[0m\n",
            "\u001b[0;31mAttributeError\u001b[0m: 'builtin_function_or_method' object has no attribute 'update'"
          ]
        }
      ]
    },
    {
      "cell_type": "markdown",
      "metadata": {
        "id": "Vgm0-XclGsco",
        "colab_type": "text"
      },
      "source": [
        "Nota que aunque `mensaje1`y `mensaje2`son muy similares, eso no se refleja en el valor al aplicar el hash **SHA-256**."
      ]
    },
    {
      "cell_type": "markdown",
      "metadata": {
        "id": "yIuHsoqO0BKl",
        "colab_type": "text"
      },
      "source": [
        "***Tu turno:***  En la siguiente celda de códido calcula el hash, usando la función hash `RIPEMD160`, de todos los valores de la siguiente lista: \n",
        "\n",
        "`Lista = [b'Hola', b'hola', b'holA', b'ola', b'holaa']`\n",
        "\n",
        "Para aplicar la función hash `RIPEMD160` usamos el siguiente código\n",
        "```\n",
        "hashR = RIPEMD.new() ##llamamos la función RIPMED160\n",
        "hashR.update(---) ## Aplicamos la función hash a ---\n",
        "Valor_hash =hashR.digest()\n",
        "```     \n",
        "\n",
        "¡Debes imprimir secuencias hexadecimales!"
      ]
    },
    {
      "cell_type": "code",
      "metadata": {
        "id": "-Cq2Q043PPTq",
        "colab_type": "code",
        "colab": {
          "base_uri": "https://localhost:8080/",
          "height": 135
        },
        "outputId": "563032f4-2d74-4dc9-93fe-e3d232ebd170"
      },
      "source": [
        "##**************************** Completa el siguiente código****************************##\n",
        "from Crypto.Hash import RIPEMD\n",
        "Lista = [b'Hola', b'hola', b'holA', b'ola', b'holaa']\n",
        "def ripemd(----):\n",
        "  _________ ##llamamos la función RIPMED160\n",
        "  _________ ## Aplicamos la función hash a ----\n",
        "  _________ ## Tomamos el output de la función\n",
        "  return(______) ## Transformar el digest a hexadecimal\n",
        "print(list(map(ripemd,Lista))) # Aplicamos la función ripemd a cada elemento en Lista "
      ],
      "execution_count": null,
      "outputs": [
        {
          "output_type": "error",
          "ename": "SyntaxError",
          "evalue": "ignored",
          "traceback": [
            "\u001b[0;36m  File \u001b[0;32m\"<ipython-input-3-7da47bc3192d>\"\u001b[0;36m, line \u001b[0;32m4\u001b[0m\n\u001b[0;31m    def ripemd(----):\u001b[0m\n\u001b[0m               ^\u001b[0m\n\u001b[0;31mSyntaxError\u001b[0m\u001b[0;31m:\u001b[0m invalid syntax\n"
          ]
        }
      ]
    },
    {
      "cell_type": "markdown",
      "metadata": {
        "id": "CTS45aj6NQgC",
        "colab_type": "text"
      },
      "source": [
        "***Tu turno (pero para después)***: Desde la imagen de una hash no se puede saber la preimagen. \n",
        "\n",
        "\n",
        "---\n",
        "\n",
        "\n",
        "***Reto:*** Encuentra una preimagen en **hexadecimal**, bajo la función **SHA-256**, de la secuencia: \n",
        "\n",
        "`c7f639f83031eb3ca1ec6bb600d9b67c5b478822a1e1cade9803cd562349df6f`\n",
        "\n",
        "***Pista:*** Una de las preimágenes tiene 6 bytes y es interés común de todos nosotros en éste curso.\n",
        "\n"
      ]
    },
    {
      "cell_type": "code",
      "metadata": {
        "id": "j-IrvlSNRSC0",
        "colab_type": "code",
        "colab": {}
      },
      "source": [
        "##***************************Escribe aquí tu código***************************##\n"
      ],
      "execution_count": null,
      "outputs": []
    },
    {
      "cell_type": "markdown",
      "metadata": {
        "id": "VY3_XbGpg0NE",
        "colab_type": "text"
      },
      "source": [
        "##**2. Firmas digitales**\n",
        "\n",
        "Una firma digital se puede considerar como una versión electrónica de la firma que plasmamos constantemente en documentos físicos. Un **esquema** de firmas digítales consta de los siguientes elementos:\n",
        "- Un algoritmo de generación de contraseñas. El algoritmo genera dos contraseñas: una privada  y una pública. \n",
        "- Un algoritmo para firmar. El algoritmo recibe  un mensaje $M$ (de hecho un hash del mensaje), la llave privada y arroja otra cadena de bits, $M_f$, que se considera el mensaje firmado.\n",
        "- Un algoritmo de verificación. Este algoritmo recibe  el  mensaje $M$, el mensaje firmado $M_f$ y la llave pública. El objetivo es  verificar la validez de la firma. \n",
        "\n",
        "<center> <img src=\"https://raw.githubusercontent.com/garestrear/Curso_de_Python/master/Sesion5/digital-signatures.jpg\" width=\"700\" height=\"500\" align=\"center\"/></center>\n",
        "\n",
        "Existen varios esquemas de firmas digitales, en particular, **ECDSA** es el esquema de firmas usado por Bitcoin.\n",
        "\n",
        "**secp256k1** Es la curva elíptica usada por Bitcoin (probablemente esto no es importante en este contexto).\n",
        "\n",
        "Usaremos la librería `bitcoin` para explorar las firmas digitales usadas en los protocolos criptográficos  del Bitcoin. Empecemos instalándola usando el comando `!pip install -q bitcon`."
      ]
    },
    {
      "cell_type": "code",
      "metadata": {
        "id": "KcmCw32qIW8T",
        "colab_type": "code",
        "colab": {
          "base_uri": "https://localhost:8080/",
          "height": 353
        },
        "outputId": "6218c436-9c1c-4eb6-f66e-27080cd60326"
      },
      "source": [
        "!pip install -q bitcoin\n",
        "from bitcoin import * # Con esta línea importamos todas las funciones de la librería"
      ],
      "execution_count": null,
      "outputs": [
        {
          "output_type": "stream",
          "text": [
            "\u001b[31mERROR: Operation cancelled by user\u001b[0m\n"
          ],
          "name": "stdout"
        },
        {
          "output_type": "error",
          "ename": "ModuleNotFoundError",
          "evalue": "ignored",
          "traceback": [
            "\u001b[0;31m---------------------------------------------------------------------------\u001b[0m",
            "\u001b[0;31mModuleNotFoundError\u001b[0m                       Traceback (most recent call last)",
            "\u001b[0;32m<ipython-input-5-4c291b8e7bb1>\u001b[0m in \u001b[0;36m<module>\u001b[0;34m()\u001b[0m\n\u001b[1;32m      1\u001b[0m \u001b[0mget_ipython\u001b[0m\u001b[0;34m(\u001b[0m\u001b[0;34m)\u001b[0m\u001b[0;34m.\u001b[0m\u001b[0msystem\u001b[0m\u001b[0;34m(\u001b[0m\u001b[0;34m'pip install -q bitcoin'\u001b[0m\u001b[0;34m)\u001b[0m\u001b[0;34m\u001b[0m\u001b[0;34m\u001b[0m\u001b[0m\n\u001b[0;32m----> 2\u001b[0;31m \u001b[0;32mfrom\u001b[0m \u001b[0mbitcoin\u001b[0m \u001b[0;32mimport\u001b[0m \u001b[0;34m*\u001b[0m \u001b[0;31m# Con esta línea importamos todas las funciones de la librería\u001b[0m\u001b[0;34m\u001b[0m\u001b[0;34m\u001b[0m\u001b[0m\n\u001b[0m",
            "\u001b[0;31mModuleNotFoundError\u001b[0m: No module named 'bitcoin'",
            "",
            "\u001b[0;31m---------------------------------------------------------------------------\u001b[0;32m\nNOTE: If your import is failing due to a missing package, you can\nmanually install dependencies using either !pip or !apt.\n\nTo view examples of installing some common dependencies, click the\n\"Open Examples\" button below.\n\u001b[0;31m---------------------------------------------------------------------------\u001b[0m\n"
          ]
        }
      ]
    },
    {
      "cell_type": "markdown",
      "metadata": {
        "id": "7CPsa_rgCV8F",
        "colab_type": "text"
      },
      "source": [
        "Los siguientes comandos de la libería `bitcoin`se usan para generar llaves y firmar.\n",
        "- `llave_priv = random_key()` genera la llave privada. \n",
        "- `llave_pub = privtopub(llave_priv)` genera la llave pública asociada.\n",
        "- `firmado = ecdsa_sign(mensaje, llave_priv)` firma el mensaje usando el esquema ECDSA."
      ]
    },
    {
      "cell_type": "code",
      "metadata": {
        "id": "lZ0TEBkWJRZp",
        "colab_type": "code",
        "colab": {
          "base_uri": "https://localhost:8080/",
          "height": 34
        },
        "outputId": "daf98a97-54b1-4fb6-d493-c38a50e478bb"
      },
      "source": [
        "####    Se generan las llaves que usaremos en adelante     ###\n",
        "llave_priv = random_key() # Se genera la llave privada \n",
        "llave_pub = privtopub(llave_priv) # Se genera la llave pública asociada a la llave privada\n",
        "print(llave_pub)\n"
      ],
      "execution_count": null,
      "outputs": [
        {
          "output_type": "stream",
          "text": [
            "04cd0bcf4e5e6085f062c56409879752de14efa67529123e87c703f2bfa24284d0bae1944c152a4f623a3dcec53130e9d1d193279c13ec807a1132773945398fb1\n"
          ],
          "name": "stdout"
        }
      ]
    },
    {
      "cell_type": "markdown",
      "metadata": {
        "id": "KfXnW-6nSkYS",
        "colab_type": "text"
      },
      "source": [
        "En este momento tenemos nuestras llaves. Ahora veamos la firma de un mensaje:"
      ]
    },
    {
      "cell_type": "code",
      "metadata": {
        "id": "cYFOFq4xSvHS",
        "colab_type": "code",
        "colab": {
          "base_uri": "https://localhost:8080/",
          "height": 50
        },
        "outputId": "67a78338-e97e-45ec-d4b7-e806932a2d60"
      },
      "source": [
        "mensaje = b'Anel transfiere 10 Bitcoins a Natalia' # Mensaje que se quiere firmar\n",
        "men_fir = ecdsa_sign(mensaje,llave_priv) # Firmamos el documento con ECDSA\n",
        "print(men_fir) # Imprimimos el mensaje firmado"
      ],
      "execution_count": null,
      "outputs": [
        {
          "output_type": "stream",
          "text": [
            "HLG8sMTxY1Zp1v1epugxiDWFXrnkxJtSJaPWZrp05pxAF0YHB/XB0tvQbArQY84ZoHEKoGZtT9Bnv0CwPMZFu1Y=\n",
            "fff28dfe6d7bc87dd7a7dcb6c62d0ea4553578256c371c9f4a561dde7d0c2bf5\n"
          ],
          "name": "stdout"
        }
      ]
    },
    {
      "cell_type": "markdown",
      "metadata": {
        "id": "acsloBIrF97m",
        "colab_type": "text"
      },
      "source": [
        "Ya tenemos firmado nuestro mensaje, ahora **¿Cómo un tercero puede verificar la validez de la firma?** \n",
        "- `ecdsa_verify(mensaje,men_fir,llave_pub)` verifica la firma. \n",
        "- `ecdsa_recover(mensaje,men_fir)` nos ayuda a recuperar la llave pública desde un mensaje firmado."
      ]
    },
    {
      "cell_type": "code",
      "metadata": {
        "id": "SNRqlibe-Q5Q",
        "colab_type": "code",
        "colab": {
          "base_uri": "https://localhost:8080/",
          "height": 34
        },
        "outputId": "d979f002-fa60-4c40-b36f-fa9aea5253e7"
      },
      "source": [
        "#ecdsa_recover(mensaje,men_fir)\n",
        "ecdsa_verify(mensaje,men_fir,llave_pub)"
      ],
      "execution_count": null,
      "outputs": [
        {
          "output_type": "execute_result",
          "data": {
            "text/plain": [
              "True"
            ]
          },
          "metadata": {
            "tags": []
          },
          "execution_count": 16
        }
      ]
    },
    {
      "cell_type": "markdown",
      "metadata": {
        "id": "5TBEPFf3CspS",
        "colab_type": "text"
      },
      "source": [
        "**¡Si el mensaje fuera manipulado tendría que ser detectado!**\n"
      ]
    },
    {
      "cell_type": "code",
      "metadata": {
        "id": "DJmwFD_WDqKt",
        "colab_type": "code",
        "colab": {
          "base_uri": "https://localhost:8080/",
          "height": 34
        },
        "outputId": "38a4c51d-db87-4d7d-e46f-d98e81f0632c"
      },
      "source": [
        "## Veamos que una pequeña manipulación del mensaje firmado es detectada\n",
        "mensaje_falso = '-------'\n",
        "ecdsa_verify(mensaje,mensaje_falso,llave_pub)"
      ],
      "execution_count": null,
      "outputs": [
        {
          "output_type": "execute_result",
          "data": {
            "text/plain": [
              "False"
            ]
          },
          "metadata": {
            "tags": []
          },
          "execution_count": 20
        }
      ]
    },
    {
      "cell_type": "markdown",
      "metadata": {
        "id": "J8gbccVbdtgT",
        "colab_type": "text"
      },
      "source": [
        "#**3. Direcciones en la red de Bitcoin**\n",
        "Una dirección es la identificación del usuario en la red de Bitcoin. Cada llave privada tiene asociada una dirección de Bitcoin. Usando la librería `bitcoin` podemos obtener la dirección asociada a nuestras llaves.\n",
        "- `privtoaddr (llave_priv) ` genera la dirección desde la llave privada.\n",
        "- `pubtoaddr(llave_pub) ` genera la dirección desde la llave pública.\n",
        "\n",
        "\n"
      ]
    },
    {
      "cell_type": "code",
      "metadata": {
        "id": "thDN35uTFeLX",
        "colab_type": "code",
        "colab": {
          "base_uri": "https://localhost:8080/",
          "height": 34
        },
        "outputId": "0fc24c50-f75b-49a8-83d6-6afadcf77054"
      },
      "source": [
        "## Generamos la dirección de Bitcoin asociada a nuestra clave privada \n",
        "Mi_direccion = privtoaddr(llave_priv)\n",
        "print(Mi_direccion)"
      ],
      "execution_count": null,
      "outputs": [
        {
          "output_type": "stream",
          "text": [
            "1QGi5ujR3jk4Kn2auNojXSVL99B6bARFwG\n"
          ],
          "name": "stdout"
        }
      ]
    },
    {
      "cell_type": "markdown",
      "metadata": {
        "id": "RDbQh-NZHRYS",
        "colab_type": "text"
      },
      "source": [
        "***Tu turno:*** Verifique si la dirección obtenida con el comando `pubtoaddr(llave_pub)` es igual a `Mi_direccion`."
      ]
    },
    {
      "cell_type": "code",
      "metadata": {
        "id": "6c08TzaXIbBR",
        "colab_type": "code",
        "colab": {
          "base_uri": "https://localhost:8080/",
          "height": 34
        },
        "outputId": "37195b5b-b390-46a6-8470-0a7bd0b53d6a"
      },
      "source": [
        "## Digite su código para verificar si las direcciones son iguales\n"
      ],
      "execution_count": null,
      "outputs": [
        {
          "output_type": "stream",
          "text": [
            "True\n"
          ],
          "name": "stdout"
        }
      ]
    },
    {
      "cell_type": "markdown",
      "metadata": {
        "id": "jHUPiScsIrbc",
        "colab_type": "text"
      },
      "source": [
        "## **Explorando direcciones de Bitcoin**\n",
        "\n",
        "Usaremos la librería `blockcyper` para explorar la red de Bitcoin\n",
        "ref: https://www.blockcypher.com/dev/bitcoin/#introduction\n",
        "\n",
        "**Ejecuta primero la siguiente celda de código**\n",
        "\n"
      ]
    },
    {
      "cell_type": "code",
      "metadata": {
        "id": "YtcfiHa3Lot7",
        "colab_type": "code",
        "colab": {
          "base_uri": "https://localhost:8080/",
          "height": 35
        },
        "outputId": "3e0f8a91-f297-4ee1-d117-801c93a004f5"
      },
      "source": [
        "!pip install -q blockcypher\n",
        "import blockcypher as bc"
      ],
      "execution_count": null,
      "outputs": [
        {
          "output_type": "stream",
          "text": [
            "  Building wheel for bitcoin (setup.py) ... \u001b[?25l\u001b[?25hdone\n"
          ],
          "name": "stdout"
        }
      ]
    },
    {
      "cell_type": "markdown",
      "metadata": {
        "id": "bIeehKuhMGPK",
        "colab_type": "text"
      },
      "source": [
        "Las siguientes direcciones (entre muchas otras) son atribuidas a *Satoshi Nakamoto*. \n",
        "\n",
        "- `12c6DSiU4Rq3P4ZxziKxzrL5LmMBrzjrJX`\n",
        "\n",
        "- `1A1zP1eP5QGefi2DMPTfTL5SLmv7DivfNa`\n",
        "\n",
        "Veamos qué saldo tienen estas cuentas\n",
        "\n",
        "- `bc.get_total_balance('direccion')` nos da el saldo de `direccion`."
      ]
    },
    {
      "cell_type": "code",
      "metadata": {
        "id": "cKOklA7jMpY-",
        "colab_type": "code",
        "colab": {
          "base_uri": "https://localhost:8080/",
          "height": 35
        },
        "outputId": "411901fd-2224-4300-b04c-57499f1dcc2f"
      },
      "source": [
        "bc.get_total_balance('1A1zP1eP5QGefi2DMPTfTL5SLmv7DivfNa')"
      ],
      "execution_count": null,
      "outputs": [
        {
          "output_type": "execute_result",
          "data": {
            "text/plain": [
              "1833529005"
            ]
          },
          "metadata": {
            "tags": []
          },
          "execution_count": 7
        }
      ]
    },
    {
      "cell_type": "markdown",
      "metadata": {
        "id": "JHebxq92NDfu",
        "colab_type": "text"
      },
      "source": [
        "El número anterior es enorme. Además, nunca habrá mas de 21 millones de Bitcoins en el mercado (así fue diseñado).\n",
        "\n",
        "La unidad mínima en que se puede subdividir un Bitcoin se llama **Satoshi** y corresponde a $10^{-8}$  Bitcoin. \n",
        "\n",
        "El número que vemos arriba está dado en Sathoshis. Transformemos ésto a bitcoins y usemos nuestra función de arriba para ver su balance en pesos colombianos y mexicanos."
      ]
    },
    {
      "cell_type": "code",
      "metadata": {
        "id": "0Hrk9cv9gWMi",
        "colab_type": "code",
        "colab": {
          "base_uri": "https://localhost:8080/",
          "height": 35
        },
        "outputId": "cc1579a5-7356-4baa-faed-bdb16cf80c4e"
      },
      "source": [
        "def Sat_to_Bit(s):\n",
        "  B= s/10**8\n",
        "  return(B)\n",
        "print(Sat_to_Bit(1833521657))"
      ],
      "execution_count": null,
      "outputs": [
        {
          "output_type": "stream",
          "text": [
            "18.33521657\n"
          ],
          "name": "stdout"
        }
      ]
    },
    {
      "cell_type": "markdown",
      "metadata": {
        "id": "985z9C2hhk8U",
        "colab_type": "text"
      },
      "source": [
        "Con el siguiente comando podemos obtener el mismo resultado de la función de arriba ``bc.satoshis_to_btc()``\n",
        "\n",
        "Podemos además ver cuántas transacciones ha tenido una dirección de la red\n",
        "- `bc.get_total_num_transactions('direccion') `"
      ]
    },
    {
      "cell_type": "code",
      "metadata": {
        "id": "1vOm4Lxah687",
        "colab_type": "code",
        "colab": {
          "base_uri": "https://localhost:8080/",
          "height": 35
        },
        "outputId": "1545c173-1c5d-40fa-deb6-34e2e2fd6075"
      },
      "source": [
        "bc.get_total_num_transactions('1A1zP1eP5QGefi2DMPTfTL5SLmv7DivfNa')\n",
        "#bc.satoshis_to_btc(1833521657)"
      ],
      "execution_count": null,
      "outputs": [
        {
          "output_type": "execute_result",
          "data": {
            "text/plain": [
              "2477"
            ]
          },
          "metadata": {
            "tags": []
          },
          "execution_count": 9
        }
      ]
    },
    {
      "cell_type": "markdown",
      "metadata": {
        "id": "dFUWjkBzk2fY",
        "colab_type": "text"
      },
      "source": [
        "Pero....**¿Qué es una transacción?**"
      ]
    },
    {
      "cell_type": "markdown",
      "metadata": {
        "id": "XuI5Q6-JCtWp",
        "colab_type": "text"
      },
      "source": [
        "#**4. Transacciones**\n",
        "\n",
        "En términos generales, una **transacción** es un documento digital que certifica la transferencia de algunos bitcoins desde una(s) cuenta(s) de origen (emisor(es)) hasta una(s) cuenta(s) de destino (receptor(es)).\n",
        "\n",
        "*Una transferencia contiene:*\n",
        "\n",
        "Una **identificación** la cual es un doble hash de un documento conteniendo la información de los siguientes incisos:\n",
        "\n",
        "1.   **Entradas (inputs):** Indentificación de **transacciones anteriores** donde el emisor obtuvo los bitcoins que quiere transferir. \n",
        "\n",
        "2.   **Salidas (outputs):** dirección(es) de las cuentas de los receptores de los bitcoins.\n",
        "\n",
        "3.   **Certificado de auntenticidad:** Contiene la firma digital del documento que contiene la información de los item 1 y 2 para cada entrada. Además, contiene la llave pública de la entrada correspondiente.\n",
        "\n",
        "\n"
      ]
    },
    {
      "cell_type": "markdown",
      "metadata": {
        "id": "NwoAV2SERHgj",
        "colab_type": "text"
      },
      "source": [
        "###*1. Identificación*: \n",
        "\n",
        "La idendentificación de una transacción `tx` es el doble hash de la información contenida en ella. \n",
        "\n",
        "Exploraremos la transacción con identificación:\n",
        "`5e5d0206bee05b83fa58aa013ea67f6835eef7c3216039ff9fd5b4abd4209e2d`"
      ]
    },
    {
      "cell_type": "code",
      "metadata": {
        "id": "-JssyY3yKeyn",
        "colab_type": "code",
        "colab": {}
      },
      "source": [
        "tx = bc.get_transaction_details('5e5d0206bee05b83fa58aa013ea67f6835eef7c3216039ff9fd5b4abd4209e2d')"
      ],
      "execution_count": null,
      "outputs": []
    },
    {
      "cell_type": "markdown",
      "metadata": {
        "id": "nBZGyXJIHCQm",
        "colab_type": "text"
      },
      "source": [
        "Una transacción es un diccionario para python"
      ]
    },
    {
      "cell_type": "code",
      "metadata": {
        "id": "WilfzsG1HNgW",
        "colab_type": "code",
        "colab": {
          "base_uri": "https://localhost:8080/",
          "height": 34
        },
        "outputId": "cb751748-0c03-4f9a-8054-20686feda7e7"
      },
      "source": [
        "type(tx)"
      ],
      "execution_count": null,
      "outputs": [
        {
          "output_type": "execute_result",
          "data": {
            "text/plain": [
              "dict"
            ]
          },
          "metadata": {
            "tags": []
          },
          "execution_count": 38
        }
      ]
    },
    {
      "cell_type": "code",
      "metadata": {
        "id": "OxerF0I-LeNx",
        "colab_type": "code",
        "colab": {
          "base_uri": "https://localhost:8080/",
          "height": 54
        },
        "outputId": "4e2d6183-b38b-4ce7-d770-b0eb0599e37e"
      },
      "source": [
        "tx.keys()"
      ],
      "execution_count": null,
      "outputs": [
        {
          "output_type": "execute_result",
          "data": {
            "text/plain": [
              "dict_keys(['block_hash', 'block_height', 'block_index', 'hash', 'addresses', 'total', 'fees', 'size', 'preference', 'relayed_by', 'confirmed', 'received', 'ver', 'double_spend', 'vin_sz', 'vout_sz', 'confirmations', 'confidence', 'inputs', 'outputs'])"
            ]
          },
          "metadata": {
            "tags": []
          },
          "execution_count": 39
        }
      ]
    },
    {
      "cell_type": "markdown",
      "metadata": {
        "id": "8Gueme41R_SB",
        "colab_type": "text"
      },
      "source": [
        "###*2. Entradas*\n",
        "\n",
        "Cada entrada de `tx` contiene información de la  dirección que emite bitcoins en `tx` y la identificación de la transacción de donde obtuvo los bitcoins que va a transferir en `tx`. \n",
        "\n",
        "Para visualizar la información de las entradas de una transacción `tx` usamos `tx['inputs']`\n"
      ]
    },
    {
      "cell_type": "code",
      "metadata": {
        "id": "AxrEhT46L6ke",
        "colab_type": "code",
        "colab": {}
      },
      "source": [
        "entradas = tx['inputs']\n",
        "#print(entradas)"
      ],
      "execution_count": null,
      "outputs": []
    },
    {
      "cell_type": "code",
      "metadata": {
        "id": "V0Aefb0YOK63",
        "colab_type": "code",
        "colab": {
          "base_uri": "https://localhost:8080/",
          "height": 218
        },
        "outputId": "f943be57-4b07-42f9-e50e-f08190c72e20"
      },
      "source": [
        "for i in range(len(entradas)):\n",
        "  print('La entrada {} con identificación {}'.format(i, entradas[i]['addresses'][0]))\n",
        "  print('Aporta los {} BTC '.format(entradas[i]['output_value']*10**-8))\n",
        "  print('Recibidos en la transacción {}\\n'.format(entradas[i]['prev_hash']))"
      ],
      "execution_count": null,
      "outputs": [
        {
          "output_type": "stream",
          "text": [
            "La entrada 0 con identificación 1G8jDp2P6oKSCMtQAZzpJT2dyo7tN61fpa\n",
            "Aporta los 0.02075262 BTC \n",
            "Recibidos en la transacción 3085853b647032dc12c5c7d96ec50458a431935ac4ffd11e563e329729fbdcf2\n",
            "\n",
            "La entrada 1 con identificación 1G8jDp2P6oKSCMtQAZzpJT2dyo7tN61fpa\n",
            "Aporta los 0.18677364 BTC \n",
            "Recibidos en la transacción 800fd3f4534cfac3613322022d2bc6f9783d473ff1cb07ef8729c811319adf6f\n",
            "\n",
            "La entrada 2 con identificación 1HYyAJaZMxaWUvqmMwFaZpyW9yqXKH2bjE\n",
            "Aporta los 0.01957834 BTC \n",
            "Recibidos en la transacción eff5c045514dec091749e515c27b7230835ffe1cf67b7da5997bbc0be5e946c6\n",
            "\n"
          ],
          "name": "stdout"
        }
      ]
    },
    {
      "cell_type": "markdown",
      "metadata": {
        "id": "3sUJn87dsKGq",
        "colab_type": "text"
      },
      "source": [
        "###*3. Salidas*\n",
        "\n",
        "Cada salida de la transacción `tx` es una dirección de bitcoin y tiene asociado un valor a recibir. "
      ]
    },
    {
      "cell_type": "code",
      "metadata": {
        "id": "zp4VwtkEzmah",
        "colab_type": "code",
        "colab": {
          "base_uri": "https://localhost:8080/",
          "height": 50
        },
        "outputId": "2318aab2-35df-4905-a054-08caf4284781"
      },
      "source": [
        "salidas = tx['outputs']\n",
        "for i in range(len(salidas)):\n",
        "  print('La salida {} con dirección {} recibió {} BTC'.format(i,salidas[i]['addresses'][0],10**(-8) * salidas[i]['value']))"
      ],
      "execution_count": null,
      "outputs": [
        {
          "output_type": "stream",
          "text": [
            "La salida 0 con dirección 1LpEjncyqxyWVmcHpDn8zLQP41TrE9h6o4 recibió 0.0181002 BTC\n",
            "La salida 1 con dirección 1NrqoTGu9wgDwrZ42M5XFWcKB57QR9N6jU recibió 0.2089 BTC\n"
          ],
          "name": "stdout"
        }
      ]
    },
    {
      "cell_type": "markdown",
      "metadata": {
        "id": "Om4cKPMw0m4W",
        "colab_type": "text"
      },
      "source": [
        "###*4. Certificado de auntenticidad*\n",
        "\n",
        "Cada entrada de la transacción `tx` adjunta su llave pública y  la firma digital de documento que certifica la transferencia que dicha entrada aporta a la transacción. "
      ]
    },
    {
      "cell_type": "code",
      "metadata": {
        "id": "63c75pzV35Vn",
        "colab_type": "code",
        "colab": {
          "base_uri": "https://localhost:8080/",
          "height": 87
        },
        "outputId": "b13b18fc-c0a0-446e-df44-2d83dd3ffa60"
      },
      "source": [
        "for i in range(len(entradas)):\n",
        "  print(entradas[i]['script'])"
      ],
      "execution_count": null,
      "outputs": [
        {
          "output_type": "stream",
          "text": [
            "483045022100acc61e124c26a8cfe9c6970fb2ffaa9cf999cb117ba23274be84263713ea1fae0220186a503dc6180e9e25dc6132a3c9bf1c84cc1188f307058337886381f70e0ad901210385c8c5a44d8ac1b34c8f87535d0b3071e224b84c635e2e843a80e67ef0098912\n",
            "4730440220054eac2b4b91caac9bb5489e2d853a37cff66a96ad8ba6298f46859def4b1b7602207259d343288dd6c7548ee3120cd8901c459dfbb6865cb0fed977bdbff69c461001210385c8c5a44d8ac1b34c8f87535d0b3071e224b84c635e2e843a80e67ef0098912\n",
            "47304402204131f31f45830ff59a10391788a84f8fd6e9ff03f81510ad107e148808e8bac3022056d5f5d17bb0017f17b4378760862d708c15af85f7b88a5870fe7045fb5b45da012103b06c25d32f062f06e1a1e519a3d9896cade73275677923d0428404656e6c0d78\n"
          ],
          "name": "stdout"
        }
      ]
    },
    {
      "cell_type": "markdown",
      "metadata": {
        "id": "Bmfb70Tnjgcz",
        "colab_type": "text"
      },
      "source": [
        "***Tu turno:*** Sigue los siguientes pasos\n",
        "- Crea una lista vacía `llaves`.\n",
        "- Genera 20 llaves privadas de la red de Bitcoin y guardalas en `llaves`. \n",
        "- Obten las direcciones de red de Bitcoin asociadas a tus llaves.\n",
        "- Imprima el saldo de cada una de las direcciones.\n",
        "Si encuentras algunos Bitcoins (o satoshis) debes **invitar cerveza a todo el grupo**.\n",
        "\n",
        "**Recuerda** que para agregar el elemento `a` a una lista `lista` usamos `lista.append(a)`"
      ]
    },
    {
      "cell_type": "code",
      "metadata": {
        "id": "L80cjpcWlDZY",
        "colab_type": "code",
        "colab": {}
      },
      "source": [
        " ### ------- Buscando Bitcoins ----------###\n",
        " "
      ],
      "execution_count": null,
      "outputs": []
    },
    {
      "cell_type": "code",
      "metadata": {
        "id": "iO6aivYbmUPF",
        "colab_type": "code",
        "colab": {}
      },
      "source": [
        "print(llaves)\n"
      ],
      "execution_count": null,
      "outputs": []
    },
    {
      "cell_type": "markdown",
      "metadata": {
        "id": "pJqlPzpfzDSR",
        "colab_type": "text"
      },
      "source": [
        "##**Número de transacciones por segundo en la red** \n",
        "\n",
        "\n",
        "La red de Bitcoin realiza en promedio entre 2 y 5 transacciones por segundo, mientras que VISA realiza 1700 transacciones por segundo."
      ]
    },
    {
      "cell_type": "code",
      "metadata": {
        "id": "duM_KZsUrnkq",
        "colab_type": "code",
        "colab": {}
      },
      "source": [
        "import pandas as pd \n",
        "import matplotlib.pyplot as plt"
      ],
      "execution_count": null,
      "outputs": []
    },
    {
      "cell_type": "code",
      "metadata": {
        "id": "rdsNBfHMzRKK",
        "colab_type": "code",
        "colab": {
          "base_uri": "https://localhost:8080/",
          "height": 225
        },
        "outputId": "4f4f5738-b9c2-42a3-f3fa-5e91fec24c7b"
      },
      "source": [
        "tran_per_sec = pd.read_csv('https://raw.githubusercontent.com/garestrear/Curso_de_Python/master/Sesion5/S5_transactions-per-second')\n",
        "tran_per_sec['Timestamp'] = pd.to_datetime(tran_per_sec['Timestamp'])\n",
        "tran_per_sec.set_index('Timestamp', inplace=True)\n",
        "tran_per_sec.head()"
      ],
      "execution_count": null,
      "outputs": [
        {
          "output_type": "execute_result",
          "data": {
            "text/html": [
              "<div>\n",
              "<style scoped>\n",
              "    .dataframe tbody tr th:only-of-type {\n",
              "        vertical-align: middle;\n",
              "    }\n",
              "\n",
              "    .dataframe tbody tr th {\n",
              "        vertical-align: top;\n",
              "    }\n",
              "\n",
              "    .dataframe thead th {\n",
              "        text-align: right;\n",
              "    }\n",
              "</style>\n",
              "<table border=\"1\" class=\"dataframe\">\n",
              "  <thead>\n",
              "    <tr style=\"text-align: right;\">\n",
              "      <th></th>\n",
              "      <th>transactions-per-second</th>\n",
              "    </tr>\n",
              "    <tr>\n",
              "      <th>Timestamp</th>\n",
              "      <th></th>\n",
              "    </tr>\n",
              "  </thead>\n",
              "  <tbody>\n",
              "    <tr>\n",
              "      <th>2016-06-11 00:00:00</th>\n",
              "      <td>1.983333</td>\n",
              "    </tr>\n",
              "    <tr>\n",
              "      <th>2016-06-12 00:15:00</th>\n",
              "      <td>1.750000</td>\n",
              "    </tr>\n",
              "    <tr>\n",
              "      <th>2016-06-13 00:30:00</th>\n",
              "      <td>2.000000</td>\n",
              "    </tr>\n",
              "    <tr>\n",
              "      <th>2016-06-14 00:45:00</th>\n",
              "      <td>2.716667</td>\n",
              "    </tr>\n",
              "    <tr>\n",
              "      <th>2016-06-15 01:00:00</th>\n",
              "      <td>2.583333</td>\n",
              "    </tr>\n",
              "  </tbody>\n",
              "</table>\n",
              "</div>"
            ],
            "text/plain": [
              "                     transactions-per-second\n",
              "Timestamp                                   \n",
              "2016-06-11 00:00:00                 1.983333\n",
              "2016-06-12 00:15:00                 1.750000\n",
              "2016-06-13 00:30:00                 2.000000\n",
              "2016-06-14 00:45:00                 2.716667\n",
              "2016-06-15 01:00:00                 2.583333"
            ]
          },
          "metadata": {
            "tags": []
          },
          "execution_count": 52
        }
      ]
    },
    {
      "cell_type": "code",
      "metadata": {
        "id": "N0IwztyVzdd1",
        "colab_type": "code",
        "colab": {
          "base_uri": "https://localhost:8080/",
          "height": 425
        },
        "outputId": "86fd22c6-8a6f-48c4-9335-475c93a44270"
      },
      "source": [
        "tran_per_sec.plot(figsize =(14,7), kind = 'bar', color = 'k', alpha=0.6,xticks = [], width=0.6)\n",
        "plt.show()"
      ],
      "execution_count": null,
      "outputs": [
        {
          "output_type": "display_data",
          "data": {
            "image/png": "[encoded data removed]",
            "text/plain": [
              "<Figure size 1008x504 with 1 Axes>"
            ]
          },
          "metadata": {
            "tags": [],
            "needs_background": "light"
          }
        }
      ]
    },
    {
      "cell_type": "markdown",
      "metadata": {
        "id": "7nAOn5mxDUBe",
        "colab_type": "text"
      },
      "source": [
        "#**5. Bloques y la Blockchain**\n",
        "\n",
        "\n",
        "\n",
        "Un **bloque** es un arhivo que contiene un grupo de transacciones.\n",
        "\n",
        "Los bloques se guardan de manera ordenada (encadenada) en la **Blockchain**.\n",
        "\n",
        "Un bloque contiene 4 características principales:\n",
        "\n",
        "1.   **Indentificación o hash:** es el hash de un documento que contiene toda la información del bloque, además cumple con la *prueba de trabajo* \n",
        "2.   **Dificultad:**  contiene el nivel de dificultad de la prueba de trabajo.\n",
        "3.   **Altura:** el orden que el bloque tiene en la Blockchain\n",
        "4.   **Hash bloque anterior:** La identificación del bloque con altura igual a una unidad menor. \n",
        "\n",
        "\n",
        "Importemos la librería `blockcypher` para obtener información de los bloques. \n",
        "\n",
        "Analicemos el bloque con altura `641085` \n",
        "\n"
      ]
    },
    {
      "cell_type": "code",
      "metadata": {
        "id": "ZPxQXTG36o3r",
        "colab_type": "code",
        "colab": {}
      },
      "source": [
        "import blockcypher as bc"
      ],
      "execution_count": null,
      "outputs": []
    },
    {
      "cell_type": "markdown",
      "metadata": {
        "id": "INgH2GfV62Mc",
        "colab_type": "text"
      },
      "source": [
        "Para cargar información del bloque de altura 12 utilizamos: `bc.get_block_overview('12')`\n",
        "\n",
        "###***Tu turno:*** Carga en la variable `bloque` la información del bloque de altura `641085`."
      ]
    },
    {
      "cell_type": "code",
      "metadata": {
        "id": "f29hBr3kDHvW",
        "colab_type": "code",
        "colab": {}
      },
      "source": [
        "#***********************Escribe aquí tu código***********************# \n",
        "bloque ="
      ],
      "execution_count": null,
      "outputs": []
    },
    {
      "cell_type": "markdown",
      "metadata": {
        "id": "QMJP2ARyG6CJ",
        "colab_type": "text"
      },
      "source": [
        "###***Tu turno:*** averigua que tipo de objeto contiene la variable `block`."
      ]
    },
    {
      "cell_type": "code",
      "metadata": {
        "id": "DusPQsBdG2DC",
        "colab_type": "code",
        "colab": {}
      },
      "source": [
        "#***********************Escribe aquí tu código***********************# \n"
      ],
      "execution_count": null,
      "outputs": []
    },
    {
      "cell_type": "markdown",
      "metadata": {
        "id": "IK7SCh3KZrvH",
        "colab_type": "text"
      },
      "source": [
        "###**Tu turno:** imprima `block`."
      ]
    },
    {
      "cell_type": "code",
      "metadata": {
        "id": "7RyJGtuuZgjY",
        "colab_type": "code",
        "colab": {}
      },
      "source": [
        "#***********************Escriba aquí tu código***********************# \n"
      ],
      "execution_count": null,
      "outputs": []
    },
    {
      "cell_type": "markdown",
      "metadata": {
        "id": "syEZ3T7Q4Gau",
        "colab_type": "text"
      },
      "source": [
        "Un ------ tiene asociados dos *métodos* `keys` (llaves ó etiquetas) y values `values` (valores). \n",
        "\n",
        "El código `block.keys()` devuelve todas las llaves del diccionario `block`.\n",
        "\n",
        "El código `block.values()` devuelve todas los valores del diccionario `block`.\n",
        "\n",
        "###***Tu turno:*** ejecuta las dos siguientes celdas de código."
      ]
    },
    {
      "cell_type": "code",
      "metadata": {
        "id": "OEOnGnmdFH1A",
        "colab_type": "code",
        "colab": {}
      },
      "source": [
        "bloque.keys()"
      ],
      "execution_count": null,
      "outputs": []
    },
    {
      "cell_type": "code",
      "metadata": {
        "id": "OwhqVH4Ual1v",
        "colab_type": "code",
        "colab": {}
      },
      "source": [
        "bloque.values()"
      ],
      "execution_count": null,
      "outputs": []
    },
    {
      "cell_type": "markdown",
      "metadata": {
        "id": "i0WvXzGQa5yK",
        "colab_type": "text"
      },
      "source": [
        "Como `block` es un diccionario ponemos acceder a sus valores usando sus llaves.\n",
        "\n",
        "**Ejemplo:** el código `block['hash']` imprimer el valor de `block` asociado a la llave `'hash'`, es decir, el hash del bloque `block`.\n",
        "\n",
        "###***Tu turno:*** ejecuta la siguiente celda de código."
      ]
    },
    {
      "cell_type": "code",
      "metadata": {
        "id": "HHFxskAQcANB",
        "colab_type": "code",
        "colab": {}
      },
      "source": [
        "block['hash']"
      ],
      "execution_count": null,
      "outputs": []
    },
    {
      "cell_type": "markdown",
      "metadata": {
        "id": "L2B71IJCcCLs",
        "colab_type": "text"
      },
      "source": [
        "###***Tu turno:*** imprime la áltura del bloque."
      ]
    },
    {
      "cell_type": "code",
      "metadata": {
        "id": "iKl9L4MPcKqP",
        "colab_type": "code",
        "colab": {}
      },
      "source": [
        ""
      ],
      "execution_count": null,
      "outputs": []
    },
    {
      "cell_type": "markdown",
      "metadata": {
        "id": "-SCHzaJlcRac",
        "colab_type": "text"
      },
      "source": [
        "###***Tu turno:*** imprime el total del bloque. "
      ]
    },
    {
      "cell_type": "code",
      "metadata": {
        "id": "scytE2d8cZ5C",
        "colab_type": "code",
        "colab": {}
      },
      "source": [
        ""
      ],
      "execution_count": null,
      "outputs": []
    },
    {
      "cell_type": "markdown",
      "metadata": {
        "id": "Dx3bkTVucaCW",
        "colab_type": "text"
      },
      "source": [
        "###***Tu turno:*** imprime el hash del bloque previo."
      ]
    },
    {
      "cell_type": "code",
      "metadata": {
        "id": "pBgamumEchmF",
        "colab_type": "code",
        "colab": {}
      },
      "source": [
        ""
      ],
      "execution_count": null,
      "outputs": []
    },
    {
      "cell_type": "markdown",
      "metadata": {
        "id": "m9kFZIfhciBy",
        "colab_type": "text"
      },
      "source": [
        "###**Tu turno:** imprime los \"bits\" del bloque."
      ]
    },
    {
      "cell_type": "code",
      "metadata": {
        "id": "FEEJL1eUcnt9",
        "colab_type": "code",
        "colab": {}
      },
      "source": [
        ""
      ],
      "execution_count": null,
      "outputs": []
    },
    {
      "cell_type": "markdown",
      "metadata": {
        "id": "UzcOUirxcn_D",
        "colab_type": "text"
      },
      "source": [
        "###***Tu turno:*** imprime el nounce del bloque."
      ]
    },
    {
      "cell_type": "code",
      "metadata": {
        "id": "1lNHIdTVcsFi",
        "colab_type": "code",
        "colab": {}
      },
      "source": [
        ""
      ],
      "execution_count": null,
      "outputs": []
    },
    {
      "cell_type": "markdown",
      "metadata": {
        "id": "GptM7IMPcsyp",
        "colab_type": "text"
      },
      "source": [
        "Con lo aprendido puedes generar el siguiente documento que contiene información sobre el bloque."
      ]
    },
    {
      "cell_type": "code",
      "metadata": {
        "id": "FY8krHKEFMeo",
        "colab_type": "code",
        "colab": {}
      },
      "source": [
        "print('Caracteristicas del bloque: \\n')\n",
        "print('Hash: {} '.format(bloque['hash']))\n",
        "print('Enumeración: {} '.format(bloque['height']))\n",
        "print('Hash bloque anterior: {} '.format(bloque['prev_block']))\n",
        "print('Número de transacciones: {}'.format(bloque['n_tx']))\n",
        "print('Total bitcoins tansferidos: {}'.format(bloque['total']))\n",
        "a = hex(bloque['bits'])\n",
        "print('Dificualtad del bloque: {}'.format(int(a[4:],16) * 2**(8*(int(a[:4],16) - 3))))\n",
        "print('Nonce del bloque: {}'.format(bloque['nonce']))"
      ],
      "execution_count": null,
      "outputs": []
    },
    {
      "cell_type": "markdown",
      "metadata": {
        "id": "tjH4gS-G9ckn",
        "colab_type": "text"
      },
      "source": [
        "##**Convirtiendo hexadecimal a decimal con Python**\n",
        "\n",
        "Para convertir un número cadena '23abf03' hexadecimal a decimal con Python usamos: `int('23bf03',16)` "
      ]
    },
    {
      "cell_type": "code",
      "metadata": {
        "id": "-VqszhhU96sj",
        "colab_type": "code",
        "colab": {}
      },
      "source": [
        "int('23bf03', 16)"
      ],
      "execution_count": null,
      "outputs": []
    },
    {
      "cell_type": "markdown",
      "metadata": {
        "id": "latthi529_bN",
        "colab_type": "text"
      },
      "source": [
        "Esto quiere decir que el número `2342659` se codifica en hexadecimal como `23bf03`."
      ]
    },
    {
      "cell_type": "markdown",
      "metadata": {
        "id": "FYr6AHOe8Qa0",
        "colab_type": "text"
      },
      "source": [
        "#**Minería**\n",
        "\n",
        "Minar un bloque implica encontrar un número `nonce` tal que el hash del bloque cumpla la prueba de trabajo.\n",
        "\n",
        "##**Prueba de trabajo**\n",
        "\n",
        "Un bloque **cumple la prueba de trabajo** si su hash (visto como un entero) es menor que la **dificultad de establecida por la red** en el momento que el bloque fue minado. Es decir si,\n",
        "\n",
        "$$\\text{Hash del bloque } \\leq \\text{ Dificultad}$$ \n",
        "\n",
        "Detalles dificultad de un bloque: https://en.bitcoin.it/wiki/Difficulty\n",
        "\n",
        "***Tu turno:*** Verifica que el bloque `641085` satisface la prueba de trabajo suponiendo que su hash `0000000000000000000e4ef063d951cc2216789f62f613b0ca4e4b294aa162a1` es correcto. \n"
      ]
    },
    {
      "cell_type": "code",
      "metadata": {
        "id": "rgW0cjH18Lgl",
        "colab_type": "code",
        "colab": {}
      },
      "source": [
        "##******************************Escribe aquí tu código******************************##\n"
      ],
      "execution_count": null,
      "outputs": []
    },
    {
      "cell_type": "markdown",
      "metadata": {
        "id": "JtUjIkhlE6oQ",
        "colab_type": "text"
      },
      "source": [
        "##**La Blockchain**\n",
        "\n",
        "La cadena de bloques o Blockchain es simplemente un archivo conteniendo todos los bloques creados.\n",
        "\n"
      ]
    },
    {
      "cell_type": "code",
      "metadata": {
        "id": "WoyDx-k1SOyb",
        "colab_type": "code",
        "colab": {}
      },
      "source": [
        "import matplotlib.pyplot as plt\n",
        "import pandas as pd"
      ],
      "execution_count": null,
      "outputs": []
    },
    {
      "cell_type": "code",
      "metadata": {
        "id": "buW124bSRqcA",
        "colab_type": "code",
        "colab": {}
      },
      "source": [
        "\n",
        "bc_size = pd.read_csv('https://github.com/garestrear/Curso_de_Python/blob/master/Sesion5/S5_blockchain-size')\n",
        "bc_size['Timestamp'] = pd.to_datetime(bc_size['Timestamp'])\n",
        "bc_size.set_index('Timestamp', inplace=True)\n",
        "#Detalles de como graficar: más adelante.\n",
        "bc_size.plot(figsize = (12,5))\n",
        "plt.ylabel('MB')\n",
        "plt.show()"
      ],
      "execution_count": null,
      "outputs": []
    },
    {
      "cell_type": "markdown",
      "metadata": {
        "id": "j7B7fA3U_GZm",
        "colab_type": "text"
      },
      "source": [
        "#**6. Gráficos de Bitcoin con Pandas**\n",
        "\n",
        "Para leer los datos usaremos la librería `pandas`, en particular la función `read_csv` esta función se usa para leer archivos `.csv`. \n",
        "\n",
        "Los datos usados son extraídos de: \n",
        "1. https://www.blockchain.com/es/charts\n",
        "\n",
        "2. https://www.coindesk.com/price/bitcoin\n"
      ]
    },
    {
      "cell_type": "markdown",
      "metadata": {
        "id": "QZh6IW9K99a1",
        "colab_type": "text"
      },
      "source": [
        "***Tu turno:*** importa la librería pandas"
      ]
    },
    {
      "cell_type": "code",
      "metadata": {
        "id": "4MTQ1IsogAbE",
        "colab_type": "code",
        "colab": {}
      },
      "source": [
        "import pandas as pd"
      ],
      "execution_count": null,
      "outputs": []
    },
    {
      "cell_type": "markdown",
      "metadata": {
        "id": "wgVC-gm_9TtI",
        "colab_type": "text"
      },
      "source": [
        "##**Precio**\n",
        "\n",
        "Importemos la base de datos con la información del precio de bitcoin."
      ]
    },
    {
      "cell_type": "code",
      "metadata": {
        "id": "GI8Wvs5-qoKu",
        "colab_type": "code",
        "colab": {}
      },
      "source": [
        "price = pd.read_csv('https://github.com/garestrear/Curso_de_Python/blob/master/Sesion5/S5_market-price_2013-09-30_2020-08-02-CoinDesk.csv')"
      ],
      "execution_count": null,
      "outputs": []
    },
    {
      "cell_type": "markdown",
      "metadata": {
        "id": "ES3Z4ET5-VOs",
        "colab_type": "text"
      },
      "source": [
        "Para ver las primeras y últimas 5 filas usamos `price.head()` y `price.tail()`. "
      ]
    },
    {
      "cell_type": "code",
      "metadata": {
        "id": "N9pR6lg3-WBa",
        "colab_type": "code",
        "colab": {}
      },
      "source": [
        "price.head()"
      ],
      "execution_count": null,
      "outputs": []
    },
    {
      "cell_type": "code",
      "metadata": {
        "id": "2ictn4F80len",
        "colab_type": "code",
        "colab": {}
      },
      "source": [
        "price.tail()"
      ],
      "execution_count": null,
      "outputs": []
    },
    {
      "cell_type": "markdown",
      "metadata": {
        "id": "__04fdpSzwmY",
        "colab_type": "text"
      },
      "source": [
        "##**Graficando DataFrames usando Matplotlib: forma indirecta**\n",
        "\n",
        "Para graficar una columna del DataFrame `price` podemos simplemente definir los las lista `x` e `y` para luego usar una función de `pyplot`, por ejemplo, `plt.plot(x,y)`. \n",
        "\n",
        "Grafiquemos la columna `24h Open (USD)` del DataFrame `price`:"
      ]
    },
    {
      "cell_type": "code",
      "metadata": {
        "id": "Y-Ut2xZl3HVv",
        "colab_type": "code",
        "colab": {}
      },
      "source": [
        "y = price['24h Open (USD)'].values\n",
        "print(y)\n",
        "x = list(price.index)\n",
        "print(x)"
      ],
      "execution_count": null,
      "outputs": []
    },
    {
      "cell_type": "code",
      "metadata": {
        "id": "l2pu-uFl4bCi",
        "colab_type": "code",
        "colab": {}
      },
      "source": [
        "plt.plot(x,y)\n",
        "plt.show()"
      ],
      "execution_count": null,
      "outputs": []
    },
    {
      "cell_type": "markdown",
      "metadata": {
        "id": "pmI221XKAC1U",
        "colab_type": "text"
      },
      "source": [
        "##**Forma directa** \n",
        "\n",
        "Podemos graficar directamente la columna llamada `col` de un DataFrame `df` usando el código `df['col'].plt()`."
      ]
    },
    {
      "cell_type": "code",
      "metadata": {
        "id": "-KXv8eKsO682",
        "colab_type": "code",
        "colab": {}
      },
      "source": [
        "#Grafica la columna '24h Open (USD)' del DataFrame price\n",
        "price['24h Open (USD)'].plot()\n",
        "plt.show()"
      ],
      "execution_count": null,
      "outputs": []
    },
    {
      "cell_type": "markdown",
      "metadata": {
        "id": "nrhlgKr1PMXH",
        "colab_type": "text"
      },
      "source": [
        "***Tu turno:*** Grafica cualquier otra columnda del DataFrame `price`. Intenta cambiar el color, intensidad del color y tamaño de la figura.\n",
        "\n",
        "**Ayuda:** Para ver el nombre de las columnas ejecuta:  `price.columns`."
      ]
    },
    {
      "cell_type": "code",
      "metadata": {
        "id": "a-f761IOP3LZ",
        "colab_type": "code",
        "colab": {}
      },
      "source": [
        "#********************Escribe tu código aquí********************#\n"
      ],
      "execution_count": null,
      "outputs": []
    },
    {
      "cell_type": "markdown",
      "metadata": {
        "id": "E3uEdKOa5BNg",
        "colab_type": "text"
      },
      "source": [
        "**Reto (Comparte tu solución en el foro):** Usar la base de datos `price` para construir el gráfico (diario) de **velas japonesas** de Bitcoin. "
      ]
    },
    {
      "cell_type": "code",
      "metadata": {
        "id": "yTfUGz_bAYqx",
        "colab_type": "code",
        "colab": {}
      },
      "source": [
        "price.head()"
      ],
      "execution_count": null,
      "outputs": []
    },
    {
      "cell_type": "markdown",
      "metadata": {
        "id": "5jvsrDDjBdNl",
        "colab_type": "text"
      },
      "source": [
        "###**Índice vs Columna**"
      ]
    },
    {
      "cell_type": "code",
      "metadata": {
        "id": "pauNHq3qP4Gy",
        "colab_type": "code",
        "colab": {}
      },
      "source": [
        "fig = plt.figure(figsize=(15,10))\n",
        "price['24h Low (USD)'].plot(color = [[0.2,0.1,0.5]], label ='Precio mínimo')\n",
        "plt.ylabel('USD', fontsize=16)\n",
        "plt.legend()\n",
        "plt.show()"
      ],
      "execution_count": null,
      "outputs": []
    },
    {
      "cell_type": "markdown",
      "metadata": {
        "id": "c_xID2rQFEfb",
        "colab_type": "text"
      },
      "source": [
        "Para graficar desde la fila `a` hasta la fila `b` usamos `price['24h High (USD)'][a:b]`"
      ]
    },
    {
      "cell_type": "code",
      "metadata": {
        "id": "UN1107F6_lYY",
        "colab_type": "code",
        "colab": {}
      },
      "source": [
        "#Graficamos desde la fila 20 hasta la 200\n",
        "figu = plt.figure(figsize=(10,7))\n",
        "price['24h High (USD)'][20:200].plot(color ='blue',  label ='Hey')\n",
        "plt.show()"
      ],
      "execution_count": null,
      "outputs": []
    },
    {
      "cell_type": "markdown",
      "metadata": {
        "id": "w7f8hAR_BxNY",
        "colab_type": "text"
      },
      "source": [
        "##**Datetime como índice**\n",
        "\n",
        "Ahora veremos lo ventajoso que puede ser tener un objeto de tiempo como nuetro índice.\n",
        "\n",
        "Convirtamos la columna `'Date'` a nuestro índice"
      ]
    },
    {
      "cell_type": "code",
      "metadata": {
        "id": "BvLloe3-Cjci",
        "colab_type": "code",
        "colab": {}
      },
      "source": [
        "price.index = price['Date']\n",
        "price.head()"
      ],
      "execution_count": null,
      "outputs": []
    },
    {
      "cell_type": "markdown",
      "metadata": {
        "id": "5RVXliODMqCe",
        "colab_type": "text"
      },
      "source": [
        "En la siguiente celda se define la columan de índices como un objeto de tiempo `datetime`"
      ]
    },
    {
      "cell_type": "code",
      "metadata": {
        "id": "oTf20RppGiTo",
        "colab_type": "code",
        "colab": {}
      },
      "source": [
        "price.index = pd.to_datetime(price.index)"
      ],
      "execution_count": null,
      "outputs": []
    },
    {
      "cell_type": "markdown",
      "metadata": {
        "id": "KrpYGXG9Dq-Q",
        "colab_type": "text"
      },
      "source": [
        "Ahora podemos obtener gráficas del precio en el tiempo que queramos.\n",
        "\n",
        "Por ejemplo: \n",
        "1. `price['Closing Price (USD)']['2019-6':'2020-3'].plot()` muestra  la gráfica de  `'Closing Price (USD)'` desde `2019-6` (junio de 2019) hasta `2020-03` (marzo de 2020). \n",
        "\n",
        "2. `price['Closing Price (USD)']['2018'].plot()` muestra la gráfica del precio en 2018."
      ]
    },
    {
      "cell_type": "code",
      "metadata": {
        "id": "DVTCHBYBEjFf",
        "colab_type": "code",
        "colab": {}
      },
      "source": [
        "plt.figure(figsize=(10,6))\n",
        "price['Closing Price (USD)']['2019-6':'2020-3'].plot(color='k', alpha = 0.5)\n",
        "#price['Closing Price (USD)']['2018'].plot(color='purple', alpha = 0.8)\n",
        "plt.ylabel('USD')\n",
        "plt.show()"
      ],
      "execution_count": null,
      "outputs": []
    },
    {
      "cell_type": "markdown",
      "metadata": {
        "id": "8lMgHX0rNSG_",
        "colab_type": "text"
      },
      "source": [
        "Gráfico del precio de cierre de Bitcoin en marzo de 2018."
      ]
    },
    {
      "cell_type": "code",
      "metadata": {
        "id": "Ytbl1N7wFVx_",
        "colab_type": "code",
        "colab": {}
      },
      "source": [
        "plt.figure(figsize=(10,6))\n",
        "price['Closing Price (USD)']['2018-3'].plot()\n",
        "plt.show()"
      ],
      "execution_count": null,
      "outputs": []
    },
    {
      "cell_type": "markdown",
      "metadata": {
        "id": "2ta-0P6WxoFU",
        "colab_type": "text"
      },
      "source": [
        "##**Arreglo de gráficas con datos desde un DataFrame**\n",
        "\n",
        "Hay dos maneras directas de construir un arreglo de gráficas desde  un data frame:\n",
        "\n",
        "**La primera:**"
      ]
    },
    {
      "cell_type": "code",
      "metadata": {
        "id": "wqj5WCuvQO-h",
        "colab_type": "code",
        "colab": {}
      },
      "source": [
        "fig, ax = plt.subplots(2,2, figsize=(18,12), sharey=True)\n",
        "#Precio 2017\n",
        "ax[0,0].plot(price['Closing Price (USD)']['2017'], color = 'blue')\n",
        "ax[0,0].set_title('Price 2017' )\n",
        "ax[0,0].set_xticklabels(['Ene', 'Mar', 'May',  'Jul','Sep',  'Nov', 'Ene'])\n",
        "#precio 2018\n",
        "ax[0,1].plot(price['Closing Price (USD)']['2018'], color = 'green')\n",
        "ax[0,1].set_title('Price 2018' )\n",
        "ax[0,1].set_xticklabels(['Ene', 'Mar', 'May',  'Jul','Sep',  'Nov', 'Ene'])\n",
        "#precio 2019\n",
        "ax[1,0].plot(price['Closing Price (USD)']['2019'], color = 'black')\n",
        "ax[1,0].set_title('Price 2019' )\n",
        "ax[1,0].set_xticklabels(['Ene', 'Mar', 'May',  'Jul','Sep',  'Nov', 'Ene'])\n",
        "#precio 2020\n",
        "ax[1,1].plot(price['Closing Price (USD)']['2020'], color = 'purple')\n",
        "ax[1,1].set_title('Price 2020' )\n",
        "plt.show()"
      ],
      "execution_count": null,
      "outputs": []
    },
    {
      "cell_type": "markdown",
      "metadata": {
        "id": "xlTCfwAxx6N2",
        "colab_type": "text"
      },
      "source": [
        "**La segunda:**"
      ]
    },
    {
      "cell_type": "code",
      "metadata": {
        "id": "Ae_GmP9jx9Vk",
        "colab_type": "code",
        "colab": {}
      },
      "source": [
        "fig, ax = plt.subplots(2,2, figsize=(18,12), sharey=True)\n",
        "#Precio 2014\n",
        "price['Closing Price (USD)']['2017'].plot(color ='blue', ax = ax[0,0])\n",
        "price['Closing Price (USD)']['2018'].plot(color ='green', ax = ax[0,1])\n",
        "price['Closing Price (USD)']['2019'].plot(color ='black', ax = ax[1,0])\n",
        "price['Closing Price (USD)']['2020'].plot(color ='purple', ax = ax[1,1])\n",
        "plt.show()"
      ],
      "execution_count": null,
      "outputs": []
    },
    {
      "cell_type": "markdown",
      "metadata": {
        "id": "qe0OqwBU3VjS",
        "colab_type": "text"
      },
      "source": [
        "##**Mempool**\n",
        "\n",
        "La **mempool** es el lugar donde todas las transacciones válidas esperan para ser confirmadas. Cada minero de la red de Bitcoin tiene una mempool.  \n",
        "\n",
        "Veamos gráficamente su importancia.\n"
      ]
    },
    {
      "cell_type": "code",
      "metadata": {
        "id": "OX3V9k9Q3XSA",
        "colab_type": "code",
        "colab": {}
      },
      "source": [
        "mem = pd.read_csv('https://github.com/garestrear/Curso_de_Python/blob/master/Sesion5/S5_mempool-count')\n",
        "mem.head()"
      ],
      "execution_count": null,
      "outputs": []
    },
    {
      "cell_type": "code",
      "metadata": {
        "id": "E740m4Rt7wCm",
        "colab_type": "code",
        "colab": {}
      },
      "source": [
        "mem['Timestamp'] = pd.to_datetime(mem['Timestamp'])\n",
        "mem.set_index('Timestamp', inplace=True)\n",
        "mem.head()"
      ],
      "execution_count": null,
      "outputs": []
    },
    {
      "cell_type": "markdown",
      "metadata": {
        "id": "IhNzXNrL_RYP",
        "colab_type": "text"
      },
      "source": [
        "##**Número de hashes por segundo (Hash Rate)**\n",
        "\n",
        "Data continene el número diario estimado de terahashes por segundo en la red Bitcoin."
      ]
    },
    {
      "cell_type": "code",
      "metadata": {
        "id": "FER5vnaV_qgB",
        "colab_type": "code",
        "colab": {}
      },
      "source": [
        "hash_rate = pd.read_csv('https://github.com/garestrear/Curso_de_Python/blob/master/Sesion5/S5_hash-rate')\n",
        "hash_rate['Timestamp'] =pd.to_datetime(hash_rate['Timestamp'])\n",
        "hash_rate.set_index('Timestamp', inplace=True)\n",
        "hash_rate.head()"
      ],
      "execution_count": null,
      "outputs": []
    },
    {
      "cell_type": "markdown",
      "metadata": {
        "id": "czvw6pnZg3SE",
        "colab_type": "text"
      },
      "source": [
        "##**Costo de comisión (promedio) de una transacción**\n",
        "\n",
        "Valor de comsión en dólares a pagar en promedio por una transacción"
      ]
    },
    {
      "cell_type": "code",
      "metadata": {
        "id": "3jL8c6v3AtzS",
        "colab_type": "code",
        "colab": {}
      },
      "source": [
        "fee_per_tran = pd.read_csv('https://github.com/garestrear/Curso_de_Python/blob/master/Sesion5/S5_fees-usd-per-transaction')\n",
        "fee_per_tran['Timestamp'] = pd.to_datetime(fee_per_tran['Timestamp'])\n",
        "fee_per_tran.set_index('Timestamp', inplace=True)\n",
        "fee_per_tran.head()"
      ],
      "execution_count": null,
      "outputs": []
    },
    {
      "cell_type": "markdown",
      "metadata": {
        "id": "jeideGLIf2Ii",
        "colab_type": "text"
      },
      "source": [
        "##**Tiempo promedio de confirmación de una transacción**\n",
        "\n",
        "Es el tiempo promedio que tarda una transacción en ser incluida en un bloque."
      ]
    },
    {
      "cell_type": "code",
      "metadata": {
        "id": "hw_w5-ttfzZp",
        "colab_type": "code",
        "colab": {}
      },
      "source": [
        "time_con_tran = pd.read_csv('https://github.com/garestrear/Curso_de_Python/blob/master/Sesion5/S5_median-confirmation-time')\n",
        "time_con_tran['Timestamp'] = pd.to_datetime(time_con_tran['Timestamp'])\n",
        "time_con_tran.set_index('Timestamp', inplace=True)\n",
        "time_con_tran.head()"
      ],
      "execution_count": null,
      "outputs": []
    },
    {
      "cell_type": "code",
      "metadata": {
        "id": "1CQQXerGLrs7",
        "colab_type": "code",
        "colab": {}
      },
      "source": [
        "fig, axs = plt.subplots(2,2, figsize = (18,9))\n",
        "mem['2017':'2018-6'].plot(ax = axs[0,0])\n",
        "axs[0,0].set_ylabel('Número de transacciones')\n",
        "axs[0,0].set_xlabel('')\n",
        "axs[0,0].set_title('Tamaño mempool')\n",
        "\n",
        "hash_rate['2017':'2018-6'].plot(ax = axs[0,1])\n",
        "axs[0,1].set_ylabel('Terahashes por segundo')\n",
        "axs[0,1].set_xlabel('')\n",
        "axs[0,1].set_title('Tasa de hashes')\n",
        "\n",
        "fee_per_tran['2017':'2018-6'].plot(ax = axs[1,0])\n",
        "axs[1,0].set_ylabel('USD')\n",
        "axs[1,0].set_xlabel('')\n",
        "axs[1,0].set_title('Precio promedio de transacciones')\n",
        "\n",
        "time_con_tran['2017':'2018-6'].plot(ax = axs[1,1])\n",
        "axs[1,1].set_ylabel('USD')\n",
        "axs[1,1].set_xlabel('')\n",
        "axs[1,1].set_title('Tiempo medio de confirmación')\n",
        "plt.show()"
      ],
      "execution_count": null,
      "outputs": []
    },
    {
      "cell_type": "markdown",
      "metadata": {
        "id": "gGZS10zbk0NV",
        "colab_type": "text"
      },
      "source": [
        "## **Mapa de correlaciones** "
      ]
    },
    {
      "cell_type": "code",
      "metadata": {
        "id": "cF3jTqYImbq4",
        "colab_type": "code",
        "colab": {}
      },
      "source": [
        "print((mem.index.min(),mem.index.max()))\n",
        "print((hash_rate.index.min(),hash_rate.index.max()))\n",
        "print((fee_per_tran.index.min(),fee_per_tran.index.max()))\n",
        "print((time_con_tran.index.min(),time_con_tran.index.max()))"
      ],
      "execution_count": null,
      "outputs": []
    },
    {
      "cell_type": "code",
      "metadata": {
        "id": "Sk89R6nSmChZ",
        "colab_type": "code",
        "colab": {}
      },
      "source": [
        "data_1 = mem.merge(hash_rate, how='inner', left_index=True, right_index=True)\n",
        "data_1.head()"
      ],
      "execution_count": null,
      "outputs": []
    },
    {
      "cell_type": "code",
      "metadata": {
        "id": "tPcgM5DTybZM",
        "colab_type": "code",
        "colab": {}
      },
      "source": [
        "import seaborn as sn\n",
        "import matplotlib.pyplot as plt"
      ],
      "execution_count": null,
      "outputs": []
    },
    {
      "cell_type": "code",
      "metadata": {
        "id": "Os8tesDwRMsU",
        "colab_type": "code",
        "colab": {}
      },
      "source": [
        "m_corr = data_1.corr() \n",
        "\n",
        "sn.heatmap(m_corr, annot=True)\n",
        "plt.show()"
      ],
      "execution_count": null,
      "outputs": []
    },
    {
      "cell_type": "markdown",
      "metadata": {
        "id": "4NSHGp2Vj7xE",
        "colab_type": "text"
      },
      "source": [
        "##**¿Existe correlación entre el volumen de transacciones y el precio de Bitcoin?**"
      ]
    },
    {
      "cell_type": "code",
      "metadata": {
        "id": "jhiAT4hFkNnM",
        "colab_type": "code",
        "colab": {}
      },
      "source": [
        "trade_vol = pd.read_csv('https://github.com/garestrear/Curso_de_Python/blob/master/Sesion5/S5_trade-volume')\n",
        "trade_vol ['Timestamp'] = pd.to_datetime(trade_vol ['Timestamp'])\n",
        "trade_vol.set_index('Timestamp', inplace=True)\n",
        "trade_vol.head()"
      ],
      "execution_count": null,
      "outputs": []
    },
    {
      "cell_type": "code",
      "metadata": {
        "id": "8rtKVeYISllk",
        "colab_type": "code",
        "colab": {}
      },
      "source": [
        "trade_vol['2017':'2020'].plot(figsize=(16,6))\n",
        "plt.ylabel('USD')\n",
        "plt.show()"
      ],
      "execution_count": null,
      "outputs": []
    },
    {
      "cell_type": "code",
      "metadata": {
        "id": "UXj_Z3d-Soic",
        "colab_type": "code",
        "colab": {}
      },
      "source": [
        "data_2 = price[['Closing Price (USD)']].merge(trade_vol, how='inner', left_index=True, right_index=True)\n",
        "data_2.head()"
      ],
      "execution_count": null,
      "outputs": []
    },
    {
      "cell_type": "code",
      "metadata": {
        "id": "wlIj7DOtxUbr",
        "colab_type": "code",
        "colab": {}
      },
      "source": [
        "m_corr = data_2.corr() \n",
        "sn.heatmap(m_corr, annot=True)\n",
        "plt.show()"
      ],
      "execution_count": null,
      "outputs": []
    }
  ]
}