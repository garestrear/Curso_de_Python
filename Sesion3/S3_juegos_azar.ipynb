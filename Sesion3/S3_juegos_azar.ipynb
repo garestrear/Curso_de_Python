{
  "nbformat": 4,
  "nbformat_minor": 0,
  "metadata": {
    "colab": {
      "name": "S3_juegos_azar.ipynb",
      "provenance": [],
      "collapsed_sections": [],
      "include_colab_link": true
    },
    "kernelspec": {
      "name": "python3",
      "display_name": "Python 3"
    }
  },
  "cells": [
    {
      "cell_type": "markdown",
      "metadata": {
        "id": "view-in-github",
        "colab_type": "text"
      },
      "source": [
        "<a href=\"https://colab.research.google.com/github/garestrear/Curso_de_Python/blob/master/Sesion3/S3_juegos_azar.ipynb\" target=\"_parent\"><img src=\"https://colab.research.google.com/assets/colab-badge.svg\" alt=\"Open In Colab\"/></a>"
      ]
    },
    {
      "cell_type": "markdown",
      "metadata": {
        "id": "GyjrGNHgRKCo",
        "colab_type": "text"
      },
      "source": [
        "\n",
        "<center> <img src=\"https://raw.githubusercontent.com/garestrear/Curso_de_Python/master/Sesion3/S3_Azar.jpeg\" width=\"800\" height=\"400\" align=\"center\"/></center>\n",
        "\n",
        "Bienvenidos a la sesión 3 \"Python y Juegos de Azar\" de nuestro curso Python para todos. Primero comenzemos con un juego."
      ]
    },
    {
      "cell_type": "code",
      "metadata": {
        "id": "ZNWcMB876GNR",
        "colab_type": "code",
        "cellView": "form",
        "colab": {}
      },
      "source": [
        "#@title Juguemos al BlackJack\n",
        "import random \n",
        "\n",
        "palos = ('♠', '♡', '♢', '♣')\n",
        "valores = ('2', '3', '4', '5', '6', '7', '8', '9', '10', 'J', 'Q', 'K', 'A')\n",
        "values = {'2':2, '3':3, '4':4, '5':5, '6':6, '7':7, '8':8, '9':9, '10':10, 'J':10,\n",
        "         'Q':10, 'K':10, 'A':11}\n",
        "\n",
        "playing = True\n",
        "a=None\n",
        "\n",
        "#creating car class#\n",
        "\n",
        "class Carta:\n",
        "    \n",
        "    def __init__(self, palo, valor):\n",
        "        self.palo = palo\n",
        "        self.valor = valor\n",
        "    \n",
        "    def __str__(self):\n",
        "        return self.valor + ' de ' + self.palo\n",
        "\n",
        "#Creando una baraja vacía y barajar\n",
        "\n",
        "class Baraja:\n",
        "    \n",
        "    def __init__(self):\n",
        "        self.baraja = []  # comenzar con una lista vacía\n",
        "        for palo in palos:\n",
        "            for valor in valores:\n",
        "                self.baraja.append(Carta(palo, valor))\n",
        "    \n",
        "    def __str__(self):\n",
        "        baraja_comp = '' #Comenzando una baraja vacía\n",
        "        for carta in self.baraja:\n",
        "            baraja_comp += '\\n' + carta.__str__() \n",
        "        return 'La baraja tiene' + baraja_comp\n",
        "    \n",
        "    def shuffle(self):\n",
        "        random.shuffle(self.baraja)\n",
        "        \n",
        "    def deal(self):\n",
        "        single_carta = self.baraja.pop()\n",
        "        return single_carta\n",
        "\n",
        "#Creando una mano\n",
        "\n",
        "class Mano:\n",
        "    def __init__(self):\n",
        "        self.cartas = []  # Aquí se define una lista vacia\n",
        "        self.value = 0   # Empezamos con el valor cero\n",
        "        self.aces = 0    \n",
        "    \n",
        "    def add_carta(self,carta):\n",
        "        self.cartas.append(carta)\n",
        "        self.value += values[carta.valor]\n",
        "        if carta.valor == 'Ace':\n",
        "            self.aces = self.aces + 1\n",
        "    \n",
        "    def adjust_for_ace(self):\n",
        "        while self.value > 21 and self.aces:\n",
        "            self.value = self.value - 10\n",
        "            self.aces = self.aces - 1\n",
        "            \n",
        "#Creando el saldo para el jugador            \n",
        "\n",
        "class Chips:\n",
        "    \n",
        "    def __init__(self):\n",
        "        self.total = 100  # Esto puede ser fijo o puede ser cambiado por el usuario \n",
        "        self.apuesta = 0\n",
        "        if a==-1:\n",
        "            self.total=jugador_chips.total        \n",
        "        \n",
        "    def win_apuesta(self):\n",
        "        self.total =self.total + self.apuesta\n",
        "    \n",
        "    def lose_apuesta(self):\n",
        "        self.total = self.total - self.apuesta\n",
        "        \n",
        "       \n",
        "#Haciendo apuestas\n",
        "\n",
        "def take_apuesta(chips):\n",
        "    while True:\n",
        "        try:\n",
        "            chips.apuesta = int(input('¿Cuánto te gustaría apostar?  '))\n",
        "        except ValueError:\n",
        "            print(\"Lo siento, la apuesta tiene que ser un número entero!\")\n",
        "        else:\n",
        "            if chips.apuesta > chips.total:\n",
        "                print('Lo siento, tu apuesta no puede exceder ',jugador_chips.total)\n",
        "            else:\n",
        "                break      \n",
        "\n",
        "# tomando cartas\n",
        "\n",
        "def hit(baraja,mano):\n",
        "    mano.add_carta(baraja.deal())\n",
        "    mano.adjust_for_ace()\n",
        "\n",
        "#Que el jugador pida una carta o no\n",
        "\n",
        "def cartanueva(baraja,mano):\n",
        "    global playing\n",
        "    \n",
        "    while True:\n",
        "        x = input(\"¿Quieres una carta más? (Responde 's' or 'n')  \")\n",
        "        \n",
        "        if x[0].lower() == 's':\n",
        "            hit(baraja,mano)  # hit la función que te da una carta más\n",
        "    \n",
        "        elif x[0].lower() == 'n':\n",
        "            print(\"El jugador se para. El Dealer está jugando.\")\n",
        "            playing = False\n",
        "\n",
        "        else:\n",
        "            print(\"Lo siento. Intenta de nuevo.\")\n",
        "            continue\n",
        "        break\n",
        "\n",
        "#funciones para mostrar las cartas\n",
        "\n",
        "def show_some(jugador,dealer):\n",
        "    print(\"\\nMano del Dealer\")\n",
        "    print(\"<carta oculta>\")\n",
        "    print(dealer.cartas[1])\n",
        "    print(\"\\nMano del jugador: \", *jugador.cartas, sep= '\\n')\n",
        "\n",
        "        \n",
        "def show_all(jugador,dealer):\n",
        "    print(\"\\n----------------------------------------------------------------------------\")\n",
        "    print(\"\\nMano del Dealer:\", *dealer.cartas, sep=\"\\n\")\n",
        "    print(\"Suma en la mano del Dealer =\",dealer.value)\n",
        "    print(\"\\nMano del jugador: \", *jugador.cartas, sep= '\\n')\n",
        "    print(\"Suma en la mano del jugador = \", jugador.value)\n",
        "\n",
        "#funciones para manejar los diferentes escenarios\n",
        "\n",
        "def jugador_pierde(jugador,dealer,chips):\n",
        "    print(\"El jugador pierde! :(\")\n",
        "    chips.lose_apuesta()\n",
        "\n",
        "def jugador_gana(jugador,dealer,chips):\n",
        "    print(\"El jugador gana! :)\")\n",
        "    chips.win_apuesta()\n",
        "    \n",
        "def dealer_pierde(jugador,dealer,chips):\n",
        "    print(\"Dealer derrotado!\")\n",
        "    chips.win_apuesta()\n",
        "    \n",
        "def dealer_gana(jugador,dealer,chips):\n",
        "    print(\"Dealer gana!\")\n",
        "    chips.lose_apuesta()\n",
        "    \n",
        "def empate(jugador,dealer):\n",
        "    print(\"Dealer y jugador empatan!\")    \n",
        "\n",
        "#Ahora para el juego\n",
        "while True:    \n",
        "    \n",
        "    # crear y barajar la baraja, dar dos cartas a cada jugador\n",
        "    baraja = Baraja()\n",
        "    baraja.shuffle()\n",
        "    \n",
        "    jugador_mano = Mano()\n",
        "    jugador_mano.add_carta(baraja.deal())\n",
        "    jugador_mano.add_carta(baraja.deal())\n",
        "    \n",
        "    dealer_mano = Mano()\n",
        "    dealer_mano.add_carta(baraja.deal())\n",
        "    dealer_mano.add_carta(baraja.deal())\n",
        "    \n",
        "    # Arregla el saldo del jugador\n",
        "    jugador_chips = Chips()\n",
        "        \n",
        "    # Print saludo inicial\n",
        "    print('----------------------------------------------------------------------------------------------------------------------------')\n",
        "    print(\"Bienvenido a Jackblack. Juega con un monto inicial de \", jugador_chips.total)\n",
        "    print('----------------------------------------------------------------------------------------------------------------------------')\n",
        " \n",
        "    \n",
        "    # Solicita al jugador su apuesta\n",
        "    take_apuesta(jugador_chips)\n",
        "    \n",
        "   \n",
        "    # Muestra las cartas (menos la oculta del Dealer)\n",
        "    show_some(jugador_mano, dealer_mano)\n",
        "    \n",
        "    while playing:  # recall this variable from our cartanueva function\n",
        "        \n",
        "        # Preguntar al jugador si quiere una carta más o no\n",
        "        cartanueva(baraja, jugador_mano)\n",
        "        \n",
        "        # Muestra las cartas (menos la oculta del Dealer) \n",
        "        show_some(jugador_mano,dealer_mano) \n",
        "        \n",
        "        # Si la mano del jugador es más de 21, corre jugador_busts() and salimos con Break del while\n",
        "        if jugador_mano.value >21:\n",
        "            jugador_pierde(jugador_mano, dealer_mano, jugador_chips)\n",
        "\n",
        "            break\n",
        "\n",
        "    # Si el jugador no ha sido eliminado, el dealer juga su mano hasta que llegue a 17\n",
        "    if jugador_mano.value <= 21:\n",
        "        \n",
        "        while dealer_mano.value <17:\n",
        "            hit(baraja, dealer_mano)\n",
        "    \n",
        "        # mostrar todas las cartas\n",
        "        show_all(jugador_mano,dealer_mano)\n",
        "        \n",
        "        # Diferentes escenarios para ganar\n",
        "        if dealer_mano.value > 21:\n",
        "            dealer_pierde(jugador_mano,dealer_mano,jugador_chips)\n",
        "\n",
        "        elif dealer_mano.value > jugador_mano.value:\n",
        "            dealer_gana(jugador_mano,dealer_mano,jugador_chips)\n",
        "\n",
        "        elif dealer_mano.value < jugador_mano.value:\n",
        "            jugador_gana(jugador_mano,dealer_mano,jugador_chips)\n",
        "            \n",
        "        else:\n",
        "            empate(jugador_mano,dealer_mano)\n",
        "        \n",
        "    \n",
        "    # Aquí se imprime el saldo final\n",
        "    print(\"\\nEl saldo final del jugador es = \", jugador_chips.total)\n",
        "    \n",
        "    # Preguntar si quiere jugar de nuevo\n",
        "    new_game = input(\"¿Te gustaría jugar de nuevo?(Responder 's' o 'n')  \")\n",
        "    if new_game[0].lower() == 's':\n",
        "        playing = True\n",
        "        a=-1\n",
        "        continue\n",
        "    else:\n",
        "        print('Gracias por jugar! \\nVuelve pronto')\n",
        "\n",
        "        break"
      ],
      "execution_count": null,
      "outputs": []
    },
    {
      "cell_type": "markdown",
      "metadata": {
        "id": "B3jgzWjh1uua",
        "colab_type": "text"
      },
      "source": [
        "El módulo **random** es una librería de Python que contiene funciones para generar números aleatorios. Para acceder a él se debe cargar al programa con la instrucción **import**. \n",
        "\n",
        "Comenzaremos con un pequeño juego, trata de adivinar el número ejecutando la siguiente celda."
      ]
    },
    {
      "cell_type": "code",
      "metadata": {
        "id": "CRA65Dvr3Ki3",
        "colab_type": "code",
        "cellView": "form",
        "colab": {}
      },
      "source": [
        "#@title Adivina el número\n",
        "#Adivina el número\n",
        "import random\n",
        "minumero=random.randint(1,10)\n",
        "print(\"Adivina el número que estoy pensando\")\n",
        "print(\"Pista: es un número del 1 al 10\")\n",
        "numero= int(input(\"Dame un número: \"))\n",
        "if minumero==numero:\n",
        "    print(\"Muy bien, adivinanste mi número\")\n",
        "else:\n",
        "    print(\"Lo siento, ese no es mi número. Mi número es: \", minumero)\n",
        "    print(\"Gracias por participar!!!\")\n"
      ],
      "execution_count": null,
      "outputs": []
    },
    {
      "cell_type": "markdown",
      "metadata": {
        "id": "FdCzpn2QwQL5",
        "colab_type": "text"
      },
      "source": [
        "<center> <img src=\"https://storage.needpix.com/rsynced_images/wynn-casino-1182164_1280.jpg\" width=\"600\" height=\"300\" align=\"center\"/></center>\n",
        "\n",
        "\n",
        "**IMPORTANTE:** Necesitaremos la siguiente libreria, asegurate de ejecutar el siguiente bloque antes de continuar."
      ]
    },
    {
      "cell_type": "code",
      "metadata": {
        "id": "9Am-YrswvhC0",
        "colab_type": "code",
        "colab": {}
      },
      "source": [
        "# CUADRO 1: Importando librerías\n",
        "import random     "
      ],
      "execution_count": null,
      "outputs": []
    },
    {
      "cell_type": "markdown",
      "metadata": {
        "id": "cQ_l1Es0PnUJ",
        "colab_type": "text"
      },
      "source": [
        "El primer comando de la librería *random* que aprenderemos será **randint(a,b)**, el cual nos dará un entero al azar entre los números **a** y **b** (incluye al número **a** y al **b**).\n",
        "\n",
        "A continuación, vamos a generar *n* números al azar entre el 1 y el 6, que sería como tirar un dado *n* veces. Ejecuta la celda de código, introduce el número *n* que desees y observa el resultado.\n",
        "\n",
        "\n",
        "\n"
      ]
    },
    {
      "cell_type": "code",
      "metadata": {
        "id": "JKXatO8w1Hv3",
        "colab_type": "code",
        "colab": {}
      },
      "source": [
        "# CUADRO 2: Simular lanzamientos de dados\n",
        "\n",
        "i=1\t\t\t\t\t\t\t\t\t\t\t\t\t\t\t\t\t\t\t\t\t# Indice, lo usamos para contar\n",
        "lanzamientos=int(input(\"Lanzamientos: \"))   # input() nos permite introducir instrucciones\n",
        "while i<=lanzamientos:\t\t\t\t\t\t\t\t\t\t\t# El ciclo se ejecuta hasta \"i>lanzamientos\"\n",
        "    \tprint(random.randint(1,6))\t\t\t\t\t\t# Imprimimos el número generado al azar\n",
        "    \ti=i+1     "
      ],
      "execution_count": null,
      "outputs": []
    },
    {
      "cell_type": "markdown",
      "metadata": {
        "id": "LvKzACrYXeh4",
        "colab_type": "text"
      },
      "source": [
        "**EJERCICIO 1:**  "
      ]
    },
    {
      "cell_type": "code",
      "metadata": {
        "id": "hW7epgLgYopp",
        "colab_type": "code",
        "colab": {}
      },
      "source": [
        "# Modifica el siguiente programa para que simule lanzar dados y se detenga \n",
        "# hasta que aparezca el número que tu desees.\n",
        "\n",
        "deseado=int(input(\"_________?\"))      #<--  Aquí va el texto que aparece cuando el programa te pida un \"input\"\n",
        "dado=-1                                   #<------  No te preocupes, este índice aparece para que al inicio ningún dado sea igual al que darás en input()\n",
        "            \n",
        "while _____!=_____:               # ¿Que variables compararás?\n",
        "  _____=random.randint(____,6)\n",
        "  print(_____)                    # Que imprima el número que se generó en ese intento"
      ],
      "execution_count": null,
      "outputs": []
    },
    {
      "cell_type": "markdown",
      "metadata": {
        "id": "NR4pkTSg4TW9",
        "colab_type": "text"
      },
      "source": [
        "El siguiente comando es para seleccionar elementos al azar de una lista, **random.choice(lista)**. la lista puede ser de números ( **[1,2,3,7,8]** ) o cadenas ( **[\"Anel\", \"Max\", \"Estudiantes\", \"Duquehp\"]** ) o combinaciones de ellosñ'. Todos los elementos de la lista tienen la misma probabilidad de ser seleccionados, esa probabilidad es 1/n, donde \"n\" es el número de elementos. \n",
        "\n",
        "\n"
      ]
    },
    {
      "cell_type": "code",
      "metadata": {
        "id": "LYjdQTLd4Y4e",
        "colab_type": "code",
        "colab": {}
      },
      "source": [
        "# CUADRO 3: Seleccionando 1 elemento de una lista\n",
        "\n",
        "nums=[1,2,3,4,5,6,7]\n",
        "premios=[\"perro\",\"gato\",\"gallina\",\"carro\"]     \n",
        "\n",
        "print(random.choice(nums))                # Imprime el elemento seleccionado de la lista \"nums\"\n",
        "print(random.choice(premios))             # Lo mismo pero para la lista \"premios\""
      ],
      "execution_count": null,
      "outputs": []
    },
    {
      "cell_type": "markdown",
      "metadata": {
        "id": "RK7fpUgOZd36",
        "colab_type": "text"
      },
      "source": [
        "Ahora, ¿ has escuchado hablar de los dados cargados? ¿O alguna otra trampa en los juegos?\n",
        "\n",
        "En el ejemplo anterior todos los elementos tenian la misma probabilidad de ser escogidos, pero con el siguiente comando podemos darle mas posibilidad de aparecer a algunos elementos de la lista. El comando es **random.choices(elementos, pesos=None, k=1)** donde **elementos** es la lista de la que escogeremos, **pesos** son los pesos (a veces probabilidades, que es cuando al sumar los pesos el resultado es 1) que le daremos a cada elemento de la lista y **k** es cuantas veces queremos que simule escoger un elemento de la lista."
      ]
    },
    {
      "cell_type": "code",
      "metadata": {
        "id": "LeIt26jQi9XZ",
        "colab_type": "code",
        "colab": {}
      },
      "source": [
        "# CUADRO 4: Dado cargado\n",
        "# Este es un dado cargado, en el que es mucho mas probable que nos aparezca el número 1.\n",
        "\n",
        "dado=[1,2,3,4,5,6]            \n",
        "cargas=[5,1,1,1,1,1]               # El 1 aparecerá 5 de cada 10 veces y el 2 aparecerá 1 de cada 10 veces, al igual que el 3, 4, 5 y el 6\n",
        "                                   \n",
        "random.choices(dado,cargas, k=7)          # Simula escoger 7 veces, es decir, lanzar 7 dados"
      ],
      "execution_count": null,
      "outputs": []
    },
    {
      "cell_type": "markdown",
      "metadata": {
        "id": "TAnt8gFQFyMv",
        "colab_type": "text"
      },
      "source": [
        "**EJERCICIO 2:**"
      ]
    },
    {
      "cell_type": "code",
      "metadata": {
        "id": "jnQf_SLHZgRH",
        "colab_type": "code",
        "colab": {}
      },
      "source": [
        "#     Da pesos a los siguientes premios para que el premio mayor (500,000) aparezca\n",
        "#     1 de cada 100 veces y el premio de 500 aparezca 70 de cada 100 veces.  Y que simule escoger\n",
        "#     5 elementos de la lista \"premio\".\n",
        "premio=[0,500,5000,500000]     \n",
        "importancia=[_,_,_,_]\n",
        "random.choices(premio,importancia, k=_)"
      ],
      "execution_count": null,
      "outputs": []
    },
    {
      "cell_type": "markdown",
      "metadata": {
        "id": "B5Zu9LPD5oAL",
        "colab_type": "text"
      },
      "source": [
        "El siguiente comando es para barajar o mezclar alguna lista. Dicho comando es **random.shuffle(lista)**. Dentro del paréntesis colocarás la lista que quieres que sea mezclada, como se ve en el Cuadro 5."
      ]
    },
    {
      "cell_type": "code",
      "metadata": {
        "id": "YtDWQsJL9wgC",
        "colab_type": "code",
        "colab": {}
      },
      "source": [
        "# CUADRO 5: Barajando una lista\n",
        "\n",
        "ordenado=[\"a\",\"b\",\"c\",\"d\",\"e\"]    \n",
        "random.shuffle(ordenado)          # Mezcla la lista \"ordenado\"\n",
        "print(ordenado)                   # Se imprime como quedó al mezclarla"
      ],
      "execution_count": null,
      "outputs": []
    },
    {
      "cell_type": "markdown",
      "metadata": {
        "id": "pVFMc1w0HG6T",
        "colab_type": "text"
      },
      "source": [
        "El único problema con el comando **random.shuffle(lista)** es que modifica la lista. Es decir, desordena la lista y ya no hay manera de recuperar el orden que tenía. ¿Se te ocurre algúna manera de solucionarlo? Intentalo en el siguiente ejercicio."
      ]
    },
    {
      "cell_type": "markdown",
      "metadata": {
        "id": "6530moxwN7mE",
        "colab_type": "text"
      },
      "source": [
        "**EJERCICIO 3:**"
      ]
    },
    {
      "cell_type": "code",
      "metadata": {
        "id": "T1DYIYrkHx4H",
        "colab_type": "code",
        "colab": {}
      },
      "source": [
        "# Modifica el siguiente código para que obtengas una lista con \n",
        "# las 5 vocales desordenadas, pero que la lista \"ordenado\" no se \n",
        "# desordene.  \n",
        "\n",
        "# PISTA: Puedes crear otras listas. El comando para copiar el valor de la\n",
        "#        lista \"a\" en la lista \"b\" es a=b.copy().\n",
        "\n",
        "ordenado=[\"a\",\"b\",\"c\",\"d\",\"e\"]\n",
        "\n",
        "random.shuffle(____)\n",
        "print(ordenado)\n",
        "print(____)"
      ],
      "execution_count": null,
      "outputs": []
    },
    {
      "cell_type": "markdown",
      "metadata": {
        "id": "ODTNspuYskDF",
        "colab_type": "text"
      },
      "source": [
        "<center> <img src=\"https://cdn.pixabay.com/photo/2016/11/04/22/55/letters-1799176_960_720.jpg\" width=\"300\" height=\"200\" align=\"center\"/></center>\n",
        "\n",
        "Si lo que queremos es seleccionar \"k\" elementos de una lista de \"n\" elementos (\"k\" debe ser menor a \"n\", o nos dirá que tenemos un error) usaremos el comando **random.sample(lista, k)**. Este comando puede servir al momento de simular una rifa, en que queremos escoger k=3 ganadores de alguna lista de 1000 participantes, o si tenemos una baraja con 52 cartas, escoger una mano de k=5 cartas."
      ]
    },
    {
      "cell_type": "code",
      "metadata": {
        "id": "LWXEEBIGRtJE",
        "colab_type": "code",
        "colab": {}
      },
      "source": [
        "# CUADRO 6: Generar los dibujos de una baraja y escoger una mano al azar\n",
        "palo = ('♠', '♡', '♢', '♣')\n",
        "valor = ('A', '2', '3', '4', '5', '6', '7', '8', '9', '10', 'J', 'Q', 'K')\n",
        "baraja=[None]*52\t\t\t\t\t\t\t\t# Una lista donde guardaremos los dibujitos de la baraja\n",
        "\t\t\t\t\t\n",
        "for i in range(4):\t\t\t\t\t\t\t# Ciclo para escoger sobre los diferentes \"palos\"\n",
        "\tfor j in range(13):\t\t\t\t\t\t# Ciclo para escoger sobre los diferentes \"valores\"\n",
        "\t\tbaraja[i*13+j] = palo[i]+' '+valor[j]\t\t\t# Asignamos figuras a cada elemento de la baraja\n",
        "\t\t\n",
        "random.sample(baraja, k=1)\t\t\t\t\t# Escogemos al azar 5 cartas (Prueba cambiando \"k\")"
      ],
      "execution_count": null,
      "outputs": []
    },
    {
      "cell_type": "code",
      "metadata": {
        "id": "25CljjAMd27V",
        "colab_type": "code",
        "colab": {}
      },
      "source": [
        "print(baraja)"
      ],
      "execution_count": null,
      "outputs": []
    },
    {
      "cell_type": "markdown",
      "metadata": {
        "id": "vXkI2aqt_tSo",
        "colab_type": "text"
      },
      "source": [
        "Recordando el **EJERCICIO 3:** Con el nuevo comando **random.sample(lista, k=None)** podemos obtener una mezcla de una lista sin modificar la lista, como pueden ver en la siguiente celda\n",
        "\n"
      ]
    },
    {
      "cell_type": "code",
      "metadata": {
        "id": "NNPKKa1wsuN2",
        "colab_type": "code",
        "colab": {}
      },
      "source": [
        "# CUADRO 7: Otro modo de resolver el EJERCICIO 3\n",
        "\n",
        "orden=[1,2,3,4,5,6]\n",
        "\n",
        "desorden=random.sample(orden, k=len(orden))      # Una mezcla de la lista \"orden\"\n",
        "\n",
        "print(orden)                    #Imprimimos las 2 listas para ver que la otra cambia pero \"orden\" se mantiene igual\n",
        "print(desorden)"
      ],
      "execution_count": null,
      "outputs": []
    },
    {
      "cell_type": "markdown",
      "metadata": {
        "id": "zQ8awlrgBxxO",
        "colab_type": "text"
      },
      "source": [
        "<center> <img src=\"https://cdn.pixabay.com/photo/2019/10/01/13/03/casino-4518183_960_720.jpg\" width=\"300\" height=\"200\" align=\"center\"/></center>\n",
        "\n",
        "\n",
        "Las siguientes 2 celdas son para recordar el EJERCICIO 1 y que vean una forma diferente de solucionarlo, lo importante es ver que se utiliza el Booleano **True** y el comando **break**."
      ]
    },
    {
      "cell_type": "code",
      "metadata": {
        "id": "m2hHJe9jE27M",
        "colab_type": "code",
        "colab": {}
      },
      "source": [
        "# CUADRO 8: Recordemos la respuesta del EJERCICIO 1\n",
        "\n",
        "deseado=int(input(\"¿Qué número deseas? \"))\n",
        "dado=-1                               #<------  No te preocupes, este índice aparece para que al\n",
        "while deseado!=dado:                  # inicio ningún dado sea igual al que darás en input() \n",
        "  dado=random.randint(1,6)\n",
        "  print(\"Resultado del dado: \",dado)"
      ],
      "execution_count": null,
      "outputs": []
    },
    {
      "cell_type": "code",
      "metadata": {
        "id": "NNkp-qWOw98F",
        "colab_type": "code",
        "colab": {}
      },
      "source": [
        "# CUADRO 9: Podemos hacerlo de otra manera\n",
        "\n",
        "deseado=int(input(\"¿Qué número deseas? \"))\n",
        "while True:                                    # El ciclo comienza y siempre continuará porque la condición siempre es verdadera\n",
        "    dado=random.randint(1,6)                   # Linea identica\n",
        "    print(\"Resultado del dado: \",dado)         # Linea identica\n",
        "    if dado==deseado:                 # Si la comparación nos da un valor verdadero, ejecuta la siguiente linea\n",
        "        break                         # Terminará el ciclo"
      ],
      "execution_count": null,
      "outputs": []
    },
    {
      "cell_type": "markdown",
      "metadata": {
        "id": "9yof1ciMwHK8",
        "colab_type": "text"
      },
      "source": [
        "**EJERCICIO 4**"
      ]
    },
    {
      "cell_type": "code",
      "metadata": {
        "id": "HO-ezmiHwJQT",
        "colab_type": "code",
        "colab": {}
      },
      "source": [
        "#Edita el juego del CUADRO 9 para que diga el número de intentos que se lanzó el dado hasta obtener el número deseado\n",
        "\n",
        "deseado=int(input(\"¿Qué número deseas? \"))\n",
        "c=____\n",
        "while True:                                     # Recuerda, como la condición siempre es verdadera, el ciclo se cumplirá hasta que lo rompamos\n",
        "    dado=random.randint(1,6)\n",
        "    print(\"Resultado del dado: \",dado)\n",
        "    ____\n",
        "    if dado==deseado:\n",
        "        print(____)\n",
        "        break                                   # Al cumplirse la condicón del \"if\", imprimirá algo y cortará el ciclo con \"break\"\n"
      ],
      "execution_count": null,
      "outputs": []
    },
    {
      "cell_type": "markdown",
      "metadata": {
        "id": "7lx2unHsGAtr",
        "colab_type": "text"
      },
      "source": [
        "**EJERCICIO 5***"
      ]
    },
    {
      "cell_type": "code",
      "metadata": {
        "id": "b4iZDS9IGMUj",
        "colab_type": "code",
        "colab": {}
      },
      "source": [
        "#Simule \"n\" lanzamientos de dos dados, el usuario escogerá la \"n\". Muestra cuantas veces los dados tuvieron el mismo resultado y\n",
        "# además que nos muestre (imprima) cuales fueron los resultados de todos los lanzamientos.\n",
        "\n",
        "n=int(input(\"Número de lanzamientos que quieres:  \"))             #Recordemos que la función int() toma la cadena del input y lo convierte en variable tipo integer\n",
        "c=0                                                               #Aquí la c es para el conteo de las veces que los dados tuvieron el mismo resultado\n",
        "for i in range(n):\n",
        "        ...\n",
        "        ...\n",
        "print(\"...\")"
      ],
      "execution_count": null,
      "outputs": []
    },
    {
      "cell_type": "markdown",
      "metadata": {
        "id": "hmAAZyWhHvNt",
        "colab_type": "text"
      },
      "source": [
        "Ahora hagamos un pequeño juego. Simular \"n\" lanzamientos de un juego con un dado con estas reglas:\n",
        "Si sale 5 en el dado el jugador gana 3,000 pesos, si sale 3 gana 1,000 pesos, si sale 1 no pierde ni gana y si sale 2,4,6  pierde 2,000 pesos. Ejecuten el código varias veces. ¿Notan algo? "
      ]
    },
    {
      "cell_type": "code",
      "metadata": {
        "id": "EHVidBqcL10h",
        "colab_type": "code",
        "colab": {}
      },
      "source": [
        "# CUADRO 10: Juego de dados\n",
        "\n",
        "credito=0\n",
        "n=int(input(\"Cuántas veces quieres tirar al dado?:  \"))\n",
        "for i in range(n):\n",
        "    dado=random.randint(1,6)            # La simulación del lanzamiento\n",
        "    if dado==5:\n",
        "        credito=credito+3000           # Al crédito actual se le suman los 3000 ganados\n",
        "        print(\"Ganaste $3000\")\n",
        "    elif dado==3:\n",
        "        credito=credito+1000            # Al crédito actual se le suman los 1000 ganados\n",
        "        print(\"Ganaste $1000\")\n",
        "    elif dado==1:\n",
        "        print(\"Siga participando\")\n",
        "    elif dado==2 or dado==4 or dado==6:\n",
        "        credito=credito-2000\n",
        "        print(\"Perdiste $2000\")           # Al crédito actual se le restan los 2000 perdidos\n",
        "print(\"Ganancia final: $\",credito)"
      ],
      "execution_count": null,
      "outputs": []
    },
    {
      "cell_type": "markdown",
      "metadata": {
        "id": "B1v4HOBJe1x5",
        "colab_type": "text"
      },
      "source": [
        "Si ejecutaron el código anterior varias veces y con números de lanzamientos \"grandes\" (de mas de 30 veces) habrán notado que es muy dificíl finalizar con una ganancia. A continuación veremos una herramienta que nos sirve para saber si es conveniente jugar a algún juego de azar. \n",
        "\n",
        "La función **esperanza(ganancia,probabilidades)** nos dará un número. El argumento **ganancia** será una lista con los premios de un juego, el argumento **probabilidades** será una lista de las probabilidades (o pesos) de obtener la ganancia que esté en la misma posición de la lista **ganancia**."
      ]
    },
    {
      "cell_type": "code",
      "metadata": {
        "id": "oLhXbJ8Sdpe5",
        "colab_type": "code",
        "cellView": "code",
        "colab": {}
      },
      "source": [
        "# Calculadora de \"Esperanza\" o de \"Valor Esperado\": Es una función artificial que podemos construir, recuerden la sesión 1.\n",
        "\n",
        "def esperanza(premio, pesos):\n",
        "  valor=0\n",
        "  total=0\n",
        "  for i in range(len(pesos)):\n",
        "    total=total+pesos[i]               # En este ciclo solo se suman los pesos que le dimos (si le dimos probabilidades esto dará 1)\n",
        "  for i in range(len(premio)):\n",
        "    valor= valor + premio[i]*pesos[i]/total   # En este ciclo se multiplica el valor de (premio)*(posibilidad de ganar ese premio) y se suman,\n",
        "                                              # que es como se calcula la esperanza\n",
        "  return valor"
      ],
      "execution_count": null,
      "outputs": []
    },
    {
      "cell_type": "code",
      "metadata": {
        "id": "Dl9CRj_VZBbc",
        "colab_type": "code",
        "colab": {}
      },
      "source": [
        "# CUADRO 11: Ejemplo de \"Valor Esperado\"\n",
        "\n",
        "esperanza([-2000,0,1000,3000],[3,1,1,1])\n",
        "\n",
        "# La primer lista son los premios que entregamos en el juego y en la segunda va la posibilidad de que aparezca dicho premio\n",
        "#       -$2000 ---------- si aparece 2,4 o 6 (aparece 3 de cada 6 veces)\n",
        "#        $   0 ---------- si aparece 1 (aparece 1 de cada 6 veces)\n",
        "#        $1000 ---------- si aparece 3 (aparece 1 de cada 6 veces)\n",
        "#        $3000 ---------- si aparece 5 (aparece 1 de cada 6 veces)"
      ],
      "execution_count": null,
      "outputs": []
    },
    {
      "cell_type": "markdown",
      "metadata": {
        "id": "vBkSkS-wHntr",
        "colab_type": "text"
      },
      "source": [
        "Te preguntarás, ¿porque es importante el Valor Esperado al hablar de un juego? \n",
        "\n",
        "Es muy importante porque **si el Valor Esperado es cero**, significa que es un juego justo, tienes la misma oportunidad de ganar que de perder.\n",
        "\n",
        "**Si el Valor Esperado es negativo** significa que es mas probable que a la larga perdamos dinero, lo cual es conveniente para el dueño del casino.\n",
        "\n",
        "**Si el Valor Esperado es positivo** significa que tenemos mas oportunidad de salir ganando a la larga, entonces nos conviene seguir jugando hasta hacernos ricos."
      ]
    },
    {
      "cell_type": "markdown",
      "metadata": {
        "id": "w5TE_HeyIqR8",
        "colab_type": "text"
      },
      "source": [
        "**EJERCICIO 6:** "
      ]
    },
    {
      "cell_type": "code",
      "metadata": {
        "id": "VmjsiwdpIl7z",
        "colab_type": "code",
        "colab": {}
      },
      "source": [
        "# En el cuadro 10 vimos que la esperanza del juego era negativa, modifica los premios o los pesos para que sea un juego justo (con Valor Esperado = 0).\n",
        "\n",
        "esperanza([-2000,0,1000,3000],[3,1,1,1])"
      ],
      "execution_count": null,
      "outputs": []
    },
    {
      "cell_type": "markdown",
      "metadata": {
        "id": "pKxmItdnu1aD",
        "colab_type": "text"
      },
      "source": [
        "Queremos mejorar el juego de adivina mi número, ahora que sea del 1 al 100, pero dando pistas, juega un poco con el para comprender el código."
      ]
    },
    {
      "cell_type": "code",
      "metadata": {
        "id": "h0ykW4-GvAeK",
        "colab_type": "code",
        "colab": {}
      },
      "source": [
        "print(\"Adivina mi número. Pista: es un número entero del 1 al 100\")\n",
        "minumero=random.randint(1,100)\n",
        "while True:\n",
        "    numero=int(input(\"Dame un número: \"))                           #Aquí se le pide cada vez al usuario un número para adivinar\n",
        "    if numero>minumero:\n",
        "        print(\"Mi número es menor a \", numero)\n",
        "    elif numero<minumero:\n",
        "        print(\"Mi número es mayor a \", numero)\n",
        "    else:                                                           #Aquí el else representa el caso que queda, es decir numero==minumero\n",
        "        print(\"Perfecto!!! Ese es mi número.\")\n",
        "        break                                                       #Cuando se adivina queremos salir del ciclo con el Break"
      ],
      "execution_count": null,
      "outputs": []
    },
    {
      "cell_type": "markdown",
      "metadata": {
        "id": "dveae4NWxwQZ",
        "colab_type": "text"
      },
      "source": [
        "**EJERCICIO 7:**"
      ]
    },
    {
      "cell_type": "code",
      "metadata": {
        "id": "m_gp0ILMxsXh",
        "colab_type": "code",
        "colab": {}
      },
      "source": [
        "## Modifica el juego anterior para que el jugador sólo tenga 5 turnos \n",
        "\n",
        "print(\"Adivina mi número. Pista: es un número entero del 1 al 100. \\n!!!Tienes 5!!!\")       #Aquí \\n hace que tengamos un salto de renglón en el print\n",
        "minumero=random.randint(1,100)\n",
        "_____\n",
        "while _____:\n",
        "    turnos -= 1                                                                             #turnos -= 1 es la forma corta de poner turnos=turnos-1\n",
        "    numero=int(input(\"Dame un número: \"))\n",
        "    if numero>minumero:\n",
        "        print(\"Mi número es menor a \", numero)\n",
        "    elif numero<minumero:\n",
        "        print(\"Mi número es mayor a \", numero)\n",
        "    else:\n",
        "        print(\"Perfecto!!! Ese es mi número.\")\n",
        "        ____\n",
        "    if turnos==0:\n",
        "        print(\"______ \", minumero)                                                    #Queremos que imprima una despedida al quedarte sin turnos\n",
        "        "
      ],
      "execution_count": null,
      "outputs": []
    },
    {
      "cell_type": "markdown",
      "metadata": {
        "id": "GI_6mOVhv02h",
        "colab_type": "text"
      },
      "source": [
        "<center> <img src=\"https://cdn.pixabay.com/photo/2018/06/22/17/54/casino-3491252_960_720.jpg\" width=\"500\" height=\"200\" align=\"center\"/></center>\n",
        "\n",
        "Queremos hacer el traga monedas común en un casino \n",
        "\n",
        "*   La caja te da $\\$20$ si obtienes los tres números iguales\n",
        "*   La caja te da $\\$10$ si obtienes dos números iguales\n"
      ]
    },
    {
      "cell_type": "code",
      "metadata": {
        "id": "ay3XDFzvzsXP",
        "colab_type": "code",
        "colab": {}
      },
      "source": [
        "import time                                               #Importamos este modulo para hacer una pausas en nuestro codigo    \n",
        "\n",
        "monedas=int(input(\"¿Cuantas monedas tienes?: \"))\n",
        "\n",
        "caja = 100\n",
        "tercia = 0\n",
        "par = 0\n",
        "turno = 0 \n",
        "jugar=True\n",
        "\n",
        "while (monedas>=5 and caja>=20 and jugar==True):                         #Aquí el usuario podrá jugar siempre que la caja tenga 20 ya que es el premio de la tercia y el usuario 5 ya que es el costo para jugarturno = turno + 1\n",
        "  monedas = monedas - 5\n",
        "  caja = caja + 5\n",
        "  turno=turno + 1\n",
        "\n",
        "  # Números al azar\n",
        "  a = random.randint(1,7)\n",
        "  print(a,'  ', end= '')                                 #El comando end='' en print nos ayuda a imprimir en la misma línea lo del siguiente print  \n",
        "  time.sleep(0.5)                                        #Aquí pedimos que python detenga 0.5 segundos la ejecución \n",
        "  b = random.randint(1,7)\n",
        "  print(b,'  ', end= '')\n",
        "  time.sleep(0.5)\n",
        "  c = random.randint(1,7)\n",
        "  print(c)\n",
        "  time.sleep(2)\n",
        "    \n",
        "\n",
        "  if (a==b and b==c and c==a):                          #Aquí el if es para el caso de tercia y te da 20 monedas de la caja\n",
        "    caja = caja - 20\n",
        "    monedas = monedas + 20\n",
        "    tercia = tercia + 1\n",
        "  elif (a==b or b==c or c==a):                          #Aquí considera todas las posibilidades de obtener pares y te da 10 monedas de la caja \n",
        "    caja = caja - 10\n",
        "    monedas = monedas + 10\n",
        "    par = par + 1\n",
        "  print(\"Tienes \", monedas, \" monedas\")\n",
        "  resp=input(\"Quieres volver a jugar? \")\n",
        "  if resp=='si' or resp=='s':\n",
        "    jugar=True\n",
        "  else:\n",
        "    jugar=False\n",
        "\n",
        "# SALIDA\n",
        "print(\"Turnos jugados: \", turno)\n",
        "print(\"Tercias: \", tercia)\n",
        "print(\"Pares: \", par)\n",
        "print(\"Te quedan \", monedas, \" monedas\")"
      ],
      "execution_count": null,
      "outputs": []
    },
    {
      "cell_type": "markdown",
      "metadata": {
        "id": "Y7qJbUS7bX6R",
        "colab_type": "text"
      },
      "source": [
        "**EJERCICIO 8*:** "
      ]
    },
    {
      "cell_type": "code",
      "metadata": {
        "id": "YPqwdZxmbYTz",
        "colab_type": "code",
        "colab": {}
      },
      "source": [
        "# Calcula el valor esperado del juego de tragamonedas.\n",
        "# ¿Se te ocurre alguna manera de hacerlo mas justo?\n",
        "\n",
        "# PISTA: ¿Como se calcula la posibilidad de que apareza una tercia?¿Cuales son todos los posibles resultados de la máquina?\n",
        "\n",
        "esperanza([___,___,-5],[______,______,______])"
      ],
      "execution_count": null,
      "outputs": []
    },
    {
      "cell_type": "markdown",
      "metadata": {
        "id": "YGOW6VjCRwuN",
        "colab_type": "text"
      },
      "source": [
        "### **TAREA 1:** \n",
        "Modifica el codigo anterior del traga monedas para que se tomen al azar elementos de la siguiente lista y además que de un premio diferente (puede ser de $100) si obtienes la tercia \"7\".\n",
        "\n",
        "`ITEMS = [\"CEREZA\", \"LIMON\", \"NARANJA\", \"SANDIA\", \"CAMPANA\", \"BAR\", \"7\"]`"
      ]
    },
    {
      "cell_type": "markdown",
      "metadata": {
        "id": "j2xSlezjv68a",
        "colab_type": "text"
      },
      "source": [
        "## **Variables Aleatorias**\n",
        "Cuando vemos el lanzamiento de un dado o una moneda pensamos en ejemplos de variables aleatorias discretas. Finalmente veremos como tomar una muestra de una variable aleatoria continua, por ejemplo:\n",
        "\n",
        "*   Uniforme Continua: `random.uniform(a, b)` \n",
        "*   Normal: `random.normalvariate(mu,sigma)`\n",
        "*   Exponencial: `random.expovariate(lambda)` #Aquí la media de la distribución es 1/lambda\n"
      ]
    },
    {
      "cell_type": "markdown",
      "metadata": {
        "id": "PLsfwcXFJvbb",
        "colab_type": "text"
      },
      "source": [
        "Si queremos una muestra basta con usar la paquetería numpy para obtener un array\n",
        "\n",
        "\n",
        "*   `numpy.random.normal(0,1,size=(r,s))` #obtenemos un arreglo de r renglones y s columnas\n",
        "*   `numpy.random.exponential(beta,size=(r,s))` Aquí beta=1/lambda es la media \n",
        "*   `numpy.random.uniform(a,b,size=(r,s))`\n",
        "\n",
        "**Recordemos**: de la sesión pasada que `numpy.random.randn(n)` nos ofrece una muestra de tamaño $n$ de la distribución normal estándar.\n",
        "\n"
      ]
    },
    {
      "cell_type": "code",
      "metadata": {
        "id": "zMcyTNKPKVyq",
        "colab_type": "code",
        "colab": {}
      },
      "source": [
        "#Para visualizar lo anterior tomemos dos muestras\n",
        "\n",
        "import matplotlib.pyplot as plt\n",
        "import numpy\n",
        "\n",
        "x1=numpy.random.normal(0,4,100)\n",
        "x2=numpy.random.normal(0,4,1000)\n",
        "\n",
        "fig, axs = plt.subplots(1,2,figsize=(10,5))\n",
        "# Primera gráfica\n",
        "axs[0].hist(x1, bins=30)\n",
        "# Etiquetas de los ejes \n",
        "axs[0].set_title('Histograma con 100 muestras', c= \"red\", fontsize = 16)#fontsize cambia el tamaño de la letra\n",
        "# Segunda gráfica\n",
        "axs[1].hist(x2, bins=30)\n",
        "# Nombre de los ejes y título \n",
        "axs[1].set_title('Histograma con 1000 muestras', c= \"red\", fontsize = 16)#fontsize cambia el tamaño de la letra\n",
        "# Título de toda la figura\n",
        "fig.suptitle('Histogramas', fontsize = 20, color = 'navy') \n",
        "plt.show()\n",
        "\n"
      ],
      "execution_count": null,
      "outputs": []
    },
    {
      "cell_type": "markdown",
      "metadata": {
        "id": "soxkpaNPLddC",
        "colab_type": "text"
      },
      "source": [
        "**EJERCICIO 9**\n",
        "Tu turno, realiza los histogramas para tres muestras de una distribución exponencial."
      ]
    },
    {
      "cell_type": "code",
      "metadata": {
        "id": "5pYlcrqTZpU-",
        "colab_type": "code",
        "colab": {}
      },
      "source": [
        "# Realiza los histogramas para una muestra de 50, 500, 1000 para una distribución exponencial con media 5.\n",
        "#Para x1, x2 y x3 da las muestras\n",
        "x1=____\n",
        "x2=____\n",
        "x3=____\n",
        "fig, axs = plt.subplots(1,3,figsize=(20,5))\n",
        "# Primera gráfica\n",
        "axs[0].hist(____, bins=30)\n",
        "# Etiquetas de los ejes \n",
        "axs[0].set_title('____', c= \"red\", fontsize = 16)#fontsize cambia el tamaño de la letra\n",
        "# Segunda gráfica\n",
        "axs[1].hist(____, bins=30)\n",
        "# Nombre de los ejes y título \n",
        "axs[1].set_title('____', c= \"red\", fontsize = 16)#fontsize cambia el tamaño de la letra\n",
        "# Tercera gráfica\n",
        "axs[2].hist(____, bins=30)\n",
        "# Nombre de los ejes y título \n",
        "axs[2].set_title('___', c= \"red\", fontsize = 16)#fontsize cambia el tamaño de la letra\n",
        "# Título de toda la figura\n",
        "fig.suptitle('____', fontsize = 20, color = 'navy') \n",
        "plt.show()\n",
        "\n"
      ],
      "execution_count": null,
      "outputs": []
    },
    {
      "cell_type": "markdown",
      "metadata": {
        "id": "kmZnUAvMuMd_",
        "colab_type": "text"
      },
      "source": [
        "### **TAREA 2:** \n",
        "Edita el juego del ahorcado de la primera sesión para que la palabra para adivinar en el juego sea tomada al azar de la siguiente lista:\n",
        "\n",
        "`palabrasdelahorcado=[\"pyhton\",\"ahorcado\",\"estudiante\",\"programacion\",\"codigo\",\"jugando\",\"random\",\"lista\",\"profesor\"]`"
      ]
    },
    {
      "cell_type": "code",
      "metadata": {
        "id": "7cfU7CwuYcEL",
        "colab_type": "code",
        "colab": {}
      },
      "source": [
        "import time              #importamos el módulo time\n",
        "\n",
        "#Bienvenida para el usuario.\n",
        "nombre = input(\"Cual es tu nombre? \")\n",
        "\n",
        "print(\"Hola, \" + nombre, \"Vamos a jugar al ahorcado!\")\n",
        "\n",
        "print(\" \")\n",
        "\n",
        "#Hacemos una pausa de un segundo.\n",
        "time.sleep(1)\n",
        "\n",
        "print(\"Empecemos a adivinar...\")\n",
        "time.sleep(0.5)\n",
        "\n",
        "#Aqui debemos cambiar para que la palabra sea tomada al azar de la lista \n",
        "palabra = _____\n",
        "\n",
        "#creamos una variable con una cadena vacia\n",
        "aciertos = ''\n",
        "\n",
        "#determinamos el numero de turnos\n",
        "turnos = 10\n",
        "\n",
        "# Creamos un loop while\n",
        "\n",
        "#revisamos que los turnos sean mayores que cero.\n",
        "while turnos > 0:         \n",
        "\n",
        "    # empezamos a contar el numero de fallas\n",
        "    fallas = 0             \n",
        "\n",
        "    # para toda letra en la palabra secreta   \n",
        "    for letra in palabra:      \n",
        "\n",
        "    # vemos si la letra esta dentro de las que el jugardor ya adivino\n",
        "        if letra in aciertos:    \n",
        "    \n",
        "        # imprimimos la letra\n",
        "            print(letra, end= '')           # El comando --- end= '' --- es solo para evitar el salto de linea\n",
        "\n",
        "        else:\n",
        "    \n",
        "        # si no ponemos un guion bajo.\n",
        "            print(\" _ \", end= '')\n",
        "       \n",
        "        # e incrementamos el numero de fallas\n",
        "            fallas += 1    \n",
        "\n",
        "    # si las fallas son iguales a cero\n",
        "\n",
        "    # Imprimimos que el usuario gano.\n",
        "    if fallas == 0:\n",
        "        print(\" \")      \n",
        "        print(\"Ganaste! Sigue aprendiendo Python con nosotros!\")\n",
        "\n",
        "    # terminamos el programa\n",
        "        break              \n",
        "\n",
        "    print(\"\")\n",
        "\n",
        "    # Le pedimos al usuario adivinar una letra\n",
        "    letra = input(\"Adivina una letra:\") \n",
        "\n",
        "    # agregamos la letra a los aciertos\n",
        "    aciertos += letra                    \n",
        "\n",
        "    # si la letra no esta en la palabra secreta\n",
        "    if letra not in palabra:  \n",
        " \n",
        "     # hacemos que pierna un turno 1 (ahora 9)\n",
        "        turnos -= 1        \n",
        " \n",
        "    # imprimimos error\n",
        "        print(\" \")\n",
        "        print(\"Letra incorrecta. Sigue intentándolo y verás que lo lograrás.\")    \n",
        " \n",
        "    # le mostramos al usuario cuantos turnos le quedan\n",
        "        print(\"Te quedan\",  turnos, 'turnos mas.')\n",
        " \n",
        "    # si los turnos se acaban\n",
        "        if turnos == 0:           \n",
        "    \n",
        "        # imprimimos que perdio.\n",
        "            print(\" \")\n",
        "            print(\"Lo sentimos, se te acabaron los turnos. Pero no dejes de aprender Python!\")"
      ],
      "execution_count": null,
      "outputs": []
    }
  ]
}